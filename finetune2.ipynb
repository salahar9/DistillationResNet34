{
 "cells": [
  {
   "cell_type": "code",
   "execution_count": 1,
   "id": "f00e04a6",
   "metadata": {
    "_cell_guid": "b1076dfc-b9ad-4769-8c92-a6c4dae69d19",
    "_uuid": "8f2839f25d086af736a60e9eeb907d3b93b6e0e5",
    "execution": {
     "iopub.execute_input": "2025-07-06T23:12:22.509685Z",
     "iopub.status.busy": "2025-07-06T23:12:22.509364Z",
     "iopub.status.idle": "2025-07-06T23:12:23.875971Z",
     "shell.execute_reply": "2025-07-06T23:12:23.875097Z"
    },
    "papermill": {
     "duration": 1.372808,
     "end_time": "2025-07-06T23:12:23.877261",
     "exception": false,
     "start_time": "2025-07-06T23:12:22.504453",
     "status": "completed"
    },
    "tags": []
   },
   "outputs": [
    {
     "name": "stdout",
     "output_type": "stream",
     "text": [
      "/kaggle/input/studentcnn/pytorch/default/1/model (4).pth\n"
     ]
    }
   ],
   "source": [
    "# This Python 3 environment comes with many helpful analytics libraries installed\n",
    "# It is defined by the kaggle/python Docker image: https://github.com/kaggle/docker-python\n",
    "# For example, here's several helpful packages to load\n",
    "\n",
    "import numpy as np # linear algebra\n",
    "import pandas as pd # data processing, CSV file I/O (e.g. pd.read_csv)\n",
    "\n",
    "# Input data files are available in the read-only \"../input/\" directory\n",
    "# For example, running this (by clicking run or pressing Shift+Enter) will list all files under the input directory\n",
    "\n",
    "import os\n",
    "for dirname, _, filenames in os.walk('/kaggle/input'):\n",
    "    for filename in filenames:\n",
    "        print(os.path.join(dirname, filename))\n",
    "\n",
    "# You can write up to 20GB to the current directory (/kaggle/working/) that gets preserved as output when you create a version using \"Save & Run All\" \n",
    "# You can also write temporary files to /kaggle/temp/, but they won't be saved outside of the current session"
   ]
  },
  {
   "cell_type": "code",
   "execution_count": 2,
   "id": "c74db702",
   "metadata": {
    "execution": {
     "iopub.execute_input": "2025-07-06T23:12:23.884827Z",
     "iopub.status.busy": "2025-07-06T23:12:23.884215Z",
     "iopub.status.idle": "2025-07-06T23:13:45.979501Z",
     "shell.execute_reply": "2025-07-06T23:13:45.978770Z"
    },
    "papermill": {
     "duration": 82.100624,
     "end_time": "2025-07-06T23:13:45.981245",
     "exception": false,
     "start_time": "2025-07-06T23:12:23.880621",
     "status": "completed"
    },
    "tags": []
   },
   "outputs": [
    {
     "name": "stdout",
     "output_type": "stream",
     "text": [
      "\u001b[2K   \u001b[90m━━━━━━━━━━━━━━━━━━━━━━━━━━━━━━━━━━━━━━━━\u001b[0m \u001b[32m616.8/616.8 kB\u001b[0m \u001b[31m2.5 MB/s\u001b[0m eta \u001b[36m0:00:00\u001b[0m\r\n",
      "\u001b[2K   \u001b[90m━━━━━━━━━━━━━━━━━━━━━━━━━━━━━━━━━━━━━━━━\u001b[0m \u001b[32m363.4/363.4 MB\u001b[0m \u001b[31m4.9 MB/s\u001b[0m eta \u001b[36m0:00:00\u001b[0m\r\n",
      "\u001b[2K   \u001b[90m━━━━━━━━━━━━━━━━━━━━━━━━━━━━━━━━━━━━━━━━\u001b[0m \u001b[32m664.8/664.8 MB\u001b[0m \u001b[31m2.5 MB/s\u001b[0m eta \u001b[36m0:00:00\u001b[0m\r\n",
      "\u001b[2K   \u001b[90m━━━━━━━━━━━━━━━━━━━━━━━━━━━━━━━━━━━━━━━━\u001b[0m \u001b[32m211.5/211.5 MB\u001b[0m \u001b[31m4.7 MB/s\u001b[0m eta \u001b[36m0:00:00\u001b[0m\r\n",
      "\u001b[2K   \u001b[90m━━━━━━━━━━━━━━━━━━━━━━━━━━━━━━━━━━━━━━━━\u001b[0m \u001b[32m56.3/56.3 MB\u001b[0m \u001b[31m30.6 MB/s\u001b[0m eta \u001b[36m0:00:00\u001b[0m\r\n",
      "\u001b[2K   \u001b[90m━━━━━━━━━━━━━━━━━━━━━━━━━━━━━━━━━━━━━━━━\u001b[0m \u001b[32m127.9/127.9 MB\u001b[0m \u001b[31m9.9 MB/s\u001b[0m eta \u001b[36m0:00:00\u001b[0m\r\n",
      "\u001b[2K   \u001b[90m━━━━━━━━━━━━━━━━━━━━━━━━━━━━━━━━━━━━━━━━\u001b[0m \u001b[32m207.5/207.5 MB\u001b[0m \u001b[31m2.4 MB/s\u001b[0m eta \u001b[36m0:00:00\u001b[0m\r\n",
      "\u001b[2K   \u001b[90m━━━━━━━━━━━━━━━━━━━━━━━━━━━━━━━━━━━━━━━━\u001b[0m \u001b[32m21.1/21.1 MB\u001b[0m \u001b[31m90.5 MB/s\u001b[0m eta \u001b[36m0:00:00\u001b[0m\r\n",
      "\u001b[2K   \u001b[90m━━━━━━━━━━━━━━━━━━━━━━━━━━━━━━━━━━━━━━━━\u001b[0m \u001b[32m31.3/31.3 MB\u001b[0m \u001b[31m57.9 MB/s\u001b[0m eta \u001b[36m0:00:00\u001b[0m\r\n",
      "\u001b[2K   \u001b[90m━━━━━━━━━━━━━━━━━━━━━━━━━━━━━━━━━━━━━━━━\u001b[0m \u001b[32m126.2/126.2 kB\u001b[0m \u001b[31m6.6 MB/s\u001b[0m eta \u001b[36m0:00:00\u001b[0m\r\n",
      "\u001b[2K   \u001b[90m━━━━━━━━━━━━━━━━━━━━━━━━━━━━━━━━━━━━━━━━\u001b[0m \u001b[32m78.8/78.8 kB\u001b[0m \u001b[31m5.7 MB/s\u001b[0m eta \u001b[36m0:00:00\u001b[0m\r\n",
      "\u001b[?25h"
     ]
    }
   ],
   "source": [
    "!pip install detectors -q"
   ]
  },
  {
   "cell_type": "code",
   "execution_count": 3,
   "id": "8ba2288d",
   "metadata": {
    "execution": {
     "iopub.execute_input": "2025-07-06T23:13:46.032237Z",
     "iopub.status.busy": "2025-07-06T23:13:46.031881Z",
     "iopub.status.idle": "2025-07-06T23:13:53.998099Z",
     "shell.execute_reply": "2025-07-06T23:13:53.997443Z"
    },
    "papermill": {
     "duration": 7.99384,
     "end_time": "2025-07-06T23:13:53.999463",
     "exception": false,
     "start_time": "2025-07-06T23:13:46.005623",
     "status": "completed"
    },
    "tags": []
   },
   "outputs": [],
   "source": [
    "import torch\n",
    "import torch.nn as nn\n",
    "import torch.optim as optim\n",
    "import torchvision\n",
    "import torchvision.transforms as transforms\n",
    "from torch.utils.data import DataLoader\n",
    "import torch.nn.functional as F\n",
    "\n",
    "from torchvision import datasets, transforms\n",
    "from torch.utils.data import random_split, DataLoader\n"
   ]
  },
  {
   "cell_type": "code",
   "execution_count": null,
   "id": "adc91c75",
   "metadata": {
    "papermill": {
     "duration": 0.022284,
     "end_time": "2025-07-06T23:13:54.044963",
     "exception": false,
     "start_time": "2025-07-06T23:13:54.022679",
     "status": "completed"
    },
    "tags": []
   },
   "outputs": [],
   "source": []
  },
  {
   "cell_type": "code",
   "execution_count": 4,
   "id": "e75e580c",
   "metadata": {
    "execution": {
     "iopub.execute_input": "2025-07-06T23:13:54.090855Z",
     "iopub.status.busy": "2025-07-06T23:13:54.090417Z",
     "iopub.status.idle": "2025-07-06T23:14:22.039057Z",
     "shell.execute_reply": "2025-07-06T23:14:22.038330Z"
    },
    "papermill": {
     "duration": 27.973047,
     "end_time": "2025-07-06T23:14:22.040417",
     "exception": false,
     "start_time": "2025-07-06T23:13:54.067370",
     "status": "completed"
    },
    "tags": []
   },
   "outputs": [
    {
     "name": "stderr",
     "output_type": "stream",
     "text": [
      "100%|██████████| 170M/170M [00:11<00:00, 14.6MB/s]\n",
      "Downloading: \"https://huggingface.co/edadaltocg/resnet34_cifar10/resolve/main/pytorch_model.bin\" to /root/.cache/torch/hub/checkpoints/resnet34_cifar10.pth\n",
      "100%|██████████| 81.3M/81.3M [00:00<00:00, 254MB/s]\n"
     ]
    }
   ],
   "source": [
    "import torch,timm,detectors\n",
    "from torchvision import datasets, transforms\n",
    "from torch.utils.data import DataLoader\n",
    "from torch.nn import KLDivLoss\n",
    "transform = transforms.Compose([\n",
    "    transforms.Resize((32, 32)),\n",
    "    transforms.ToTensor(),\n",
    "    transforms.Normalize(mean=[0.4914, 0.4822, 0.4465],\n",
    "                         std=[0.2023, 0.1994, 0.2010])\n",
    "])\n",
    "train_dataset = datasets.CIFAR10(root='./data', train=True, download=True, transform=transform)\n",
    "train_loader = DataLoader(train_dataset, batch_size=128 , shuffle=True)\n",
    "device = torch.device(\"cuda\" if torch.cuda.is_available() else \"cpu\")\n",
    "teacher_model = timm.create_model(\"resnet34_cifar10\", pretrained=True).to(device)\n"
   ]
  },
  {
   "cell_type": "code",
   "execution_count": 5,
   "id": "d6c0b186",
   "metadata": {
    "execution": {
     "iopub.execute_input": "2025-07-06T23:14:22.093004Z",
     "iopub.status.busy": "2025-07-06T23:14:22.092200Z",
     "iopub.status.idle": "2025-07-06T23:14:22.818456Z",
     "shell.execute_reply": "2025-07-06T23:14:22.817882Z"
    },
    "papermill": {
     "duration": 0.753396,
     "end_time": "2025-07-06T23:14:22.819934",
     "exception": false,
     "start_time": "2025-07-06T23:14:22.066538",
     "status": "completed"
    },
    "tags": []
   },
   "outputs": [],
   "source": [
    "\n",
    "cifar10_test = datasets.CIFAR10(root='./data', train=False, download=True, transform=transform)\n",
    "\n",
    "# Split into validation and test sets (50/50)\n",
    "val_size = len(cifar10_test) // 2\n",
    "test_size = len(cifar10_test) - val_size\n",
    "val_set, final_test_set = random_split(cifar10_test, [val_size, test_size])\n",
    "\n",
    "val_loader = DataLoader(val_set, batch_size=128, shuffle=False)\n",
    "test_loader = DataLoader(final_test_set, batch_size=128, shuffle=False)\n"
   ]
  },
  {
   "cell_type": "code",
   "execution_count": 6,
   "id": "c654eaa0",
   "metadata": {
    "execution": {
     "iopub.execute_input": "2025-07-06T23:14:22.870328Z",
     "iopub.status.busy": "2025-07-06T23:14:22.870103Z",
     "iopub.status.idle": "2025-07-06T23:14:22.876457Z",
     "shell.execute_reply": "2025-07-06T23:14:22.875927Z"
    },
    "papermill": {
     "duration": 0.032652,
     "end_time": "2025-07-06T23:14:22.877422",
     "exception": false,
     "start_time": "2025-07-06T23:14:22.844770",
     "status": "completed"
    },
    "tags": []
   },
   "outputs": [],
   "source": [
    "import torch.nn as nn\n",
    "import torch.nn.functional as F\n",
    "\n",
    "class StudentCNN(nn.Module):\n",
    "    def __init__(self):\n",
    "        super(StudentCNN, self).__init__()\n",
    "        self.conv1 = nn.Conv2d(3, 32, 3, padding=1)\n",
    "        self.bn1 = nn.BatchNorm2d(32)\n",
    "\n",
    "        self.conv2 = nn.Conv2d(32, 64, 3, padding=1)\n",
    "        self.bn2 = nn.BatchNorm2d(64)\n",
    "\n",
    "        self.conv3 = nn.Conv2d(64, 128, 3, padding=1)\n",
    "        self.bn3 = nn.BatchNorm2d(128)\n",
    "\n",
    "        self.pool = nn.MaxPool2d(2, 2)\n",
    "        self.dropout = nn.Dropout(0.5)\n",
    "\n",
    "        self.fc1 = nn.Linear(128 * 4 * 4, 512)  # After 3 poolings: 32 → 16 → 8 → 4\n",
    "        self.fc2 = nn.Linear(512, 10)\n",
    "\n",
    "    def forward(self, x):\n",
    "        x = self.pool(F.relu(self.bn1(self.conv1(x))))  # 32x32 → 16x16\n",
    "        x = self.pool(F.relu(self.bn2(self.conv2(x))))  # 16x16 → 8x8\n",
    "        x = self.pool(F.relu(self.bn3(self.conv3(x))))  # 8x8 → 4x4\n",
    "        x = x.view(x.size(0), -1)\n",
    "        x = self.dropout(F.relu(self.fc1(x)))\n",
    "        return self.fc2(x)\n"
   ]
  },
  {
   "cell_type": "code",
   "execution_count": 7,
   "id": "1dff48e5",
   "metadata": {
    "execution": {
     "iopub.execute_input": "2025-07-06T23:14:22.927850Z",
     "iopub.status.busy": "2025-07-06T23:14:22.927569Z",
     "iopub.status.idle": "2025-07-06T23:14:22.932137Z",
     "shell.execute_reply": "2025-07-06T23:14:22.931514Z"
    },
    "papermill": {
     "duration": 0.031026,
     "end_time": "2025-07-06T23:14:22.933260",
     "exception": false,
     "start_time": "2025-07-06T23:14:22.902234",
     "status": "completed"
    },
    "tags": []
   },
   "outputs": [],
   "source": [
    "def evaluate(model, loader):\n",
    "    model.eval()\n",
    "    correct = 0\n",
    "    total = 0\n",
    "    with torch.no_grad():\n",
    "        for images, labels in loader:\n",
    "            images, labels = images.to(device), labels.to(device)\n",
    "            outputs = model(images)\n",
    "            _, predicted = torch.max(outputs, 1)\n",
    "            total += labels.size(0)\n",
    "            correct += (predicted == labels).sum().item()\n",
    "    return 100 * correct / total\n"
   ]
  },
  {
   "cell_type": "code",
   "execution_count": null,
   "id": "72b75b39",
   "metadata": {
    "papermill": {
     "duration": 0.024746,
     "end_time": "2025-07-06T23:14:23.033934",
     "exception": false,
     "start_time": "2025-07-06T23:14:23.009188",
     "status": "completed"
    },
    "tags": []
   },
   "outputs": [],
   "source": []
  },
  {
   "cell_type": "code",
   "execution_count": 8,
   "id": "67b4c082",
   "metadata": {
    "execution": {
     "iopub.execute_input": "2025-07-06T23:14:23.085035Z",
     "iopub.status.busy": "2025-07-06T23:14:23.084738Z",
     "iopub.status.idle": "2025-07-06T23:14:23.091720Z",
     "shell.execute_reply": "2025-07-06T23:14:23.091121Z"
    },
    "papermill": {
     "duration": 0.03396,
     "end_time": "2025-07-06T23:14:23.092803",
     "exception": false,
     "start_time": "2025-07-06T23:14:23.058843",
     "status": "completed"
    },
    "tags": []
   },
   "outputs": [],
   "source": [
    "def train_with_kl_and_ce(student_model, teacher_model, loader, optimizer, epochs=200, temperature=2, alpha=0.7):\n",
    "    kl_loss = nn.KLDivLoss(reduction='batchmean')\n",
    "    ce_loss = nn.CrossEntropyLoss()\n",
    "    student_model.train()\n",
    "    teacher_model.eval()\n",
    "    best_val_acc = 0\n",
    "    patience = 20\n",
    "    epochs_no_improve = 0\n",
    "    for epoch in range(epochs):\n",
    "        total_loss = 0\n",
    "        for images, labels in loader:\n",
    "            images, labels = images.to(device), labels.to(device)\n",
    "\n",
    "            with torch.no_grad():\n",
    "                teacher_logits = teacher_model(images)\n",
    "                teacher_probs = F.softmax(teacher_logits / temperature, dim=1)\n",
    "              \n",
    "            optimizer.zero_grad()\n",
    "            student_logits = student_model(images)\n",
    "\n",
    "            # KL Divergence Loss\n",
    "            student_log_probs = F.log_softmax(student_logits / temperature, dim=1)\n",
    "\n",
    "            loss_kl = kl_loss(student_log_probs, teacher_probs) * (temperature ** 2)\n",
    "\n",
    "            # Cross-Entropy Loss\n",
    "            loss_ce = ce_loss(student_logits, labels)\n",
    "\n",
    "            # Combined Loss\n",
    "            loss = alpha * loss_kl + (1 - alpha) * loss_ce\n",
    "\n",
    "            loss.backward()\n",
    "            optimizer.step()\n",
    "            total_loss += loss.item()\n",
    "        val_acc = evaluate(student_model, val_loader)\n",
    "        \n",
    "        if val_acc > best_val_acc:\n",
    "                best_val_acc = val_acc\n",
    "                epochs_no_improve = 0\n",
    "                # Save best model\n",
    "                torch.save(student_model.state_dict(), f\"best_student_model_{temperature}_{alpha*10}.pth\")\n",
    "                #print(f\"Best Modal Epoch {epoch+1}, Total Loss: {total_loss:.4f} Validation :{val_acc}\")\n",
    "        else:\n",
    "                epochs_no_improve += 1\n",
    "        \n",
    "        if epochs_no_improve >= patience:\n",
    "                #print(f\"Early stopping at epoch {epoch+1}\")\n",
    "                break\n",
    "        #print(f\"Epoch {epoch+1}, Total Loss: {total_loss:.4f} Validation :{val_acc}\")\n",
    "    return best_val_acc"
   ]
  },
  {
   "cell_type": "code",
   "execution_count": null,
   "id": "375d0cce",
   "metadata": {
    "execution": {
     "iopub.execute_input": "2025-07-06T09:30:16.522690Z",
     "iopub.status.busy": "2025-07-06T09:30:16.522475Z",
     "iopub.status.idle": "2025-07-06T09:30:16.552996Z",
     "shell.execute_reply": "2025-07-06T09:30:16.548635Z",
     "shell.execute_reply.started": "2025-07-06T09:30:16.522654Z"
    },
    "papermill": {
     "duration": 0.024903,
     "end_time": "2025-07-06T23:14:23.142533",
     "exception": false,
     "start_time": "2025-07-06T23:14:23.117630",
     "status": "completed"
    },
    "tags": []
   },
   "outputs": [],
   "source": []
  },
  {
   "cell_type": "code",
   "execution_count": 9,
   "id": "dda31cbb",
   "metadata": {
    "execution": {
     "iopub.execute_input": "2025-07-06T23:14:23.193008Z",
     "iopub.status.busy": "2025-07-06T23:14:23.192723Z",
     "iopub.status.idle": "2025-07-07T01:16:09.231577Z",
     "shell.execute_reply": "2025-07-07T01:16:09.230972Z"
    },
    "papermill": {
     "duration": 7306.06601,
     "end_time": "2025-07-07T01:16:09.233139",
     "exception": false,
     "start_time": "2025-07-06T23:14:23.167129",
     "status": "completed"
    },
    "tags": []
   },
   "outputs": [
    {
     "name": "stdout",
     "output_type": "stream",
     "text": [
      "Using temp: 2 and alpha: 0.5\n",
      "Using temp: 2 and alpha: 0.6\n",
      "Using temp: 2 and alpha: 0.7\n",
      "Using temp: 2 and alpha: 0.8\n",
      "Using temp: 2 and alpha: 0.9\n",
      "Using temp: 2 and alpha: 1\n",
      "Using temp: 3 and alpha: 0.5\n",
      "Using temp: 3 and alpha: 0.6\n",
      "Using temp: 3 and alpha: 0.7\n",
      "Using temp: 3 and alpha: 0.8\n",
      "Using temp: 3 and alpha: 0.9\n",
      "Using temp: 3 and alpha: 1\n",
      "Using temp: 4 and alpha: 0.5\n",
      "Using temp: 4 and alpha: 0.6\n",
      "Using temp: 4 and alpha: 0.7\n",
      "Using temp: 4 and alpha: 0.8\n",
      "Using temp: 4 and alpha: 0.9\n",
      "Using temp: 4 and alpha: 1\n",
      "Using temp: 5 and alpha: 0.5\n",
      "Using temp: 5 and alpha: 0.6\n",
      "Using temp: 5 and alpha: 0.7\n",
      "Using temp: 5 and alpha: 0.8\n",
      "Using temp: 5 and alpha: 0.9\n",
      "Using temp: 5 and alpha: 1\n",
      "Using temp: 6 and alpha: 0.5\n",
      "Using temp: 6 and alpha: 0.6\n",
      "Using temp: 6 and alpha: 0.7\n",
      "Using temp: 6 and alpha: 0.8\n",
      "Using temp: 6 and alpha: 0.9\n",
      "Using temp: 6 and alpha: 1\n",
      "Using temp: 7 and alpha: 0.5\n",
      "Using temp: 7 and alpha: 0.6\n",
      "Using temp: 7 and alpha: 0.7\n",
      "Using temp: 7 and alpha: 0.8\n",
      "Using temp: 7 and alpha: 0.9\n",
      "Using temp: 7 and alpha: 1\n",
      "Using temp: 8 and alpha: 0.5\n",
      "Using temp: 8 and alpha: 0.6\n",
      "Using temp: 8 and alpha: 0.7\n",
      "Using temp: 8 and alpha: 0.8\n",
      "Using temp: 8 and alpha: 0.9\n",
      "Using temp: 8 and alpha: 1\n",
      "Using temp: 9 and alpha: 0.5\n",
      "Using temp: 9 and alpha: 0.6\n",
      "Using temp: 9 and alpha: 0.7\n",
      "Using temp: 9 and alpha: 0.8\n",
      "Using temp: 9 and alpha: 0.9\n",
      "Using temp: 9 and alpha: 1\n"
     ]
    }
   ],
   "source": [
    "\n",
    "\n",
    "results = []\n",
    "\n",
    "\n",
    "temperature=list(range(2,10))\n",
    "alpha=[0.5,0.6,0.7,0.8,0.9,1]\n",
    "for t in temperature:\n",
    "    for a in alpha:\n",
    "        student_model_kl = StudentCNN()\n",
    "        student_model_kl.to(device)\n",
    "        optimizer_kl =torch.optim.Adam(student_model_kl.parameters(), lr=1e-3, weight_decay=5e-4)\n",
    "\n",
    "        print(f\"Using temp: {t} and alpha: {a}\")\n",
    "        best_val_acc = train_with_kl_and_ce(student_model_kl, teacher_model, train_loader, optimizer_kl,t,a)\n",
    "        results.append((t, a, best_val_acc))\n"
   ]
  },
  {
   "cell_type": "code",
   "execution_count": null,
   "id": "2b2d5c70",
   "metadata": {
    "execution": {
     "iopub.execute_input": "2025-07-06T23:11:31.234269Z",
     "iopub.status.busy": "2025-07-06T23:11:31.233888Z",
     "iopub.status.idle": "2025-07-06T23:11:31.239021Z",
     "shell.execute_reply": "2025-07-06T23:11:31.238232Z",
     "shell.execute_reply.started": "2025-07-06T23:11:31.234237Z"
    },
    "papermill": {
     "duration": 0.025889,
     "end_time": "2025-07-07T01:16:09.286715",
     "exception": false,
     "start_time": "2025-07-07T01:16:09.260826",
     "status": "completed"
    },
    "tags": []
   },
   "outputs": [],
   "source": []
  },
  {
   "cell_type": "code",
   "execution_count": 10,
   "id": "bce9d096",
   "metadata": {
    "execution": {
     "iopub.execute_input": "2025-07-07T01:16:09.339847Z",
     "iopub.status.busy": "2025-07-07T01:16:09.339192Z",
     "iopub.status.idle": "2025-07-07T01:16:09.612039Z",
     "shell.execute_reply": "2025-07-07T01:16:09.611500Z"
    },
    "papermill": {
     "duration": 0.300779,
     "end_time": "2025-07-07T01:16:09.613164",
     "exception": false,
     "start_time": "2025-07-07T01:16:09.312385",
     "status": "completed"
    },
    "tags": []
   },
   "outputs": [],
   "source": [
    "\n",
    "import torch\n",
    "import torch.nn as nn\n",
    "import torch.nn.functional as F\n",
    "import csv\n",
    "import pandas as pd\n",
    "import seaborn as sns\n",
    "import matplotlib.pyplot as plt\n"
   ]
  },
  {
   "cell_type": "code",
   "execution_count": 11,
   "id": "62ba25f8",
   "metadata": {
    "execution": {
     "iopub.execute_input": "2025-07-07T01:16:09.667384Z",
     "iopub.status.busy": "2025-07-07T01:16:09.667003Z",
     "iopub.status.idle": "2025-07-07T01:16:09.671526Z",
     "shell.execute_reply": "2025-07-07T01:16:09.670974Z"
    },
    "papermill": {
     "duration": 0.032431,
     "end_time": "2025-07-07T01:16:09.672588",
     "exception": false,
     "start_time": "2025-07-07T01:16:09.640157",
     "status": "completed"
    },
    "tags": []
   },
   "outputs": [],
   "source": [
    "\n",
    "with open(\"/kaggle/working/distillation_grid_search_results.csv\", \"w\", newline=\"\") as f:\n",
    "    writer = csv.writer(f)\n",
    "    writer.writerow([\"Temperature\", \"Alpha\", \"Best_Validation_Accuracy\"])\n",
    "    writer.writerows(results)\n",
    "\n"
   ]
  },
  {
   "cell_type": "code",
   "execution_count": 12,
   "id": "4da359c1",
   "metadata": {
    "execution": {
     "iopub.execute_input": "2025-07-07T01:16:09.725457Z",
     "iopub.status.busy": "2025-07-07T01:16:09.725275Z",
     "iopub.status.idle": "2025-07-07T01:16:10.214189Z",
     "shell.execute_reply": "2025-07-07T01:16:10.213564Z"
    },
    "papermill": {
     "duration": 0.51763,
     "end_time": "2025-07-07T01:16:10.216113",
     "exception": false,
     "start_time": "2025-07-07T01:16:09.698483",
     "status": "completed"
    },
    "tags": []
   },
   "outputs": [
    {
     "data": {
      "image/png": "[encoded data removed]",
      "text/plain": [
       "<Figure size 1000x600 with 2 Axes>"
      ]
     },
     "metadata": {},
     "output_type": "display_data"
    }
   ],
   "source": [
    "# Plot heatmap\n",
    "df = pd.DataFrame(results, columns=[\"Temperature\", \"Alpha\", \"Best_Validation_Accuracy\"])\n",
    "heatmap_data = df.pivot(index=\"Temperature\", columns=\"Alpha\", values=\"Best_Validation_Accuracy\")\n",
    "\n",
    "plt.figure(figsize=(10, 6))\n",
    "sns.heatmap(heatmap_data, annot=True, fmt=\".1f\", cmap=\"YlGnBu\")\n",
    "plt.title(\"Validation Accuracy Heatmap (Temperature vs Alpha)\")\n",
    "plt.savefig(\"distillation_heatmap.png\")\n",
    "plt.show()\n"
   ]
  },
  {
   "cell_type": "code",
   "execution_count": null,
   "id": "d9b47cac",
   "metadata": {
    "execution": {
     "iopub.status.busy": "2025-07-06T09:30:24.574556Z",
     "iopub.status.idle": "2025-07-06T09:30:24.575101Z",
     "shell.execute_reply": "2025-07-06T09:30:24.574740Z",
     "shell.execute_reply.started": "2025-07-06T09:30:24.574726Z"
    },
    "papermill": {
     "duration": 0.026927,
     "end_time": "2025-07-07T01:16:10.272741",
     "exception": false,
     "start_time": "2025-07-07T01:16:10.245814",
     "status": "completed"
    },
    "tags": []
   },
   "outputs": [],
   "source": []
  }
 ],
 "metadata": {
  "kaggle": {
   "accelerator": "gpu",
   "dataSources": [
    {
     "isSourceIdPinned": true,
     "modelId": 393260,
     "modelInstanceId": 372382,
     "sourceId": 459489,
     "sourceType": "modelInstanceVersion"
    }
   ],
   "dockerImageVersionId": 31041,
   "isGpuEnabled": true,
   "isInternetEnabled": true,
   "language": "python",
   "sourceType": "notebook"
  },
  "kernelspec": {
   "display_name": "Python 3",
   "language": "python",
   "name": "python3"
  },
  "language_info": {
   "codemirror_mode": {
    "name": "ipython",
    "version": 3
   },
   "file_extension": ".py",
   "mimetype": "text/x-python",
   "name": "python",
   "nbconvert_exporter": "python",
   "pygments_lexer": "ipython3",
   "version": "3.11.11"
  },
  "papermill": {
   "default_parameters": {},
   "duration": 7433.854677,
   "end_time": "2025-07-07T01:16:12.328435",
   "environment_variables": {},
   "exception": null,
   "input_path": "__notebook__.ipynb",
   "output_path": "__notebook__.ipynb",
   "parameters": {},
   "start_time": "2025-07-06T23:12:18.473758",
   "version": "2.6.0"
  }
 },
 "nbformat": 4,
 "nbformat_minor": 5
}
