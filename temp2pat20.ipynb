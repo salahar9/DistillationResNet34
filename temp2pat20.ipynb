{
 "cells": [
  {
   "cell_type": "code",
   "execution_count": 1,
   "id": "794ba276",
   "metadata": {
    "_cell_guid": "b1076dfc-b9ad-4769-8c92-a6c4dae69d19",
    "_uuid": "8f2839f25d086af736a60e9eeb907d3b93b6e0e5",
    "execution": {
     "iopub.execute_input": "2025-07-05T19:15:23.360126Z",
     "iopub.status.busy": "2025-07-05T19:15:23.359517Z",
     "iopub.status.idle": "2025-07-05T19:15:24.825571Z",
     "shell.execute_reply": "2025-07-05T19:15:24.824700Z"
    },
    "papermill": {
     "duration": 1.470906,
     "end_time": "2025-07-05T19:15:24.826788",
     "exception": false,
     "start_time": "2025-07-05T19:15:23.355882",
     "status": "completed"
    },
    "tags": []
   },
   "outputs": [
    {
     "name": "stdout",
     "output_type": "stream",
     "text": [
      "/kaggle/input/studentcnn/pytorch/default/1/model (4).pth\n"
     ]
    }
   ],
   "source": [
    "# This Python 3 environment comes with many helpful analytics libraries installed\n",
    "# It is defined by the kaggle/python Docker image: https://github.com/kaggle/docker-python\n",
    "# For example, here's several helpful packages to load\n",
    "\n",
    "import numpy as np # linear algebra\n",
    "import pandas as pd # data processing, CSV file I/O (e.g. pd.read_csv)\n",
    "\n",
    "# Input data files are available in the read-only \"../input/\" directory\n",
    "# For example, running this (by clicking run or pressing Shift+Enter) will list all files under the input directory\n",
    "\n",
    "import os\n",
    "for dirname, _, filenames in os.walk('/kaggle/input'):\n",
    "    for filename in filenames:\n",
    "        print(os.path.join(dirname, filename))\n",
    "\n",
    "# You can write up to 20GB to the current directory (/kaggle/working/) that gets preserved as output when you create a version using \"Save & Run All\" \n",
    "# You can also write temporary files to /kaggle/temp/, but they won't be saved outside of the current session"
   ]
  },
  {
   "cell_type": "code",
   "execution_count": 2,
   "id": "e6056453",
   "metadata": {
    "execution": {
     "iopub.execute_input": "2025-07-05T19:15:24.833305Z",
     "iopub.status.busy": "2025-07-05T19:15:24.832641Z",
     "iopub.status.idle": "2025-07-05T19:16:41.206441Z",
     "shell.execute_reply": "2025-07-05T19:16:41.205542Z"
    },
    "papermill": {
     "duration": 76.378238,
     "end_time": "2025-07-05T19:16:41.207980",
     "exception": false,
     "start_time": "2025-07-05T19:15:24.829742",
     "status": "completed"
    },
    "tags": []
   },
   "outputs": [
    {
     "name": "stdout",
     "output_type": "stream",
     "text": [
      "\u001b[2K   \u001b[90m━━━━━━━━━━━━━━━━━━━━━━━━━━━━━━━━━━━━━━━━\u001b[0m \u001b[32m616.8/616.8 kB\u001b[0m \u001b[31m11.4 MB/s\u001b[0m eta \u001b[36m0:00:00\u001b[0m\r\n",
      "\u001b[2K   \u001b[90m━━━━━━━━━━━━━━━━━━━━━━━━━━━━━━━━━━━━━━━━\u001b[0m \u001b[32m363.4/363.4 MB\u001b[0m \u001b[31m4.7 MB/s\u001b[0m eta \u001b[36m0:00:00\u001b[0m\r\n",
      "\u001b[2K   \u001b[90m━━━━━━━━━━━━━━━━━━━━━━━━━━━━━━━━━━━━━━━━\u001b[0m \u001b[32m664.8/664.8 MB\u001b[0m \u001b[31m2.6 MB/s\u001b[0m eta \u001b[36m0:00:00\u001b[0m\r\n",
      "\u001b[2K   \u001b[90m━━━━━━━━━━━━━━━━━━━━━━━━━━━━━━━━━━━━━━━━\u001b[0m \u001b[32m211.5/211.5 MB\u001b[0m \u001b[31m8.0 MB/s\u001b[0m eta \u001b[36m0:00:00\u001b[0m\r\n",
      "\u001b[2K   \u001b[90m━━━━━━━━━━━━━━━━━━━━━━━━━━━━━━━━━━━━━━━━\u001b[0m \u001b[32m56.3/56.3 MB\u001b[0m \u001b[31m30.9 MB/s\u001b[0m eta \u001b[36m0:00:00\u001b[0m\r\n",
      "\u001b[2K   \u001b[90m━━━━━━━━━━━━━━━━━━━━━━━━━━━━━━━━━━━━━━━━\u001b[0m \u001b[32m127.9/127.9 MB\u001b[0m \u001b[31m13.4 MB/s\u001b[0m eta \u001b[36m0:00:00\u001b[0m\r\n",
      "\u001b[2K   \u001b[90m━━━━━━━━━━━━━━━━━━━━━━━━━━━━━━━━━━━━━━━━\u001b[0m \u001b[32m207.5/207.5 MB\u001b[0m \u001b[31m4.4 MB/s\u001b[0m eta \u001b[36m0:00:00\u001b[0m\r\n",
      "\u001b[2K   \u001b[90m━━━━━━━━━━━━━━━━━━━━━━━━━━━━━━━━━━━━━━━━\u001b[0m \u001b[32m21.1/21.1 MB\u001b[0m \u001b[31m84.1 MB/s\u001b[0m eta \u001b[36m0:00:00\u001b[0m\r\n",
      "\u001b[2K   \u001b[90m━━━━━━━━━━━━━━━━━━━━━━━━━━━━━━━━━━━━━━━━\u001b[0m \u001b[32m31.3/31.3 MB\u001b[0m \u001b[31m54.6 MB/s\u001b[0m eta \u001b[36m0:00:00\u001b[0m\r\n",
      "\u001b[2K   \u001b[90m━━━━━━━━━━━━━━━━━━━━━━━━━━━━━━━━━━━━━━━━\u001b[0m \u001b[32m126.2/126.2 kB\u001b[0m \u001b[31m7.1 MB/s\u001b[0m eta \u001b[36m0:00:00\u001b[0m\r\n",
      "\u001b[2K   \u001b[90m━━━━━━━━━━━━━━━━━━━━━━━━━━━━━━━━━━━━━━━━\u001b[0m \u001b[32m78.8/78.8 kB\u001b[0m \u001b[31m4.7 MB/s\u001b[0m eta \u001b[36m0:00:00\u001b[0m\r\n",
      "\u001b[?25h"
     ]
    }
   ],
   "source": [
    "!pip install detectors -q"
   ]
  },
  {
   "cell_type": "code",
   "execution_count": 3,
   "id": "2c72c59c",
   "metadata": {
    "execution": {
     "iopub.execute_input": "2025-07-05T19:16:41.246614Z",
     "iopub.status.busy": "2025-07-05T19:16:41.246301Z",
     "iopub.status.idle": "2025-07-05T19:16:49.337887Z",
     "shell.execute_reply": "2025-07-05T19:16:49.337087Z"
    },
    "papermill": {
     "duration": 8.112042,
     "end_time": "2025-07-05T19:16:49.339678",
     "exception": false,
     "start_time": "2025-07-05T19:16:41.227636",
     "status": "completed"
    },
    "tags": []
   },
   "outputs": [],
   "source": [
    "import torch\n",
    "import torch.nn as nn\n",
    "import torch.optim as optim\n",
    "import torchvision\n",
    "import torchvision.transforms as transforms\n",
    "from torch.utils.data import DataLoader\n",
    "import torch.nn.functional as F\n",
    "\n",
    "from torchvision import datasets, transforms\n",
    "from torch.utils.data import random_split, DataLoader\n"
   ]
  },
  {
   "cell_type": "code",
   "execution_count": null,
   "id": "100f25ff",
   "metadata": {
    "papermill": {
     "duration": 0.017403,
     "end_time": "2025-07-05T19:16:49.381344",
     "exception": false,
     "start_time": "2025-07-05T19:16:49.363941",
     "status": "completed"
    },
    "tags": []
   },
   "outputs": [],
   "source": []
  },
  {
   "cell_type": "code",
   "execution_count": 4,
   "id": "a6487fdd",
   "metadata": {
    "execution": {
     "iopub.execute_input": "2025-07-05T19:16:49.416161Z",
     "iopub.status.busy": "2025-07-05T19:16:49.415453Z",
     "iopub.status.idle": "2025-07-05T19:17:06.830635Z",
     "shell.execute_reply": "2025-07-05T19:17:06.830014Z"
    },
    "papermill": {
     "duration": 17.433912,
     "end_time": "2025-07-05T19:17:06.832000",
     "exception": false,
     "start_time": "2025-07-05T19:16:49.398088",
     "status": "completed"
    },
    "tags": []
   },
   "outputs": [
    {
     "name": "stderr",
     "output_type": "stream",
     "text": [
      "100%|██████████| 170M/170M [00:02<00:00, 77.5MB/s]\n",
      "Downloading: \"https://huggingface.co/edadaltocg/resnet34_cifar10/resolve/main/pytorch_model.bin\" to /root/.cache/torch/hub/checkpoints/resnet34_cifar10.pth\n",
      "100%|██████████| 81.3M/81.3M [00:00<00:00, 157MB/s]\n"
     ]
    }
   ],
   "source": [
    "import torch,timm,detectors\n",
    "from torchvision import datasets, transforms\n",
    "from torch.utils.data import DataLoader\n",
    "from torch.nn import KLDivLoss\n",
    "transform = transforms.Compose([\n",
    "    transforms.Resize((32, 32)),\n",
    "    transforms.ToTensor(),\n",
    "    transforms.Normalize(mean=[0.4914, 0.4822, 0.4465],\n",
    "                         std=[0.2023, 0.1994, 0.2010])\n",
    "])\n",
    "train_dataset = datasets.CIFAR10(root='./data', train=True, download=True, transform=transform)\n",
    "train_loader = DataLoader(train_dataset, batch_size=128 , shuffle=True)\n",
    "device = torch.device(\"cuda\" if torch.cuda.is_available() else \"cpu\")\n",
    "teacher_model = timm.create_model(\"resnet34_cifar10\", pretrained=True).to(device)\n"
   ]
  },
  {
   "cell_type": "code",
   "execution_count": 5,
   "id": "53c6cda2",
   "metadata": {
    "execution": {
     "iopub.execute_input": "2025-07-05T19:17:06.870212Z",
     "iopub.status.busy": "2025-07-05T19:17:06.869771Z",
     "iopub.status.idle": "2025-07-05T19:17:07.583691Z",
     "shell.execute_reply": "2025-07-05T19:17:07.582884Z"
    },
    "papermill": {
     "duration": 0.734244,
     "end_time": "2025-07-05T19:17:07.585021",
     "exception": false,
     "start_time": "2025-07-05T19:17:06.850777",
     "status": "completed"
    },
    "tags": []
   },
   "outputs": [],
   "source": [
    "\n",
    "cifar10_test = datasets.CIFAR10(root='./data', train=False, download=True, transform=transform)\n",
    "\n",
    "# Split into validation and test sets (50/50)\n",
    "val_size = len(cifar10_test) // 2\n",
    "test_size = len(cifar10_test) - val_size\n",
    "val_set, final_test_set = random_split(cifar10_test, [val_size, test_size])\n",
    "\n",
    "val_loader = DataLoader(val_set, batch_size=128, shuffle=False)\n",
    "test_loader = DataLoader(final_test_set, batch_size=128, shuffle=False)\n"
   ]
  },
  {
   "cell_type": "code",
   "execution_count": 6,
   "id": "e0a4136b",
   "metadata": {
    "execution": {
     "iopub.execute_input": "2025-07-05T19:17:07.623500Z",
     "iopub.status.busy": "2025-07-05T19:17:07.623256Z",
     "iopub.status.idle": "2025-07-05T19:17:07.629699Z",
     "shell.execute_reply": "2025-07-05T19:17:07.629161Z"
    },
    "papermill": {
     "duration": 0.027016,
     "end_time": "2025-07-05T19:17:07.630750",
     "exception": false,
     "start_time": "2025-07-05T19:17:07.603734",
     "status": "completed"
    },
    "tags": []
   },
   "outputs": [],
   "source": [
    "import torch.nn as nn\n",
    "import torch.nn.functional as F\n",
    "\n",
    "class StudentCNN(nn.Module):\n",
    "    def __init__(self):\n",
    "        super(StudentCNN, self).__init__()\n",
    "        self.conv1 = nn.Conv2d(3, 32, 3, padding=1)\n",
    "        self.bn1 = nn.BatchNorm2d(32)\n",
    "\n",
    "        self.conv2 = nn.Conv2d(32, 64, 3, padding=1)\n",
    "        self.bn2 = nn.BatchNorm2d(64)\n",
    "\n",
    "        self.conv3 = nn.Conv2d(64, 128, 3, padding=1)\n",
    "        self.bn3 = nn.BatchNorm2d(128)\n",
    "\n",
    "        self.pool = nn.MaxPool2d(2, 2)\n",
    "        self.dropout = nn.Dropout(0.5)\n",
    "\n",
    "        self.fc1 = nn.Linear(128 * 4 * 4, 512)  # After 3 poolings: 32 → 16 → 8 → 4\n",
    "        self.fc2 = nn.Linear(512, 10)\n",
    "\n",
    "    def forward(self, x):\n",
    "        x = self.pool(F.relu(self.bn1(self.conv1(x))))  # 32x32 → 16x16\n",
    "        x = self.pool(F.relu(self.bn2(self.conv2(x))))  # 16x16 → 8x8\n",
    "        x = self.pool(F.relu(self.bn3(self.conv3(x))))  # 8x8 → 4x4\n",
    "        x = x.view(x.size(0), -1)\n",
    "        x = self.dropout(F.relu(self.fc1(x)))\n",
    "        return self.fc2(x)\n"
   ]
  },
  {
   "cell_type": "code",
   "execution_count": 7,
   "id": "699cfa16",
   "metadata": {
    "execution": {
     "iopub.execute_input": "2025-07-05T19:17:07.668144Z",
     "iopub.status.busy": "2025-07-05T19:17:07.667851Z",
     "iopub.status.idle": "2025-07-05T19:17:07.672539Z",
     "shell.execute_reply": "2025-07-05T19:17:07.671852Z"
    },
    "papermill": {
     "duration": 0.024696,
     "end_time": "2025-07-05T19:17:07.673679",
     "exception": false,
     "start_time": "2025-07-05T19:17:07.648983",
     "status": "completed"
    },
    "tags": []
   },
   "outputs": [],
   "source": [
    "def evaluate(model, loader):\n",
    "    model.eval()\n",
    "    correct = 0\n",
    "    total = 0\n",
    "    with torch.no_grad():\n",
    "        for images, labels in loader:\n",
    "            images, labels = images.to(device), labels.to(device)\n",
    "            outputs = model(images)\n",
    "            _, predicted = torch.max(outputs, 1)\n",
    "            total += labels.size(0)\n",
    "            correct += (predicted == labels).sum().item()\n",
    "    return 100 * correct / total\n"
   ]
  },
  {
   "cell_type": "code",
   "execution_count": 8,
   "id": "f4f13681",
   "metadata": {
    "execution": {
     "iopub.execute_input": "2025-07-05T19:17:07.710442Z",
     "iopub.status.busy": "2025-07-05T19:17:07.710098Z",
     "iopub.status.idle": "2025-07-05T19:17:07.716762Z",
     "shell.execute_reply": "2025-07-05T19:17:07.716268Z"
    },
    "papermill": {
     "duration": 0.026151,
     "end_time": "2025-07-05T19:17:07.717722",
     "exception": false,
     "start_time": "2025-07-05T19:17:07.691571",
     "status": "completed"
    },
    "tags": []
   },
   "outputs": [],
   "source": [
    "def train_with_kl_and_ce(student_model, teacher_model, loader, optimizer, epochs=600, temperature=2, alpha=0.7):\n",
    "    kl_loss = nn.KLDivLoss(reduction='batchmean')\n",
    "    ce_loss = nn.CrossEntropyLoss()\n",
    "    student_model.train()\n",
    "    teacher_model.eval()\n",
    "    best_val_acc = 0\n",
    "    patience = 20\n",
    "    epochs_no_improve = 0\n",
    "    for epoch in range(epochs):\n",
    "        total_loss = 0\n",
    "        for images, labels in loader:\n",
    "            images, labels = images.to(device), labels.to(device)\n",
    "\n",
    "            with torch.no_grad():\n",
    "                teacher_logits = teacher_model(images)\n",
    "                teacher_probs = F.softmax(teacher_logits / temperature, dim=1)\n",
    "              \n",
    "            optimizer.zero_grad()\n",
    "            student_logits = student_model(images)\n",
    "\n",
    "            # KL Divergence Loss\n",
    "            student_log_probs = F.log_softmax(student_logits / temperature, dim=1)\n",
    "\n",
    "            loss_kl = kl_loss(student_log_probs, teacher_probs) * (temperature ** 2)\n",
    "\n",
    "            # Cross-Entropy Loss\n",
    "            loss_ce = ce_loss(student_logits, labels)\n",
    "\n",
    "            # Combined Loss\n",
    "            loss = alpha * loss_kl + (1 - alpha) * loss_ce\n",
    "\n",
    "            loss.backward()\n",
    "            optimizer.step()\n",
    "            total_loss += loss.item()\n",
    "        val_acc = evaluate(student_model, val_loader)\n",
    "        \n",
    "        if val_acc > best_val_acc:\n",
    "                best_val_acc = val_acc\n",
    "                epochs_no_improve = 0\n",
    "                # Save best model\n",
    "                torch.save(student_model.state_dict(), \"best_student_model.pth\")\n",
    "        else:\n",
    "                epochs_no_improve += 1\n",
    "        \n",
    "        if epochs_no_improve >= patience:\n",
    "                print(f\"Early stopping at epoch {epoch+1}\")\n",
    "                break\n",
    "        print(f\"Epoch {epoch+1}, Total Loss: {total_loss:.4f} Validation :{val_acc}\")\n"
   ]
  },
  {
   "cell_type": "code",
   "execution_count": 9,
   "id": "be4b314f",
   "metadata": {
    "execution": {
     "iopub.execute_input": "2025-07-05T19:17:07.754538Z",
     "iopub.status.busy": "2025-07-05T19:17:07.754316Z",
     "iopub.status.idle": "2025-07-05T19:17:07.765694Z",
     "shell.execute_reply": "2025-07-05T19:17:07.765221Z"
    },
    "papermill": {
     "duration": 0.031124,
     "end_time": "2025-07-05T19:17:07.766743",
     "exception": false,
     "start_time": "2025-07-05T19:17:07.735619",
     "status": "completed"
    },
    "tags": []
   },
   "outputs": [],
   "source": [
    "student_model_kl = StudentCNN()"
   ]
  },
  {
   "cell_type": "code",
   "execution_count": 10,
   "id": "d6f95f9b",
   "metadata": {
    "execution": {
     "iopub.execute_input": "2025-07-05T19:17:07.849974Z",
     "iopub.status.busy": "2025-07-05T19:17:07.849712Z",
     "iopub.status.idle": "2025-07-05T19:40:08.485889Z",
     "shell.execute_reply": "2025-07-05T19:40:08.485136Z"
    },
    "papermill": {
     "duration": 1380.676266,
     "end_time": "2025-07-05T19:40:08.506816",
     "exception": false,
     "start_time": "2025-07-05T19:17:07.830550",
     "status": "completed"
    },
    "tags": []
   },
   "outputs": [
    {
     "name": "stdout",
     "output_type": "stream",
     "text": [
      "Epoch 1, Total Loss: 1444.0486 Validation :68.56\n",
      "Epoch 2, Total Loss: 946.3232 Validation :74.28\n",
      "Epoch 3, Total Loss: 758.5902 Validation :75.64\n",
      "Epoch 4, Total Loss: 620.9565 Validation :78.18\n",
      "Epoch 5, Total Loss: 521.0726 Validation :76.88\n",
      "Epoch 6, Total Loss: 416.0927 Validation :79.24\n",
      "Epoch 7, Total Loss: 332.6078 Validation :79.08\n",
      "Epoch 8, Total Loss: 260.0116 Validation :77.76\n",
      "Epoch 9, Total Loss: 198.4135 Validation :78.36\n",
      "Epoch 10, Total Loss: 153.3370 Validation :78.68\n",
      "Epoch 11, Total Loss: 130.6710 Validation :78.12\n",
      "Epoch 12, Total Loss: 113.8004 Validation :78.06\n",
      "Epoch 13, Total Loss: 113.3088 Validation :78.74\n",
      "Epoch 14, Total Loss: 124.8174 Validation :77.28\n",
      "Epoch 15, Total Loss: 124.0330 Validation :76.06\n",
      "Epoch 16, Total Loss: 127.0204 Validation :78.52\n",
      "Epoch 17, Total Loss: 79.6994 Validation :79.08\n",
      "Epoch 18, Total Loss: 55.1757 Validation :79.52\n",
      "Epoch 19, Total Loss: 56.7991 Validation :78.26\n",
      "Epoch 20, Total Loss: 270.9250 Validation :77.88\n",
      "Epoch 21, Total Loss: 123.8454 Validation :79.7\n",
      "Epoch 22, Total Loss: 60.1808 Validation :80.56\n",
      "Epoch 23, Total Loss: 41.3953 Validation :80.48\n",
      "Epoch 24, Total Loss: 36.7234 Validation :79.92\n",
      "Epoch 25, Total Loss: 86.2994 Validation :66.48\n",
      "Epoch 26, Total Loss: 302.2121 Validation :77.96\n",
      "Epoch 27, Total Loss: 105.0584 Validation :80.08\n",
      "Epoch 28, Total Loss: 51.8560 Validation :80.24\n",
      "Epoch 29, Total Loss: 37.0105 Validation :81.02\n",
      "Epoch 30, Total Loss: 33.4453 Validation :81.12\n",
      "Epoch 31, Total Loss: 61.4441 Validation :73.54\n",
      "Epoch 32, Total Loss: 311.9835 Validation :78.0\n",
      "Epoch 33, Total Loss: 97.5599 Validation :79.54\n",
      "Epoch 34, Total Loss: 49.5208 Validation :80.72\n",
      "Epoch 35, Total Loss: 34.8424 Validation :80.64\n",
      "Epoch 36, Total Loss: 31.3538 Validation :80.6\n",
      "Epoch 37, Total Loss: 58.2172 Validation :74.06\n",
      "Epoch 38, Total Loss: 303.6230 Validation :77.28\n",
      "Epoch 39, Total Loss: 100.3763 Validation :79.6\n",
      "Epoch 40, Total Loss: 48.7400 Validation :80.18\n",
      "Epoch 41, Total Loss: 33.9695 Validation :80.62\n",
      "Epoch 42, Total Loss: 30.1430 Validation :80.48\n",
      "Epoch 43, Total Loss: 34.3298 Validation :79.78\n",
      "Epoch 44, Total Loss: 289.3855 Validation :77.48\n",
      "Epoch 45, Total Loss: 120.2221 Validation :79.5\n",
      "Epoch 46, Total Loss: 54.0834 Validation :80.6\n",
      "Epoch 47, Total Loss: 34.3658 Validation :80.24\n",
      "Epoch 48, Total Loss: 29.0654 Validation :80.72\n",
      "Epoch 49, Total Loss: 30.0056 Validation :79.72\n",
      "Early stopping at epoch 50\n"
     ]
    }
   ],
   "source": [
    "\n",
    "\n",
    "student_model_kl.to(device)\n",
    "optimizer_kl =torch.optim.Adam(student_model_kl.parameters(), lr=1e-3, weight_decay=5e-4)\n",
    "\n",
    "\n",
    "\n",
    "train_with_kl_and_ce(student_model_kl, teacher_model, train_loader, optimizer_kl)"
   ]
  },
  {
   "cell_type": "code",
   "execution_count": 11,
   "id": "c5410641",
   "metadata": {
    "execution": {
     "iopub.execute_input": "2025-07-05T19:40:08.548344Z",
     "iopub.status.busy": "2025-07-05T19:40:08.548064Z",
     "iopub.status.idle": "2025-07-05T19:40:08.560574Z",
     "shell.execute_reply": "2025-07-05T19:40:08.560076Z"
    },
    "papermill": {
     "duration": 0.034454,
     "end_time": "2025-07-05T19:40:08.561608",
     "exception": false,
     "start_time": "2025-07-05T19:40:08.527154",
     "status": "completed"
    },
    "tags": []
   },
   "outputs": [],
   "source": [
    "torch.save(student_model_kl, '/kaggle/working/model.pth')"
   ]
  },
  {
   "cell_type": "code",
   "execution_count": 12,
   "id": "eaacc280",
   "metadata": {
    "execution": {
     "iopub.execute_input": "2025-07-05T19:40:08.601845Z",
     "iopub.status.busy": "2025-07-05T19:40:08.601630Z",
     "iopub.status.idle": "2025-07-05T19:40:09.697515Z",
     "shell.execute_reply": "2025-07-05T19:40:09.696782Z"
    },
    "papermill": {
     "duration": 1.117184,
     "end_time": "2025-07-05T19:40:09.698620",
     "exception": false,
     "start_time": "2025-07-05T19:40:08.581436",
     "status": "completed"
    },
    "tags": []
   },
   "outputs": [
    {
     "name": "stdout",
     "output_type": "stream",
     "text": [
      "Test Accuracy: 76.18%\n"
     ]
    }
   ],
   "source": [
    "correct = 0\n",
    "total = 0\n",
    "# test_dataset = datasets.CIFAR10(root='./data', train=False, download=True, transform=transform)\n",
    "# test_loader = DataLoader(test_dataset, batch_size=128 , shuffle=False)\n",
    "with torch.no_grad():\n",
    "    for images, labels in test_loader:\n",
    "        outputs = student_model_kl(images.to(device))\n",
    "        _, predicted = torch.max(outputs.data, 1)\n",
    "        total += labels.size(0)\n",
    "        correct += (predicted == labels.to(device)).sum().item()\n",
    "\n",
    "accuracy = 100 * correct / total\n",
    "print(f'Test Accuracy: {accuracy:.2f}%')"
   ]
  }
 ],
 "metadata": {
  "kaggle": {
   "accelerator": "gpu",
   "dataSources": [
    {
     "isSourceIdPinned": true,
     "modelId": 393260,
     "modelInstanceId": 372382,
     "sourceId": 459489,
     "sourceType": "modelInstanceVersion"
    }
   ],
   "dockerImageVersionId": 31041,
   "isGpuEnabled": true,
   "isInternetEnabled": true,
   "language": "python",
   "sourceType": "notebook"
  },
  "kernelspec": {
   "display_name": "Python 3",
   "language": "python",
   "name": "python3"
  },
  "language_info": {
   "codemirror_mode": {
    "name": "ipython",
    "version": 3
   },
   "file_extension": ".py",
   "mimetype": "text/x-python",
   "name": "python",
   "nbconvert_exporter": "python",
   "pygments_lexer": "ipython3",
   "version": "3.11.11"
  },
  "papermill": {
   "default_parameters": {},
   "duration": 1492.766291,
   "end_time": "2025-07-05T19:40:12.041574",
   "environment_variables": {},
   "exception": null,
   "input_path": "__notebook__.ipynb",
   "output_path": "__notebook__.ipynb",
   "parameters": {},
   "start_time": "2025-07-05T19:15:19.275283",
   "version": "2.6.0"
  }
 },
 "nbformat": 4,
 "nbformat_minor": 5
}
