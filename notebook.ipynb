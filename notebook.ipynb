{
 "cells": [
  {
   "cell_type": "code",
   "execution_count": 1,
   "id": "a9bd17eb",
   "metadata": {
    "_cell_guid": "b1076dfc-b9ad-4769-8c92-a6c4dae69d19",
    "_uuid": "8f2839f25d086af736a60e9eeb907d3b93b6e0e5",
    "execution": {
     "iopub.execute_input": "2025-07-05T17:51:35.865585Z",
     "iopub.status.busy": "2025-07-05T17:51:35.864935Z",
     "iopub.status.idle": "2025-07-05T17:51:37.518187Z",
     "shell.execute_reply": "2025-07-05T17:51:37.517350Z"
    },
    "papermill": {
     "duration": 1.659121,
     "end_time": "2025-07-05T17:51:37.519510",
     "exception": false,
     "start_time": "2025-07-05T17:51:35.860389",
     "status": "completed"
    },
    "tags": []
   },
   "outputs": [
    {
     "name": "stdout",
     "output_type": "stream",
     "text": [
      "/kaggle/input/studentcnn/pytorch/default/1/model (4).pth\n"
     ]
    }
   ],
   "source": [
    "# This Python 3 environment comes with many helpful analytics libraries installed\n",
    "# It is defined by the kaggle/python Docker image: https://github.com/kaggle/docker-python\n",
    "# For example, here's several helpful packages to load\n",
    "\n",
    "import numpy as np # linear algebra\n",
    "import pandas as pd # data processing, CSV file I/O (e.g. pd.read_csv)\n",
    "\n",
    "# Input data files are available in the read-only \"../input/\" directory\n",
    "# For example, running this (by clicking run or pressing Shift+Enter) will list all files under the input directory\n",
    "\n",
    "import os\n",
    "for dirname, _, filenames in os.walk('/kaggle/input'):\n",
    "    for filename in filenames:\n",
    "        print(os.path.join(dirname, filename))\n",
    "\n",
    "# You can write up to 20GB to the current directory (/kaggle/working/) that gets preserved as output when you create a version using \"Save & Run All\" \n",
    "# You can also write temporary files to /kaggle/temp/, but they won't be saved outside of the current session"
   ]
  },
  {
   "cell_type": "code",
   "execution_count": 2,
   "id": "486ca587",
   "metadata": {
    "execution": {
     "iopub.execute_input": "2025-07-05T17:51:37.526381Z",
     "iopub.status.busy": "2025-07-05T17:51:37.526055Z",
     "iopub.status.idle": "2025-07-05T17:52:53.770610Z",
     "shell.execute_reply": "2025-07-05T17:52:53.769557Z"
    },
    "papermill": {
     "duration": 76.249609,
     "end_time": "2025-07-05T17:52:53.772379",
     "exception": false,
     "start_time": "2025-07-05T17:51:37.522770",
     "status": "completed"
    },
    "tags": []
   },
   "outputs": [
    {
     "name": "stdout",
     "output_type": "stream",
     "text": [
      "\u001b[2K   \u001b[90m━━━━━━━━━━━━━━━━━━━━━━━━━━━━━━━━━━━━━━━━\u001b[0m \u001b[32m616.8/616.8 kB\u001b[0m \u001b[31m20.5 MB/s\u001b[0m eta \u001b[36m0:00:00\u001b[0m\r\n",
      "\u001b[2K   \u001b[90m━━━━━━━━━━━━━━━━━━━━━━━━━━━━━━━━━━━━━━━━\u001b[0m \u001b[32m363.4/363.4 MB\u001b[0m \u001b[31m4.6 MB/s\u001b[0m eta \u001b[36m0:00:00\u001b[0m\r\n",
      "\u001b[2K   \u001b[90m━━━━━━━━━━━━━━━━━━━━━━━━━━━━━━━━━━━━━━━━\u001b[0m \u001b[32m664.8/664.8 MB\u001b[0m \u001b[31m2.5 MB/s\u001b[0m eta \u001b[36m0:00:00\u001b[0m\r\n",
      "\u001b[2K   \u001b[90m━━━━━━━━━━━━━━━━━━━━━━━━━━━━━━━━━━━━━━━━\u001b[0m \u001b[32m211.5/211.5 MB\u001b[0m \u001b[31m8.0 MB/s\u001b[0m eta \u001b[36m0:00:00\u001b[0m\r\n",
      "\u001b[2K   \u001b[90m━━━━━━━━━━━━━━━━━━━━━━━━━━━━━━━━━━━━━━━━\u001b[0m \u001b[32m56.3/56.3 MB\u001b[0m \u001b[31m14.9 MB/s\u001b[0m eta \u001b[36m0:00:00\u001b[0m\r\n",
      "\u001b[2K   \u001b[90m━━━━━━━━━━━━━━━━━━━━━━━━━━━━━━━━━━━━━━━━\u001b[0m \u001b[32m127.9/127.9 MB\u001b[0m \u001b[31m12.6 MB/s\u001b[0m eta \u001b[36m0:00:00\u001b[0m\r\n",
      "\u001b[2K   \u001b[90m━━━━━━━━━━━━━━━━━━━━━━━━━━━━━━━━━━━━━━━━\u001b[0m \u001b[32m207.5/207.5 MB\u001b[0m \u001b[31m8.1 MB/s\u001b[0m eta \u001b[36m0:00:00\u001b[0m\r\n",
      "\u001b[2K   \u001b[90m━━━━━━━━━━━━━━━━━━━━━━━━━━━━━━━━━━━━━━━━\u001b[0m \u001b[32m21.1/21.1 MB\u001b[0m \u001b[31m82.2 MB/s\u001b[0m eta \u001b[36m0:00:00\u001b[0m\r\n",
      "\u001b[2K   \u001b[90m━━━━━━━━━━━━━━━━━━━━━━━━━━━━━━━━━━━━━━━━\u001b[0m \u001b[32m31.3/31.3 MB\u001b[0m \u001b[31m56.8 MB/s\u001b[0m eta \u001b[36m0:00:00\u001b[0m\r\n",
      "\u001b[2K   \u001b[90m━━━━━━━━━━━━━━━━━━━━━━━━━━━━━━━━━━━━━━━━\u001b[0m \u001b[32m126.2/126.2 kB\u001b[0m \u001b[31m7.6 MB/s\u001b[0m eta \u001b[36m0:00:00\u001b[0m\r\n",
      "\u001b[2K   \u001b[90m━━━━━━━━━━━━━━━━━━━━━━━━━━━━━━━━━━━━━━━━\u001b[0m \u001b[32m78.8/78.8 kB\u001b[0m \u001b[31m5.0 MB/s\u001b[0m eta \u001b[36m0:00:00\u001b[0m\r\n",
      "\u001b[?25h"
     ]
    }
   ],
   "source": [
    "!pip install detectors -q"
   ]
  },
  {
   "cell_type": "code",
   "execution_count": 3,
   "id": "30f498d5",
   "metadata": {
    "execution": {
     "iopub.execute_input": "2025-07-05T17:52:53.812412Z",
     "iopub.status.busy": "2025-07-05T17:52:53.812182Z",
     "iopub.status.idle": "2025-07-05T17:53:02.772257Z",
     "shell.execute_reply": "2025-07-05T17:53:02.771475Z"
    },
    "papermill": {
     "duration": 8.981145,
     "end_time": "2025-07-05T17:53:02.773925",
     "exception": false,
     "start_time": "2025-07-05T17:52:53.792780",
     "status": "completed"
    },
    "tags": []
   },
   "outputs": [],
   "source": [
    "import torch\n",
    "import torch.nn as nn\n",
    "import torch.optim as optim\n",
    "import torchvision\n",
    "import torchvision.transforms as transforms\n",
    "from torch.utils.data import DataLoader\n",
    "import torch.nn.functional as F\n",
    "\n",
    "from torchvision import datasets, transforms\n",
    "from torch.utils.data import random_split, DataLoader\n"
   ]
  },
  {
   "cell_type": "code",
   "execution_count": null,
   "id": "478d20c2",
   "metadata": {
    "papermill": {
     "duration": 0.01984,
     "end_time": "2025-07-05T17:53:02.819833",
     "exception": false,
     "start_time": "2025-07-05T17:53:02.799993",
     "status": "completed"
    },
    "tags": []
   },
   "outputs": [],
   "source": []
  },
  {
   "cell_type": "code",
   "execution_count": 4,
   "id": "120ff925",
   "metadata": {
    "execution": {
     "iopub.execute_input": "2025-07-05T17:53:02.859706Z",
     "iopub.status.busy": "2025-07-05T17:53:02.858711Z",
     "iopub.status.idle": "2025-07-05T17:53:24.807135Z",
     "shell.execute_reply": "2025-07-05T17:53:24.806325Z"
    },
    "papermill": {
     "duration": 21.969943,
     "end_time": "2025-07-05T17:53:24.808632",
     "exception": false,
     "start_time": "2025-07-05T17:53:02.838689",
     "status": "completed"
    },
    "tags": []
   },
   "outputs": [
    {
     "name": "stderr",
     "output_type": "stream",
     "text": [
      "100%|██████████| 170M/170M [00:05<00:00, 29.6MB/s]\n",
      "Downloading: \"https://huggingface.co/edadaltocg/resnet34_cifar10/resolve/main/pytorch_model.bin\" to /root/.cache/torch/hub/checkpoints/resnet34_cifar10.pth\n",
      "100%|██████████| 81.3M/81.3M [00:00<00:00, 288MB/s]\n"
     ]
    }
   ],
   "source": [
    "import torch,timm,detectors\n",
    "from torchvision import datasets, transforms\n",
    "from torch.utils.data import DataLoader\n",
    "from torch.nn import KLDivLoss\n",
    "transform = transforms.Compose([\n",
    "    transforms.Resize((32, 32)),\n",
    "    transforms.ToTensor(),\n",
    "    transforms.Normalize(mean=[0.4914, 0.4822, 0.4465],\n",
    "                         std=[0.2023, 0.1994, 0.2010])\n",
    "])\n",
    "train_dataset = datasets.CIFAR10(root='./data', train=True, download=True, transform=transform)\n",
    "train_loader = DataLoader(train_dataset, batch_size=128 , shuffle=True)\n",
    "device = torch.device(\"cuda\" if torch.cuda.is_available() else \"cpu\")\n",
    "teacher_model = timm.create_model(\"resnet34_cifar10\", pretrained=True).to(device)\n"
   ]
  },
  {
   "cell_type": "code",
   "execution_count": 5,
   "id": "49431c76",
   "metadata": {
    "execution": {
     "iopub.execute_input": "2025-07-05T17:53:24.854038Z",
     "iopub.status.busy": "2025-07-05T17:53:24.853534Z",
     "iopub.status.idle": "2025-07-05T17:53:25.625500Z",
     "shell.execute_reply": "2025-07-05T17:53:25.624675Z"
    },
    "papermill": {
     "duration": 0.795557,
     "end_time": "2025-07-05T17:53:25.627045",
     "exception": false,
     "start_time": "2025-07-05T17:53:24.831488",
     "status": "completed"
    },
    "tags": []
   },
   "outputs": [],
   "source": [
    "\n",
    "cifar10_test = datasets.CIFAR10(root='./data', train=False, download=True, transform=transform)\n",
    "\n",
    "# Split into validation and test sets (50/50)\n",
    "val_size = len(cifar10_test) // 2\n",
    "test_size = len(cifar10_test) - val_size\n",
    "val_set, final_test_set = random_split(cifar10_test, [val_size, test_size])\n",
    "\n",
    "val_loader = DataLoader(val_set, batch_size=128, shuffle=False)\n",
    "test_loader = DataLoader(final_test_set, batch_size=128, shuffle=False)\n"
   ]
  },
  {
   "cell_type": "code",
   "execution_count": 6,
   "id": "5c002503",
   "metadata": {
    "execution": {
     "iopub.execute_input": "2025-07-05T17:53:25.674507Z",
     "iopub.status.busy": "2025-07-05T17:53:25.673841Z",
     "iopub.status.idle": "2025-07-05T17:53:25.680948Z",
     "shell.execute_reply": "2025-07-05T17:53:25.680336Z"
    },
    "papermill": {
     "duration": 0.029757,
     "end_time": "2025-07-05T17:53:25.682180",
     "exception": false,
     "start_time": "2025-07-05T17:53:25.652423",
     "status": "completed"
    },
    "tags": []
   },
   "outputs": [],
   "source": [
    "import torch.nn as nn\n",
    "import torch.nn.functional as F\n",
    "\n",
    "class StudentCNN(nn.Module):\n",
    "    def __init__(self):\n",
    "        super(StudentCNN, self).__init__()\n",
    "        self.conv1 = nn.Conv2d(3, 32, 3, padding=1)\n",
    "        self.bn1 = nn.BatchNorm2d(32)\n",
    "\n",
    "        self.conv2 = nn.Conv2d(32, 64, 3, padding=1)\n",
    "        self.bn2 = nn.BatchNorm2d(64)\n",
    "\n",
    "        self.conv3 = nn.Conv2d(64, 128, 3, padding=1)\n",
    "        self.bn3 = nn.BatchNorm2d(128)\n",
    "\n",
    "        self.pool = nn.MaxPool2d(2, 2)\n",
    "        self.dropout = nn.Dropout(0.5)\n",
    "\n",
    "        self.fc1 = nn.Linear(128 * 4 * 4, 512)  # After 3 poolings: 32 → 16 → 8 → 4\n",
    "        self.fc2 = nn.Linear(512, 10)\n",
    "\n",
    "    def forward(self, x):\n",
    "        x = self.pool(F.relu(self.bn1(self.conv1(x))))  # 32x32 → 16x16\n",
    "        x = self.pool(F.relu(self.bn2(self.conv2(x))))  # 16x16 → 8x8\n",
    "        x = self.pool(F.relu(self.bn3(self.conv3(x))))  # 8x8 → 4x4\n",
    "        x = x.view(x.size(0), -1)\n",
    "        x = self.dropout(F.relu(self.fc1(x)))\n",
    "        return self.fc2(x)\n"
   ]
  },
  {
   "cell_type": "code",
   "execution_count": 7,
   "id": "68b307e3",
   "metadata": {
    "execution": {
     "iopub.execute_input": "2025-07-05T17:53:25.764789Z",
     "iopub.status.busy": "2025-07-05T17:53:25.764519Z",
     "iopub.status.idle": "2025-07-05T17:53:25.770060Z",
     "shell.execute_reply": "2025-07-05T17:53:25.769353Z"
    },
    "papermill": {
     "duration": 0.066826,
     "end_time": "2025-07-05T17:53:25.771185",
     "exception": false,
     "start_time": "2025-07-05T17:53:25.704359",
     "status": "completed"
    },
    "tags": []
   },
   "outputs": [],
   "source": [
    "def evaluate(model, loader):\n",
    "    model.eval()\n",
    "    correct = 0\n",
    "    total = 0\n",
    "    with torch.no_grad():\n",
    "        for images, labels in loader:\n",
    "            images, labels = images.to(device), labels.to(device)\n",
    "            outputs = model(images)\n",
    "            _, predicted = torch.max(outputs, 1)\n",
    "            total += labels.size(0)\n",
    "            correct += (predicted == labels).sum().item()\n",
    "    return 100 * correct / total\n"
   ]
  },
  {
   "cell_type": "code",
   "execution_count": 8,
   "id": "f13b721a",
   "metadata": {
    "execution": {
     "iopub.execute_input": "2025-07-05T17:53:25.814711Z",
     "iopub.status.busy": "2025-07-05T17:53:25.814191Z",
     "iopub.status.idle": "2025-07-05T17:53:25.821277Z",
     "shell.execute_reply": "2025-07-05T17:53:25.820697Z"
    },
    "papermill": {
     "duration": 0.029806,
     "end_time": "2025-07-05T17:53:25.822371",
     "exception": false,
     "start_time": "2025-07-05T17:53:25.792565",
     "status": "completed"
    },
    "tags": []
   },
   "outputs": [],
   "source": [
    "def train_with_kl_and_ce(student_model, teacher_model, loader, optimizer, epochs=600, temperature=2, alpha=0.5):\n",
    "    kl_loss = nn.KLDivLoss(reduction='batchmean')\n",
    "    ce_loss = nn.CrossEntropyLoss()\n",
    "    student_model.train()\n",
    "    teacher_model.eval()\n",
    "    best_val_acc = 0\n",
    "    patience = 15\n",
    "    epochs_no_improve = 0\n",
    "    for epoch in range(epochs):\n",
    "        total_loss = 0\n",
    "        for images, labels in loader:\n",
    "            images, labels = images.to(device), labels.to(device)\n",
    "\n",
    "            with torch.no_grad():\n",
    "                teacher_logits = teacher_model(images)\n",
    "                teacher_probs = F.softmax(teacher_logits / temperature, dim=1)\n",
    "              \n",
    "            optimizer.zero_grad()\n",
    "            student_logits = student_model(images)\n",
    "\n",
    "            # KL Divergence Loss\n",
    "            student_log_probs = F.log_softmax(student_logits / temperature, dim=1)\n",
    "\n",
    "            loss_kl = kl_loss(student_log_probs, teacher_probs) * (temperature ** 2)\n",
    "\n",
    "            # Cross-Entropy Loss\n",
    "            loss_ce = ce_loss(student_logits, labels)\n",
    "\n",
    "            # Combined Loss\n",
    "            loss = alpha * loss_kl + (1 - alpha) * loss_ce\n",
    "\n",
    "            loss.backward()\n",
    "            optimizer.step()\n",
    "            total_loss += loss.item()\n",
    "        val_acc = evaluate(student_model, val_loader)\n",
    "        \n",
    "        if val_acc > best_val_acc:\n",
    "                best_val_acc = val_acc\n",
    "                epochs_no_improve = 0\n",
    "                # Save best model\n",
    "                torch.save(student_model.state_dict(), \"best_student_model.pth\")\n",
    "        else:\n",
    "                epochs_no_improve += 1\n",
    "        \n",
    "        if epochs_no_improve >= patience:\n",
    "                print(f\"Early stopping at epoch {epoch+1}\")\n",
    "                break\n",
    "        print(f\"Epoch {epoch+1}, Total Loss: {total_loss:.4f} Validation :{val_acc}\")\n"
   ]
  },
  {
   "cell_type": "code",
   "execution_count": 9,
   "id": "b53c57d9",
   "metadata": {
    "execution": {
     "iopub.execute_input": "2025-07-05T17:53:25.916497Z",
     "iopub.status.busy": "2025-07-05T17:53:25.915756Z",
     "iopub.status.idle": "2025-07-05T17:53:25.928519Z",
     "shell.execute_reply": "2025-07-05T17:53:25.927855Z"
    },
    "papermill": {
     "duration": 0.086509,
     "end_time": "2025-07-05T17:53:25.929667",
     "exception": false,
     "start_time": "2025-07-05T17:53:25.843158",
     "status": "completed"
    },
    "tags": []
   },
   "outputs": [],
   "source": [
    "student_model_kl = StudentCNN()"
   ]
  },
  {
   "cell_type": "code",
   "execution_count": 10,
   "id": "b207e128",
   "metadata": {
    "execution": {
     "iopub.execute_input": "2025-07-05T17:53:25.974059Z",
     "iopub.status.busy": "2025-07-05T17:53:25.973291Z",
     "iopub.status.idle": "2025-07-05T18:23:10.679874Z",
     "shell.execute_reply": "2025-07-05T18:23:10.678883Z"
    },
    "papermill": {
     "duration": 1784.730272,
     "end_time": "2025-07-05T18:23:10.681307",
     "exception": false,
     "start_time": "2025-07-05T17:53:25.951035",
     "status": "completed"
    },
    "tags": []
   },
   "outputs": [
    {
     "name": "stdout",
     "output_type": "stream",
     "text": [
      "Epoch 1, Total Loss: 1210.2065 Validation :65.32\n",
      "Epoch 2, Total Loss: 806.6379 Validation :71.1\n",
      "Epoch 3, Total Loss: 642.9933 Validation :75.16\n",
      "Epoch 4, Total Loss: 531.6367 Validation :77.4\n",
      "Epoch 5, Total Loss: 436.8886 Validation :76.02\n",
      "Epoch 6, Total Loss: 355.8226 Validation :77.46\n",
      "Epoch 7, Total Loss: 288.7656 Validation :77.66\n",
      "Epoch 8, Total Loss: 227.2705 Validation :77.48\n",
      "Epoch 9, Total Loss: 168.9732 Validation :77.42\n",
      "Epoch 10, Total Loss: 128.6564 Validation :77.4\n",
      "Epoch 11, Total Loss: 106.6474 Validation :75.96\n",
      "Epoch 12, Total Loss: 101.9993 Validation :76.2\n",
      "Epoch 13, Total Loss: 112.8014 Validation :77.06\n",
      "Epoch 14, Total Loss: 99.5961 Validation :77.62\n",
      "Epoch 15, Total Loss: 91.2672 Validation :77.74\n",
      "Epoch 16, Total Loss: 85.8454 Validation :76.98\n",
      "Epoch 17, Total Loss: 78.6870 Validation :77.46\n",
      "Epoch 18, Total Loss: 112.5182 Validation :75.64\n",
      "Epoch 19, Total Loss: 116.1727 Validation :76.1\n",
      "Epoch 20, Total Loss: 68.5983 Validation :78.22\n",
      "Epoch 21, Total Loss: 41.7534 Validation :79.38\n",
      "Epoch 22, Total Loss: 33.0357 Validation :79.26\n",
      "Epoch 23, Total Loss: 89.3171 Validation :73.16\n",
      "Epoch 24, Total Loss: 259.7067 Validation :75.68\n",
      "Epoch 25, Total Loss: 91.2811 Validation :77.9\n",
      "Epoch 26, Total Loss: 43.6059 Validation :79.24\n",
      "Epoch 27, Total Loss: 31.0439 Validation :79.12\n",
      "Epoch 28, Total Loss: 28.8155 Validation :78.62\n",
      "Epoch 29, Total Loss: 94.4317 Validation :71.12\n",
      "Epoch 30, Total Loss: 244.6867 Validation :77.38\n",
      "Epoch 31, Total Loss: 80.9465 Validation :78.8\n",
      "Epoch 32, Total Loss: 40.5843 Validation :79.36\n",
      "Epoch 33, Total Loss: 29.4083 Validation :79.74\n",
      "Epoch 34, Total Loss: 27.4966 Validation :79.22\n",
      "Epoch 35, Total Loss: 91.4698 Validation :73.7\n",
      "Epoch 36, Total Loss: 232.2003 Validation :76.68\n",
      "Epoch 37, Total Loss: 81.6788 Validation :78.18\n",
      "Epoch 38, Total Loss: 40.2374 Validation :78.86\n",
      "Epoch 39, Total Loss: 28.6875 Validation :79.38\n",
      "Epoch 40, Total Loss: 26.3880 Validation :79.58\n",
      "Epoch 41, Total Loss: 74.9407 Validation :71.92\n",
      "Epoch 42, Total Loss: 242.2648 Validation :77.56\n",
      "Epoch 43, Total Loss: 78.4081 Validation :79.56\n",
      "Epoch 44, Total Loss: 38.9865 Validation :79.84\n",
      "Epoch 45, Total Loss: 28.2006 Validation :79.94\n",
      "Epoch 46, Total Loss: 25.2386 Validation :79.9\n",
      "Epoch 47, Total Loss: 36.6396 Validation :73.78\n",
      "Epoch 48, Total Loss: 265.0161 Validation :77.32\n",
      "Epoch 49, Total Loss: 86.5977 Validation :78.3\n",
      "Epoch 50, Total Loss: 41.9334 Validation :79.18\n",
      "Epoch 51, Total Loss: 27.9348 Validation :79.56\n",
      "Epoch 52, Total Loss: 24.3206 Validation :79.46\n",
      "Epoch 53, Total Loss: 31.2036 Validation :75.92\n",
      "Epoch 54, Total Loss: 254.7201 Validation :76.64\n",
      "Epoch 55, Total Loss: 89.7881 Validation :78.68\n",
      "Epoch 56, Total Loss: 40.9527 Validation :79.86\n",
      "Epoch 57, Total Loss: 27.2866 Validation :79.7\n",
      "Epoch 58, Total Loss: 23.7309 Validation :79.3\n",
      "Epoch 59, Total Loss: 25.5532 Validation :78.92\n",
      "Early stopping at epoch 60\n"
     ]
    }
   ],
   "source": [
    "\n",
    "\n",
    "student_model_kl.to(device)\n",
    "optimizer_kl =torch.optim.Adam(student_model_kl.parameters(), lr=1e-3, weight_decay=5e-4)\n",
    "\n",
    "\n",
    "\n",
    "train_with_kl_and_ce(student_model_kl, teacher_model, train_loader, optimizer_kl)"
   ]
  },
  {
   "cell_type": "code",
   "execution_count": 11,
   "id": "d32d032c",
   "metadata": {
    "execution": {
     "iopub.execute_input": "2025-07-05T18:23:10.733966Z",
     "iopub.status.busy": "2025-07-05T18:23:10.733640Z",
     "iopub.status.idle": "2025-07-05T18:23:10.749038Z",
     "shell.execute_reply": "2025-07-05T18:23:10.748101Z"
    },
    "papermill": {
     "duration": 0.043303,
     "end_time": "2025-07-05T18:23:10.750619",
     "exception": false,
     "start_time": "2025-07-05T18:23:10.707316",
     "status": "completed"
    },
    "tags": []
   },
   "outputs": [],
   "source": [
    "torch.save(student_model_kl, '/kaggle/working/model.pth')"
   ]
  },
  {
   "cell_type": "code",
   "execution_count": 12,
   "id": "c922a43a",
   "metadata": {
    "execution": {
     "iopub.execute_input": "2025-07-05T18:23:10.803775Z",
     "iopub.status.busy": "2025-07-05T18:23:10.803226Z",
     "iopub.status.idle": "2025-07-05T18:23:12.123375Z",
     "shell.execute_reply": "2025-07-05T18:23:12.122602Z"
    },
    "papermill": {
     "duration": 1.3482,
     "end_time": "2025-07-05T18:23:12.124639",
     "exception": false,
     "start_time": "2025-07-05T18:23:10.776439",
     "status": "completed"
    },
    "tags": []
   },
   "outputs": [
    {
     "name": "stdout",
     "output_type": "stream",
     "text": [
      "Test Accuracy: 76.54%\n"
     ]
    }
   ],
   "source": [
    "correct = 0\n",
    "total = 0\n",
    "# test_dataset = datasets.CIFAR10(root='./data', train=False, download=True, transform=transform)\n",
    "# test_loader = DataLoader(test_dataset, batch_size=128 , shuffle=False)\n",
    "with torch.no_grad():\n",
    "    for images, labels in test_loader:\n",
    "        outputs = student_model_kl(images.to(device))\n",
    "        _, predicted = torch.max(outputs.data, 1)\n",
    "        total += labels.size(0)\n",
    "        correct += (predicted == labels.to(device)).sum().item()\n",
    "\n",
    "accuracy = 100 * correct / total\n",
    "print(f'Test Accuracy: {accuracy:.2f}%')"
   ]
  }
 ],
 "metadata": {
  "kaggle": {
   "accelerator": "gpu",
   "dataSources": [
    {
     "isSourceIdPinned": true,
     "modelId": 393260,
     "modelInstanceId": 372382,
     "sourceId": 459489,
     "sourceType": "modelInstanceVersion"
    }
   ],
   "dockerImageVersionId": 31041,
   "isGpuEnabled": true,
   "isInternetEnabled": true,
   "language": "python",
   "sourceType": "notebook"
  },
  "kernelspec": {
   "display_name": "Python 3",
   "language": "python",
   "name": "python3"
  },
  "language_info": {
   "codemirror_mode": {
    "name": "ipython",
    "version": 3
   },
   "file_extension": ".py",
   "mimetype": "text/x-python",
   "name": "python",
   "nbconvert_exporter": "python",
   "pygments_lexer": "ipython3",
   "version": "3.11.11"
  },
  "papermill": {
   "default_parameters": {},
   "duration": 1904.131052,
   "end_time": "2025-07-05T18:23:15.488419",
   "environment_variables": {},
   "exception": null,
   "input_path": "__notebook__.ipynb",
   "output_path": "__notebook__.ipynb",
   "parameters": {},
   "start_time": "2025-07-05T17:51:31.357367",
   "version": "2.6.0"
  }
 },
 "nbformat": 4,
 "nbformat_minor": 5
}
