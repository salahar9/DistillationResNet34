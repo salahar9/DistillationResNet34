{
 "cells": [
  {
   "cell_type": "code",
   "execution_count": 1,
   "id": "d19afa5c",
   "metadata": {
    "_cell_guid": "b1076dfc-b9ad-4769-8c92-a6c4dae69d19",
    "_uuid": "8f2839f25d086af736a60e9eeb907d3b93b6e0e5",
    "execution": {
     "iopub.execute_input": "2025-07-05T11:42:52.428570Z",
     "iopub.status.busy": "2025-07-05T11:42:52.428321Z",
     "iopub.status.idle": "2025-07-05T11:42:54.178967Z",
     "shell.execute_reply": "2025-07-05T11:42:54.174480Z"
    },
    "papermill": {
     "duration": 1.759016,
     "end_time": "2025-07-05T11:42:54.181644",
     "exception": false,
     "start_time": "2025-07-05T11:42:52.422628",
     "status": "completed"
    },
    "tags": []
   },
   "outputs": [
    {
     "name": "stdout",
     "output_type": "stream",
     "text": [
      "/kaggle/input/studentcnn/pytorch/default/1/model (4).pth\n"
     ]
    }
   ],
   "source": [
    "# This Python 3 environment comes with many helpful analytics libraries installed\n",
    "# It is defined by the kaggle/python Docker image: https://github.com/kaggle/docker-python\n",
    "# For example, here's several helpful packages to load\n",
    "\n",
    "import numpy as np # linear algebra\n",
    "import pandas as pd # data processing, CSV file I/O (e.g. pd.read_csv)\n",
    "\n",
    "# Input data files are available in the read-only \"../input/\" directory\n",
    "# For example, running this (by clicking run or pressing Shift+Enter) will list all files under the input directory\n",
    "\n",
    "import os\n",
    "for dirname, _, filenames in os.walk('/kaggle/input'):\n",
    "    for filename in filenames:\n",
    "        print(os.path.join(dirname, filename))\n",
    "\n",
    "# You can write up to 20GB to the current directory (/kaggle/working/) that gets preserved as output when you create a version using \"Save & Run All\" \n",
    "# You can also write temporary files to /kaggle/temp/, but they won't be saved outside of the current session"
   ]
  },
  {
   "cell_type": "code",
   "execution_count": 2,
   "id": "fc87c75b",
   "metadata": {
    "execution": {
     "iopub.execute_input": "2025-07-05T11:42:54.189706Z",
     "iopub.status.busy": "2025-07-05T11:42:54.189348Z",
     "iopub.status.idle": "2025-07-05T11:43:09.290971Z",
     "shell.execute_reply": "2025-07-05T11:43:09.286594Z"
    },
    "papermill": {
     "duration": 15.109469,
     "end_time": "2025-07-05T11:43:09.293559",
     "exception": false,
     "start_time": "2025-07-05T11:42:54.184090",
     "status": "completed"
    },
    "tags": []
   },
   "outputs": [
    {
     "name": "stdout",
     "output_type": "stream",
     "text": [
      "\u001b[33mWARNING: Running pip as the 'root' user can result in broken permissions and conflicting behaviour with the system package manager. It is recommended to use a virtual environment instead: https://pip.pypa.io/warnings/venv\u001b[0m\u001b[33m\r\n",
      "\u001b[0m"
     ]
    },
    {
     "name": "stdout",
     "output_type": "stream",
     "text": [
      "\r\n",
      "\u001b[1m[\u001b[0m\u001b[34;49mnotice\u001b[0m\u001b[1;39;49m]\u001b[0m\u001b[39;49m A new release of pip is available: \u001b[0m\u001b[31;49m23.0.1\u001b[0m\u001b[39;49m -> \u001b[0m\u001b[32;49m25.1.1\u001b[0m\r\n",
      "\u001b[1m[\u001b[0m\u001b[34;49mnotice\u001b[0m\u001b[1;39;49m]\u001b[0m\u001b[39;49m To update, run: \u001b[0m\u001b[32;49mpip install --upgrade pip\u001b[0m\r\n"
     ]
    }
   ],
   "source": [
    "!pip install detectors -q"
   ]
  },
  {
   "cell_type": "code",
   "execution_count": 3,
   "id": "2fffbeb1",
   "metadata": {
    "execution": {
     "iopub.execute_input": "2025-07-05T11:43:09.301689Z",
     "iopub.status.busy": "2025-07-05T11:43:09.301399Z",
     "iopub.status.idle": "2025-07-05T11:43:43.147419Z",
     "shell.execute_reply": "2025-07-05T11:43:43.141875Z"
    },
    "papermill": {
     "duration": 33.854314,
     "end_time": "2025-07-05T11:43:43.150302",
     "exception": false,
     "start_time": "2025-07-05T11:43:09.295988",
     "status": "completed"
    },
    "tags": []
   },
   "outputs": [],
   "source": [
    "import torch\n",
    "import torch.nn as nn\n",
    "import torch.optim as optim\n",
    "import torchvision\n",
    "import torchvision.transforms as transforms\n",
    "from torch.utils.data import DataLoader\n",
    "import torch.nn.functional as F\n"
   ]
  },
  {
   "cell_type": "code",
   "execution_count": null,
   "id": "1c925f8e",
   "metadata": {
    "papermill": {
     "duration": 0.002331,
     "end_time": "2025-07-05T11:43:43.155133",
     "exception": false,
     "start_time": "2025-07-05T11:43:43.152802",
     "status": "completed"
    },
    "tags": []
   },
   "outputs": [],
   "source": []
  },
  {
   "cell_type": "code",
   "execution_count": 4,
   "id": "454ae3d5",
   "metadata": {
    "execution": {
     "iopub.execute_input": "2025-07-05T11:43:43.163530Z",
     "iopub.status.busy": "2025-07-05T11:43:43.163081Z",
     "iopub.status.idle": "2025-07-05T11:44:11.599279Z",
     "shell.execute_reply": "2025-07-05T11:44:11.592766Z"
    },
    "papermill": {
     "duration": 28.445318,
     "end_time": "2025-07-05T11:44:11.602735",
     "exception": false,
     "start_time": "2025-07-05T11:43:43.157417",
     "status": "completed"
    },
    "tags": []
   },
   "outputs": [
    {
     "name": "stderr",
     "output_type": "stream",
     "text": [
      "/usr/local/lib/python3.10/site-packages/tqdm/auto.py:21: TqdmWarning: IProgress not found. Please update jupyter and ipywidgets. See https://ipywidgets.readthedocs.io/en/stable/user_install.html\n",
      "  from .autonotebook import tqdm as notebook_tqdm\n"
     ]
    },
    {
     "name": "stderr",
     "output_type": "stream",
     "text": [
      "/usr/local/lib/python3.10/site-packages/torch_xla/__init__.py:251: UserWarning: `tensorflow` can conflict with `torch-xla`. Prefer `tensorflow-cpu` when using PyTorch/XLA. To silence this warning, `pip uninstall -y tensorflow && pip install tensorflow-cpu`. If you are in a notebook environment such as Colab or Kaggle, restart your notebook runtime afterwards.\n",
      "  warnings.warn(\n"
     ]
    },
    {
     "name": "stderr",
     "output_type": "stream",
     "text": [
      "\r",
      "  0%|          | 0.00/170M [00:00<?, ?B/s]"
     ]
    },
    {
     "name": "stderr",
     "output_type": "stream",
     "text": [
      "\r",
      "  0%|          | 65.5k/170M [00:00<08:10, 347kB/s]"
     ]
    },
    {
     "name": "stderr",
     "output_type": "stream",
     "text": [
      "\r",
      "  0%|          | 164k/170M [00:00<04:39, 610kB/s] "
     ]
    },
    {
     "name": "stderr",
     "output_type": "stream",
     "text": [
      "\r",
      "  0%|          | 328k/170M [00:00<02:53, 982kB/s]"
     ]
    },
    {
     "name": "stderr",
     "output_type": "stream",
     "text": [
      "\r",
      "  0%|          | 688k/170M [00:00<01:30, 1.88MB/s]"
     ]
    },
    {
     "name": "stderr",
     "output_type": "stream",
     "text": [
      "\r",
      "  1%|          | 1.51M/170M [00:00<00:42, 3.95MB/s]"
     ]
    },
    {
     "name": "stderr",
     "output_type": "stream",
     "text": [
      "\r",
      "  2%|▏         | 3.18M/170M [00:00<00:20, 8.01MB/s]"
     ]
    },
    {
     "name": "stderr",
     "output_type": "stream",
     "text": [
      "\r",
      "  3%|▎         | 5.80M/170M [00:00<00:12, 13.7MB/s]"
     ]
    },
    {
     "name": "stderr",
     "output_type": "stream",
     "text": [
      "\r",
      "  5%|▌         | 8.81M/170M [00:00<00:08, 18.7MB/s]"
     ]
    },
    {
     "name": "stderr",
     "output_type": "stream",
     "text": [
      "\r",
      "  7%|▋         | 11.9M/170M [00:01<00:07, 22.3MB/s]"
     ]
    },
    {
     "name": "stderr",
     "output_type": "stream",
     "text": [
      "\r",
      "  9%|▊         | 14.9M/170M [00:01<00:06, 24.7MB/s]"
     ]
    },
    {
     "name": "stderr",
     "output_type": "stream",
     "text": [
      "\r",
      " 11%|█         | 17.9M/170M [00:01<00:05, 26.3MB/s]"
     ]
    },
    {
     "name": "stderr",
     "output_type": "stream",
     "text": [
      "\r",
      " 12%|█▏        | 21.0M/170M [00:01<00:05, 27.6MB/s]"
     ]
    },
    {
     "name": "stderr",
     "output_type": "stream",
     "text": [
      "\r",
      " 14%|█▍        | 24.1M/170M [00:01<00:05, 28.7MB/s]"
     ]
    },
    {
     "name": "stderr",
     "output_type": "stream",
     "text": [
      "\r",
      " 16%|█▌        | 27.2M/170M [00:01<00:04, 29.2MB/s]"
     ]
    },
    {
     "name": "stderr",
     "output_type": "stream",
     "text": [
      "\r",
      " 18%|█▊        | 30.2M/170M [00:01<00:04, 29.6MB/s]"
     ]
    },
    {
     "name": "stderr",
     "output_type": "stream",
     "text": [
      "\r",
      " 20%|█▉        | 33.3M/170M [00:01<00:04, 29.8MB/s]"
     ]
    },
    {
     "name": "stderr",
     "output_type": "stream",
     "text": [
      "\r",
      " 21%|██▏       | 36.3M/170M [00:01<00:04, 30.1MB/s]"
     ]
    },
    {
     "name": "stderr",
     "output_type": "stream",
     "text": [
      "\r",
      " 23%|██▎       | 39.4M/170M [00:01<00:04, 29.3MB/s]"
     ]
    },
    {
     "name": "stderr",
     "output_type": "stream",
     "text": [
      "\r",
      " 25%|██▍       | 42.4M/170M [00:02<00:04, 29.6MB/s]"
     ]
    },
    {
     "name": "stderr",
     "output_type": "stream",
     "text": [
      "\r",
      " 27%|██▋       | 45.5M/170M [00:02<00:04, 30.0MB/s]"
     ]
    },
    {
     "name": "stderr",
     "output_type": "stream",
     "text": [
      "\r",
      " 29%|██▊       | 48.9M/170M [00:02<00:04, 28.3MB/s]"
     ]
    },
    {
     "name": "stderr",
     "output_type": "stream",
     "text": [
      "\r",
      " 31%|███       | 52.2M/170M [00:02<00:03, 29.8MB/s]"
     ]
    },
    {
     "name": "stderr",
     "output_type": "stream",
     "text": [
      "\r",
      " 33%|███▎      | 55.5M/170M [00:02<00:03, 30.5MB/s]"
     ]
    },
    {
     "name": "stderr",
     "output_type": "stream",
     "text": [
      "\r",
      " 34%|███▍      | 58.7M/170M [00:02<00:03, 31.1MB/s]"
     ]
    },
    {
     "name": "stderr",
     "output_type": "stream",
     "text": [
      "\r",
      " 36%|███▋      | 62.0M/170M [00:02<00:03, 31.5MB/s]"
     ]
    },
    {
     "name": "stderr",
     "output_type": "stream",
     "text": [
      "\r",
      " 38%|███▊      | 65.1M/170M [00:02<00:03, 31.5MB/s]"
     ]
    },
    {
     "name": "stderr",
     "output_type": "stream",
     "text": [
      "\r",
      " 40%|████      | 68.3M/170M [00:02<00:03, 31.6MB/s]"
     ]
    },
    {
     "name": "stderr",
     "output_type": "stream",
     "text": [
      "\r",
      " 42%|████▏     | 71.5M/170M [00:02<00:03, 30.9MB/s]"
     ]
    },
    {
     "name": "stderr",
     "output_type": "stream",
     "text": [
      "\r",
      " 44%|████▍     | 74.6M/170M [00:03<00:03, 31.0MB/s]"
     ]
    },
    {
     "name": "stderr",
     "output_type": "stream",
     "text": [
      "\r",
      " 46%|████▌     | 77.8M/170M [00:03<00:02, 31.2MB/s]"
     ]
    },
    {
     "name": "stderr",
     "output_type": "stream",
     "text": [
      "\r",
      " 47%|████▋     | 81.0M/170M [00:03<00:02, 31.2MB/s]"
     ]
    },
    {
     "name": "stderr",
     "output_type": "stream",
     "text": [
      "\r",
      " 49%|████▉     | 84.1M/170M [00:03<00:02, 31.4MB/s]"
     ]
    },
    {
     "name": "stderr",
     "output_type": "stream",
     "text": [
      "\r",
      " 51%|█████     | 87.3M/170M [00:03<00:02, 31.3MB/s]"
     ]
    },
    {
     "name": "stderr",
     "output_type": "stream",
     "text": [
      "\r",
      " 53%|█████▎    | 90.4M/170M [00:03<00:02, 31.3MB/s]"
     ]
    },
    {
     "name": "stderr",
     "output_type": "stream",
     "text": [
      "\r",
      " 55%|█████▍    | 93.6M/170M [00:03<00:02, 28.3MB/s]"
     ]
    },
    {
     "name": "stderr",
     "output_type": "stream",
     "text": [
      "\r",
      " 57%|█████▋    | 97.4M/170M [00:03<00:02, 30.8MB/s]"
     ]
    },
    {
     "name": "stderr",
     "output_type": "stream",
     "text": [
      "\r",
      " 59%|█████▉    | 101M/170M [00:03<00:02, 32.5MB/s] "
     ]
    },
    {
     "name": "stderr",
     "output_type": "stream",
     "text": [
      "\r",
      " 61%|██████    | 104M/170M [00:04<00:02, 31.9MB/s]"
     ]
    },
    {
     "name": "stderr",
     "output_type": "stream",
     "text": [
      "\r",
      " 63%|██████▎   | 108M/170M [00:04<00:01, 31.9MB/s]"
     ]
    },
    {
     "name": "stderr",
     "output_type": "stream",
     "text": [
      "\r",
      " 65%|██████▌   | 111M/170M [00:04<00:01, 32.6MB/s]"
     ]
    },
    {
     "name": "stderr",
     "output_type": "stream",
     "text": [
      "\r",
      " 67%|██████▋   | 115M/170M [00:04<00:01, 33.7MB/s]"
     ]
    },
    {
     "name": "stderr",
     "output_type": "stream",
     "text": [
      "\r",
      " 69%|██████▉   | 118M/170M [00:04<00:01, 34.6MB/s]"
     ]
    },
    {
     "name": "stderr",
     "output_type": "stream",
     "text": [
      "\r",
      " 71%|███████▏  | 122M/170M [00:04<00:01, 31.6MB/s]"
     ]
    },
    {
     "name": "stderr",
     "output_type": "stream",
     "text": [
      "\r",
      " 73%|███████▎  | 125M/170M [00:04<00:01, 31.1MB/s]"
     ]
    },
    {
     "name": "stderr",
     "output_type": "stream",
     "text": [
      "\r",
      " 75%|███████▌  | 128M/170M [00:04<00:01, 31.0MB/s]"
     ]
    },
    {
     "name": "stderr",
     "output_type": "stream",
     "text": [
      "\r",
      " 77%|███████▋  | 132M/170M [00:04<00:01, 31.9MB/s]"
     ]
    },
    {
     "name": "stderr",
     "output_type": "stream",
     "text": [
      "\r",
      " 79%|███████▉  | 135M/170M [00:04<00:01, 32.0MB/s]"
     ]
    },
    {
     "name": "stderr",
     "output_type": "stream",
     "text": [
      "\r",
      " 81%|████████  | 138M/170M [00:05<00:00, 32.9MB/s]"
     ]
    },
    {
     "name": "stderr",
     "output_type": "stream",
     "text": [
      "\r",
      " 83%|████████▎ | 142M/170M [00:05<00:00, 33.0MB/s]"
     ]
    },
    {
     "name": "stderr",
     "output_type": "stream",
     "text": [
      "\r",
      " 85%|████████▌ | 145M/170M [00:05<00:00, 32.6MB/s]"
     ]
    },
    {
     "name": "stderr",
     "output_type": "stream",
     "text": [
      "\r",
      " 87%|████████▋ | 148M/170M [00:05<00:00, 32.2MB/s]"
     ]
    },
    {
     "name": "stderr",
     "output_type": "stream",
     "text": [
      "\r",
      " 89%|████████▉ | 152M/170M [00:05<00:00, 32.9MB/s]"
     ]
    },
    {
     "name": "stderr",
     "output_type": "stream",
     "text": [
      "\r",
      " 91%|█████████ | 155M/170M [00:05<00:00, 33.3MB/s]"
     ]
    },
    {
     "name": "stderr",
     "output_type": "stream",
     "text": [
      "\r",
      " 93%|█████████▎| 159M/170M [00:05<00:00, 32.9MB/s]"
     ]
    },
    {
     "name": "stderr",
     "output_type": "stream",
     "text": [
      "\r",
      " 95%|█████████▍| 162M/170M [00:05<00:00, 33.3MB/s]"
     ]
    },
    {
     "name": "stderr",
     "output_type": "stream",
     "text": [
      "\r",
      " 97%|█████████▋| 165M/170M [00:05<00:00, 29.7MB/s]"
     ]
    },
    {
     "name": "stderr",
     "output_type": "stream",
     "text": [
      "\r",
      " 99%|█████████▉| 169M/170M [00:06<00:00, 30.5MB/s]"
     ]
    },
    {
     "name": "stderr",
     "output_type": "stream",
     "text": [
      "\r",
      "100%|██████████| 170M/170M [00:06<00:00, 28.2MB/s]"
     ]
    },
    {
     "name": "stderr",
     "output_type": "stream",
     "text": [
      "\n"
     ]
    },
    {
     "name": "stderr",
     "output_type": "stream",
     "text": [
      "Downloading: \"https://huggingface.co/edadaltocg/resnet34_cifar10/resolve/main/pytorch_model.bin\" to /root/.cache/torch/hub/checkpoints/resnet34_cifar10.pth\n"
     ]
    },
    {
     "name": "stderr",
     "output_type": "stream",
     "text": [
      "\r",
      "  0%|          | 0.00/81.3M [00:00<?, ?B/s]"
     ]
    },
    {
     "name": "stderr",
     "output_type": "stream",
     "text": [
      "\r",
      "  8%|▊         | 6.88M/81.3M [00:00<00:01, 72.0MB/s]"
     ]
    },
    {
     "name": "stderr",
     "output_type": "stream",
     "text": [
      "\r",
      " 18%|█▊        | 14.6M/81.3M [00:00<00:01, 55.8MB/s]"
     ]
    },
    {
     "name": "stderr",
     "output_type": "stream",
     "text": [
      "\r",
      " 25%|██▌       | 20.5M/81.3M [00:00<00:01, 57.7MB/s]"
     ]
    },
    {
     "name": "stderr",
     "output_type": "stream",
     "text": [
      "\r",
      " 34%|███▎      | 27.2M/81.3M [00:00<00:00, 59.9MB/s]"
     ]
    },
    {
     "name": "stderr",
     "output_type": "stream",
     "text": [
      "\r",
      " 42%|████▏     | 34.4M/81.3M [00:00<00:00, 55.8MB/s]"
     ]
    },
    {
     "name": "stderr",
     "output_type": "stream",
     "text": [
      "\r",
      " 49%|████▉     | 40.2M/81.3M [00:00<00:00, 57.3MB/s]"
     ]
    },
    {
     "name": "stderr",
     "output_type": "stream",
     "text": [
      "\r",
      " 59%|█████▉    | 48.1M/81.3M [00:00<00:00, 64.6MB/s]"
     ]
    },
    {
     "name": "stderr",
     "output_type": "stream",
     "text": [
      "\r",
      " 67%|██████▋   | 54.5M/81.3M [00:00<00:00, 55.0MB/s]"
     ]
    },
    {
     "name": "stderr",
     "output_type": "stream",
     "text": [
      "\r",
      " 74%|███████▍  | 60.2M/81.3M [00:01<00:00, 56.3MB/s]"
     ]
    },
    {
     "name": "stderr",
     "output_type": "stream",
     "text": [
      "\r",
      " 83%|████████▎ | 67.2M/81.3M [00:01<00:00, 60.9MB/s]"
     ]
    },
    {
     "name": "stderr",
     "output_type": "stream",
     "text": [
      "\r",
      " 91%|█████████ | 73.6M/81.3M [00:01<00:00, 53.8MB/s]"
     ]
    },
    {
     "name": "stderr",
     "output_type": "stream",
     "text": [
      "\r",
      " 98%|█████████▊| 79.9M/81.3M [00:01<00:00, 56.6MB/s]"
     ]
    },
    {
     "name": "stderr",
     "output_type": "stream",
     "text": [
      "\r",
      "100%|██████████| 81.3M/81.3M [00:01<00:00, 58.3MB/s]"
     ]
    },
    {
     "name": "stderr",
     "output_type": "stream",
     "text": [
      "\n"
     ]
    }
   ],
   "source": [
    "import torch,timm,detectors\n",
    "from torchvision import datasets, transforms\n",
    "from torch.utils.data import DataLoader\n",
    "from torch.nn import KLDivLoss\n",
    "transform = transforms.Compose([\n",
    "    transforms.Resize((32, 32)),\n",
    "    transforms.ToTensor(),\n",
    "    transforms.Normalize(mean=[0.4914, 0.4822, 0.4465],\n",
    "                         std=[0.2023, 0.1994, 0.2010])\n",
    "])\n",
    "train_dataset = datasets.CIFAR10(root='./data', train=True, download=True, transform=transform)\n",
    "train_loader = DataLoader(train_dataset, batch_size=64, shuffle=True)\n",
    "device = torch.device(\"cuda\" if torch.cuda.is_available() else \"cpu\")\n",
    "teacher_model = timm.create_model(\"resnet34_cifar10\", pretrained=True).to(device)\n"
   ]
  },
  {
   "cell_type": "code",
   "execution_count": 5,
   "id": "a5d6a5d7",
   "metadata": {
    "execution": {
     "iopub.execute_input": "2025-07-05T11:44:11.620142Z",
     "iopub.status.busy": "2025-07-05T11:44:11.619687Z",
     "iopub.status.idle": "2025-07-05T11:44:11.632042Z",
     "shell.execute_reply": "2025-07-05T11:44:11.627680Z"
    },
    "papermill": {
     "duration": 0.025155,
     "end_time": "2025-07-05T11:44:11.634778",
     "exception": false,
     "start_time": "2025-07-05T11:44:11.609623",
     "status": "completed"
    },
    "tags": []
   },
   "outputs": [],
   "source": [
    "# Define the StudentCNN model\n",
    "class StudentCNN(nn.Module):\n",
    "    def __init__(self):\n",
    "        super(StudentCNN, self).__init__()\n",
    "        self.conv1 = nn.Conv2d(3, 32, 3, padding=1)\n",
    "        self.conv2 = nn.Conv2d(32, 64, 3, padding=1)\n",
    "        self.pool = nn.MaxPool2d(2, 2)\n",
    "        self.fc1 = nn.Linear(64 * 8 * 8, 512)  # Adjusted for CIFAR-10\n",
    "        self.fc2 = nn.Linear(512, 10)\n",
    "\n",
    "    def forward(self, x):\n",
    "        x = self.pool(F.relu(self.conv1(x)))  # 32x32 -> 16x16\n",
    "        x = self.pool(F.relu(self.conv2(x)))  # 16x16 -> 8x8\n",
    "        x = x.view(x.size(0), -1)\n",
    "        x = F.relu(self.fc1(x))\n",
    "        return self.fc2(x)"
   ]
  },
  {
   "cell_type": "code",
   "execution_count": 6,
   "id": "bc889f8f",
   "metadata": {
    "execution": {
     "iopub.execute_input": "2025-07-05T11:44:11.650444Z",
     "iopub.status.busy": "2025-07-05T11:44:11.650210Z",
     "iopub.status.idle": "2025-07-05T11:44:11.661748Z",
     "shell.execute_reply": "2025-07-05T11:44:11.657673Z"
    },
    "papermill": {
     "duration": 0.023939,
     "end_time": "2025-07-05T11:44:11.664950",
     "exception": false,
     "start_time": "2025-07-05T11:44:11.641011",
     "status": "completed"
    },
    "tags": []
   },
   "outputs": [],
   "source": [
    "def train_with_kl_and_ce(student_model, teacher_model, loader, optimizer, epochs=50, temperature=30, alpha=0.7):\n",
    "    kl_loss = nn.KLDivLoss(reduction='batchmean')\n",
    "    ce_loss = nn.CrossEntropyLoss()\n",
    "    student_model.train()\n",
    "\n",
    "    for epoch in range(epochs):\n",
    "        total_loss = 0\n",
    "        for images, labels in loader:\n",
    "            images, labels = images.to(device), labels.to(device)\n",
    "\n",
    "            with torch.no_grad():\n",
    "                teacher_logits = teacher_model(images)\n",
    "                teacher_probs = F.softmax(teacher_logits / temperature, dim=1)\n",
    "\n",
    "            optimizer.zero_grad()\n",
    "            student_logits = student_model(images)\n",
    "\n",
    "            # KL Divergence Loss\n",
    "            student_log_probs = F.log_softmax(student_logits / temperature, dim=1)\n",
    "            loss_kl = kl_loss(student_log_probs, teacher_probs) * (temperature ** 2)\n",
    "\n",
    "            # Cross-Entropy Loss\n",
    "            loss_ce = ce_loss(student_logits, labels)\n",
    "\n",
    "            # Combined Loss\n",
    "            loss = alpha * loss_kl + (1 - alpha) * loss_ce\n",
    "\n",
    "            loss.backward()\n",
    "            optimizer.step()\n",
    "            total_loss += loss.item()\n",
    "\n",
    "        print(f\"Epoch {epoch+1}, Total Loss: {total_loss:.4f}\")\n"
   ]
  },
  {
   "cell_type": "code",
   "execution_count": 7,
   "id": "88ec3ad3",
   "metadata": {
    "execution": {
     "iopub.execute_input": "2025-07-05T11:44:11.680621Z",
     "iopub.status.busy": "2025-07-05T11:44:11.680375Z",
     "iopub.status.idle": "2025-07-05T11:44:11.706406Z",
     "shell.execute_reply": "2025-07-05T11:44:11.701283Z"
    },
    "papermill": {
     "duration": 0.037824,
     "end_time": "2025-07-05T11:44:11.709076",
     "exception": false,
     "start_time": "2025-07-05T11:44:11.671252",
     "status": "completed"
    },
    "tags": []
   },
   "outputs": [],
   "source": [
    "student_model_kl = StudentCNN()"
   ]
  },
  {
   "cell_type": "code",
   "execution_count": 8,
   "id": "cbf1202e",
   "metadata": {
    "execution": {
     "iopub.execute_input": "2025-07-05T11:44:11.724446Z",
     "iopub.status.busy": "2025-07-05T11:44:11.724220Z",
     "iopub.status.idle": "2025-07-05T13:27:00.333744Z",
     "shell.execute_reply": "2025-07-05T13:27:00.329663Z"
    },
    "papermill": {
     "duration": 6168.628758,
     "end_time": "2025-07-05T13:27:00.343771",
     "exception": false,
     "start_time": "2025-07-05T11:44:11.715013",
     "status": "completed"
    },
    "tags": []
   },
   "outputs": [
    {
     "name": "stdout",
     "output_type": "stream",
     "text": [
      "Epoch 1, Total Loss: 2437.8152\n"
     ]
    },
    {
     "name": "stdout",
     "output_type": "stream",
     "text": [
      "Epoch 2, Total Loss: 1807.4812\n"
     ]
    },
    {
     "name": "stdout",
     "output_type": "stream",
     "text": [
      "Epoch 3, Total Loss: 1513.0496\n"
     ]
    },
    {
     "name": "stdout",
     "output_type": "stream",
     "text": [
      "Epoch 4, Total Loss: 1291.7191\n"
     ]
    },
    {
     "name": "stdout",
     "output_type": "stream",
     "text": [
      "Epoch 5, Total Loss: 1091.4017\n"
     ]
    },
    {
     "name": "stdout",
     "output_type": "stream",
     "text": [
      "Epoch 6, Total Loss: 907.7544\n"
     ]
    },
    {
     "name": "stdout",
     "output_type": "stream",
     "text": [
      "Epoch 7, Total Loss: 759.3326\n"
     ]
    },
    {
     "name": "stdout",
     "output_type": "stream",
     "text": [
      "Epoch 8, Total Loss: 638.8319\n"
     ]
    },
    {
     "name": "stdout",
     "output_type": "stream",
     "text": [
      "Epoch 9, Total Loss: 553.1173\n"
     ]
    },
    {
     "name": "stdout",
     "output_type": "stream",
     "text": [
      "Epoch 10, Total Loss: 478.9497\n"
     ]
    },
    {
     "name": "stdout",
     "output_type": "stream",
     "text": [
      "Epoch 11, Total Loss: 433.7927\n"
     ]
    },
    {
     "name": "stdout",
     "output_type": "stream",
     "text": [
      "Epoch 12, Total Loss: 393.8701\n"
     ]
    },
    {
     "name": "stdout",
     "output_type": "stream",
     "text": [
      "Epoch 13, Total Loss: 360.7909\n"
     ]
    },
    {
     "name": "stdout",
     "output_type": "stream",
     "text": [
      "Epoch 14, Total Loss: 347.0193\n"
     ]
    },
    {
     "name": "stdout",
     "output_type": "stream",
     "text": [
      "Epoch 15, Total Loss: 331.6392\n"
     ]
    },
    {
     "name": "stdout",
     "output_type": "stream",
     "text": [
      "Epoch 16, Total Loss: 316.3291\n"
     ]
    },
    {
     "name": "stdout",
     "output_type": "stream",
     "text": [
      "Epoch 17, Total Loss: 303.1828\n"
     ]
    },
    {
     "name": "stdout",
     "output_type": "stream",
     "text": [
      "Epoch 18, Total Loss: 283.4723\n"
     ]
    },
    {
     "name": "stdout",
     "output_type": "stream",
     "text": [
      "Epoch 19, Total Loss: 275.8280\n"
     ]
    },
    {
     "name": "stdout",
     "output_type": "stream",
     "text": [
      "Epoch 20, Total Loss: 276.3026\n"
     ]
    },
    {
     "name": "stdout",
     "output_type": "stream",
     "text": [
      "Epoch 21, Total Loss: 262.3668\n"
     ]
    },
    {
     "name": "stdout",
     "output_type": "stream",
     "text": [
      "Epoch 22, Total Loss: 256.9884\n"
     ]
    },
    {
     "name": "stdout",
     "output_type": "stream",
     "text": [
      "Epoch 23, Total Loss: 249.9034\n"
     ]
    },
    {
     "name": "stdout",
     "output_type": "stream",
     "text": [
      "Epoch 24, Total Loss: 245.6521\n"
     ]
    },
    {
     "name": "stdout",
     "output_type": "stream",
     "text": [
      "Epoch 25, Total Loss: 240.7362\n"
     ]
    },
    {
     "name": "stdout",
     "output_type": "stream",
     "text": [
      "Epoch 26, Total Loss: 240.7469\n"
     ]
    },
    {
     "name": "stdout",
     "output_type": "stream",
     "text": [
      "Epoch 27, Total Loss: 226.3240\n"
     ]
    },
    {
     "name": "stdout",
     "output_type": "stream",
     "text": [
      "Epoch 28, Total Loss: 226.7508\n"
     ]
    },
    {
     "name": "stdout",
     "output_type": "stream",
     "text": [
      "Epoch 29, Total Loss: 225.5395\n"
     ]
    },
    {
     "name": "stdout",
     "output_type": "stream",
     "text": [
      "Epoch 30, Total Loss: 221.6140\n"
     ]
    },
    {
     "name": "stdout",
     "output_type": "stream",
     "text": [
      "Epoch 31, Total Loss: 221.0688\n"
     ]
    },
    {
     "name": "stdout",
     "output_type": "stream",
     "text": [
      "Epoch 32, Total Loss: 216.4789\n"
     ]
    },
    {
     "name": "stdout",
     "output_type": "stream",
     "text": [
      "Epoch 33, Total Loss: 206.9554\n"
     ]
    },
    {
     "name": "stdout",
     "output_type": "stream",
     "text": [
      "Epoch 34, Total Loss: 209.8106\n"
     ]
    },
    {
     "name": "stdout",
     "output_type": "stream",
     "text": [
      "Epoch 35, Total Loss: 208.4115\n"
     ]
    },
    {
     "name": "stdout",
     "output_type": "stream",
     "text": [
      "Epoch 36, Total Loss: 205.4891\n"
     ]
    },
    {
     "name": "stdout",
     "output_type": "stream",
     "text": [
      "Epoch 37, Total Loss: 204.3790\n"
     ]
    },
    {
     "name": "stdout",
     "output_type": "stream",
     "text": [
      "Epoch 38, Total Loss: 200.1583\n"
     ]
    },
    {
     "name": "stdout",
     "output_type": "stream",
     "text": [
      "Epoch 39, Total Loss: 196.5198\n"
     ]
    },
    {
     "name": "stdout",
     "output_type": "stream",
     "text": [
      "Epoch 40, Total Loss: 198.2189\n"
     ]
    },
    {
     "name": "stdout",
     "output_type": "stream",
     "text": [
      "Epoch 41, Total Loss: 194.2116\n"
     ]
    },
    {
     "name": "stdout",
     "output_type": "stream",
     "text": [
      "Epoch 42, Total Loss: 191.3929\n"
     ]
    },
    {
     "name": "stdout",
     "output_type": "stream",
     "text": [
      "Epoch 43, Total Loss: 188.4857\n"
     ]
    },
    {
     "name": "stdout",
     "output_type": "stream",
     "text": [
      "Epoch 44, Total Loss: 192.2327\n"
     ]
    },
    {
     "name": "stdout",
     "output_type": "stream",
     "text": [
      "Epoch 45, Total Loss: 188.9961\n"
     ]
    },
    {
     "name": "stdout",
     "output_type": "stream",
     "text": [
      "Epoch 46, Total Loss: 185.4066\n"
     ]
    },
    {
     "name": "stdout",
     "output_type": "stream",
     "text": [
      "Epoch 47, Total Loss: 180.3852\n"
     ]
    },
    {
     "name": "stdout",
     "output_type": "stream",
     "text": [
      "Epoch 48, Total Loss: 181.1360\n"
     ]
    },
    {
     "name": "stdout",
     "output_type": "stream",
     "text": [
      "Epoch 49, Total Loss: 184.2387\n"
     ]
    },
    {
     "name": "stdout",
     "output_type": "stream",
     "text": [
      "Epoch 50, Total Loss: 181.1936\n"
     ]
    }
   ],
   "source": [
    "\n",
    "\n",
    "student_model_kl.to(device)\n",
    "optimizer_kl = optim.Adam(student_model_kl.parameters(), lr=0.001)\n",
    "\n",
    "train_with_kl_and_ce(student_model_kl, teacher_model, train_loader, optimizer_kl)"
   ]
  },
  {
   "cell_type": "code",
   "execution_count": 9,
   "id": "8cabf1cf",
   "metadata": {
    "execution": {
     "iopub.execute_input": "2025-07-05T13:27:00.365102Z",
     "iopub.status.busy": "2025-07-05T13:27:00.364804Z",
     "iopub.status.idle": "2025-07-05T13:27:00.387613Z",
     "shell.execute_reply": "2025-07-05T13:27:00.382486Z"
    },
    "papermill": {
     "duration": 0.03725,
     "end_time": "2025-07-05T13:27:00.389913",
     "exception": false,
     "start_time": "2025-07-05T13:27:00.352663",
     "status": "completed"
    },
    "tags": []
   },
   "outputs": [],
   "source": [
    "torch.save(student_model_kl, '/kaggle/working/model.pth')"
   ]
  },
  {
   "cell_type": "code",
   "execution_count": 10,
   "id": "f032ffe3",
   "metadata": {
    "execution": {
     "iopub.execute_input": "2025-07-05T13:27:00.410417Z",
     "iopub.status.busy": "2025-07-05T13:27:00.410197Z",
     "iopub.status.idle": "2025-07-05T13:27:04.589844Z",
     "shell.execute_reply": "2025-07-05T13:27:04.583358Z"
    },
    "papermill": {
     "duration": 4.194721,
     "end_time": "2025-07-05T13:27:04.593209",
     "exception": false,
     "start_time": "2025-07-05T13:27:00.398488",
     "status": "completed"
    },
    "tags": []
   },
   "outputs": [
    {
     "name": "stdout",
     "output_type": "stream",
     "text": [
      "Test Accuracy: 74.10%\n"
     ]
    }
   ],
   "source": [
    "correct = 0\n",
    "total = 0\n",
    "test_dataset = datasets.CIFAR10(root='./data', train=False, download=True, transform=transform)\n",
    "test_loader = DataLoader(test_dataset, batch_size=64, shuffle=False)\n",
    "with torch.no_grad():\n",
    "    for images, labels in test_loader:\n",
    "        outputs = student_model_kl(images.to(device))\n",
    "        _, predicted = torch.max(outputs.data, 1)\n",
    "        total += labels.size(0)\n",
    "        correct += (predicted == labels.to(device)).sum().item()\n",
    "\n",
    "accuracy = 100 * correct / total\n",
    "print(f'Test Accuracy: {accuracy:.2f}%')"
   ]
  }
 ],
 "metadata": {
  "kaggle": {
   "accelerator": "tpu1vmV38",
   "dataSources": [
    {
     "isSourceIdPinned": true,
     "modelId": 393260,
     "modelInstanceId": 372382,
     "sourceId": 459489,
     "sourceType": "modelInstanceVersion"
    }
   ],
   "isGpuEnabled": false,
   "isInternetEnabled": true,
   "language": "python",
   "sourceType": "notebook"
  },
  "kernelspec": {
   "display_name": "Python 3",
   "language": "python",
   "name": "python3"
  },
  "language_info": {
   "codemirror_mode": {
    "name": "ipython",
    "version": 3
   },
   "file_extension": ".py",
   "mimetype": "text/x-python",
   "name": "python",
   "nbconvert_exporter": "python",
   "pygments_lexer": "ipython3",
   "version": "3.10.17"
  },
  "papermill": {
   "default_parameters": {},
   "duration": 6258.024617,
   "end_time": "2025-07-05T13:27:07.328479",
   "environment_variables": {},
   "exception": null,
   "input_path": "__notebook__.ipynb",
   "output_path": "__notebook__.ipynb",
   "parameters": {},
   "start_time": "2025-07-05T11:42:49.303862",
   "version": "2.6.0"
  }
 },
 "nbformat": 4,
 "nbformat_minor": 5
}
