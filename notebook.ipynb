{
 "cells": [
  {
   "cell_type": "code",
   "execution_count": 1,
   "id": "ee72a3ce",
   "metadata": {
    "_cell_guid": "b1076dfc-b9ad-4769-8c92-a6c4dae69d19",
    "_uuid": "8f2839f25d086af736a60e9eeb907d3b93b6e0e5",
    "execution": {
     "iopub.execute_input": "2025-07-05T17:10:17.949086Z",
     "iopub.status.busy": "2025-07-05T17:10:17.948199Z",
     "iopub.status.idle": "2025-07-05T17:10:19.382636Z",
     "shell.execute_reply": "2025-07-05T17:10:19.381718Z"
    },
    "papermill": {
     "duration": 1.439797,
     "end_time": "2025-07-05T17:10:19.383906",
     "exception": false,
     "start_time": "2025-07-05T17:10:17.944109",
     "status": "completed"
    },
    "tags": []
   },
   "outputs": [
    {
     "name": "stdout",
     "output_type": "stream",
     "text": [
      "/kaggle/input/studentcnn/pytorch/default/1/model (4).pth\n"
     ]
    }
   ],
   "source": [
    "# This Python 3 environment comes with many helpful analytics libraries installed\n",
    "# It is defined by the kaggle/python Docker image: https://github.com/kaggle/docker-python\n",
    "# For example, here's several helpful packages to load\n",
    "\n",
    "import numpy as np # linear algebra\n",
    "import pandas as pd # data processing, CSV file I/O (e.g. pd.read_csv)\n",
    "\n",
    "# Input data files are available in the read-only \"../input/\" directory\n",
    "# For example, running this (by clicking run or pressing Shift+Enter) will list all files under the input directory\n",
    "\n",
    "import os\n",
    "for dirname, _, filenames in os.walk('/kaggle/input'):\n",
    "    for filename in filenames:\n",
    "        print(os.path.join(dirname, filename))\n",
    "\n",
    "# You can write up to 20GB to the current directory (/kaggle/working/) that gets preserved as output when you create a version using \"Save & Run All\" \n",
    "# You can also write temporary files to /kaggle/temp/, but they won't be saved outside of the current session"
   ]
  },
  {
   "cell_type": "code",
   "execution_count": 2,
   "id": "3ddb15c3",
   "metadata": {
    "execution": {
     "iopub.execute_input": "2025-07-05T17:10:19.390495Z",
     "iopub.status.busy": "2025-07-05T17:10:19.389929Z",
     "iopub.status.idle": "2025-07-05T17:11:30.558291Z",
     "shell.execute_reply": "2025-07-05T17:11:30.557554Z"
    },
    "papermill": {
     "duration": 71.172805,
     "end_time": "2025-07-05T17:11:30.559784",
     "exception": false,
     "start_time": "2025-07-05T17:10:19.386979",
     "status": "completed"
    },
    "tags": []
   },
   "outputs": [
    {
     "name": "stdout",
     "output_type": "stream",
     "text": [
      "\u001b[2K   \u001b[90m━━━━━━━━━━━━━━━━━━━━━━━━━━━━━━━━━━━━━━━━\u001b[0m \u001b[32m616.8/616.8 kB\u001b[0m \u001b[31m17.1 MB/s\u001b[0m eta \u001b[36m0:00:00\u001b[0m\r\n",
      "\u001b[2K   \u001b[90m━━━━━━━━━━━━━━━━━━━━━━━━━━━━━━━━━━━━━━━━\u001b[0m \u001b[32m363.4/363.4 MB\u001b[0m \u001b[31m3.9 MB/s\u001b[0m eta \u001b[36m0:00:00\u001b[0m\r\n",
      "\u001b[2K   \u001b[90m━━━━━━━━━━━━━━━━━━━━━━━━━━━━━━━━━━━━━━━━\u001b[0m \u001b[32m664.8/664.8 MB\u001b[0m \u001b[31m2.1 MB/s\u001b[0m eta \u001b[36m0:00:00\u001b[0m\r\n",
      "\u001b[2K   \u001b[90m━━━━━━━━━━━━━━━━━━━━━━━━━━━━━━━━━━━━━━━━\u001b[0m \u001b[32m211.5/211.5 MB\u001b[0m \u001b[31m8.0 MB/s\u001b[0m eta \u001b[36m0:00:00\u001b[0m\r\n",
      "\u001b[2K   \u001b[90m━━━━━━━━━━━━━━━━━━━━━━━━━━━━━━━━━━━━━━━━\u001b[0m \u001b[32m56.3/56.3 MB\u001b[0m \u001b[31m30.0 MB/s\u001b[0m eta \u001b[36m0:00:00\u001b[0m\r\n",
      "\u001b[2K   \u001b[90m━━━━━━━━━━━━━━━━━━━━━━━━━━━━━━━━━━━━━━━━\u001b[0m \u001b[32m127.9/127.9 MB\u001b[0m \u001b[31m13.5 MB/s\u001b[0m eta \u001b[36m0:00:00\u001b[0m\r\n",
      "\u001b[2K   \u001b[90m━━━━━━━━━━━━━━━━━━━━━━━━━━━━━━━━━━━━━━━━\u001b[0m \u001b[32m207.5/207.5 MB\u001b[0m \u001b[31m8.3 MB/s\u001b[0m eta \u001b[36m0:00:00\u001b[0m\r\n",
      "\u001b[2K   \u001b[90m━━━━━━━━━━━━━━━━━━━━━━━━━━━━━━━━━━━━━━━━\u001b[0m \u001b[32m21.1/21.1 MB\u001b[0m \u001b[31m85.9 MB/s\u001b[0m eta \u001b[36m0:00:00\u001b[0m\r\n",
      "\u001b[2K   \u001b[90m━━━━━━━━━━━━━━━━━━━━━━━━━━━━━━━━━━━━━━━━\u001b[0m \u001b[32m31.3/31.3 MB\u001b[0m \u001b[31m50.9 MB/s\u001b[0m eta \u001b[36m0:00:00\u001b[0m\r\n",
      "\u001b[2K   \u001b[90m━━━━━━━━━━━━━━━━━━━━━━━━━━━━━━━━━━━━━━━━\u001b[0m \u001b[32m126.2/126.2 kB\u001b[0m \u001b[31m8.9 MB/s\u001b[0m eta \u001b[36m0:00:00\u001b[0m\r\n",
      "\u001b[2K   \u001b[90m━━━━━━━━━━━━━━━━━━━━━━━━━━━━━━━━━━━━━━━━\u001b[0m \u001b[32m78.8/78.8 kB\u001b[0m \u001b[31m5.7 MB/s\u001b[0m eta \u001b[36m0:00:00\u001b[0m\r\n",
      "\u001b[?25h"
     ]
    }
   ],
   "source": [
    "!pip install detectors -q"
   ]
  },
  {
   "cell_type": "code",
   "execution_count": 3,
   "id": "07c820ae",
   "metadata": {
    "execution": {
     "iopub.execute_input": "2025-07-05T17:11:30.598871Z",
     "iopub.status.busy": "2025-07-05T17:11:30.598267Z",
     "iopub.status.idle": "2025-07-05T17:11:38.614494Z",
     "shell.execute_reply": "2025-07-05T17:11:38.613713Z"
    },
    "papermill": {
     "duration": 8.036572,
     "end_time": "2025-07-05T17:11:38.616066",
     "exception": false,
     "start_time": "2025-07-05T17:11:30.579494",
     "status": "completed"
    },
    "tags": []
   },
   "outputs": [],
   "source": [
    "import torch\n",
    "import torch.nn as nn\n",
    "import torch.optim as optim\n",
    "import torchvision\n",
    "import torchvision.transforms as transforms\n",
    "from torch.utils.data import DataLoader\n",
    "import torch.nn.functional as F\n",
    "\n",
    "from torchvision import datasets, transforms\n",
    "from torch.utils.data import random_split, DataLoader\n"
   ]
  },
  {
   "cell_type": "code",
   "execution_count": null,
   "id": "a0986125",
   "metadata": {
    "papermill": {
     "duration": 0.01796,
     "end_time": "2025-07-05T17:11:38.652904",
     "exception": false,
     "start_time": "2025-07-05T17:11:38.634944",
     "status": "completed"
    },
    "tags": []
   },
   "outputs": [],
   "source": []
  },
  {
   "cell_type": "code",
   "execution_count": 4,
   "id": "596836ca",
   "metadata": {
    "execution": {
     "iopub.execute_input": "2025-07-05T17:11:38.689068Z",
     "iopub.status.busy": "2025-07-05T17:11:38.688689Z",
     "iopub.status.idle": "2025-07-05T17:11:57.121844Z",
     "shell.execute_reply": "2025-07-05T17:11:57.121211Z"
    },
    "papermill": {
     "duration": 18.45286,
     "end_time": "2025-07-05T17:11:57.123173",
     "exception": false,
     "start_time": "2025-07-05T17:11:38.670313",
     "status": "completed"
    },
    "tags": []
   },
   "outputs": [
    {
     "name": "stderr",
     "output_type": "stream",
     "text": [
      "100%|██████████| 170M/170M [00:03<00:00, 48.7MB/s]\n",
      "Downloading: \"https://huggingface.co/edadaltocg/resnet34_cifar10/resolve/main/pytorch_model.bin\" to /root/.cache/torch/hub/checkpoints/resnet34_cifar10.pth\n",
      "100%|██████████| 81.3M/81.3M [00:00<00:00, 281MB/s]\n"
     ]
    }
   ],
   "source": [
    "import torch,timm,detectors\n",
    "from torchvision import datasets, transforms\n",
    "from torch.utils.data import DataLoader\n",
    "from torch.nn import KLDivLoss\n",
    "transform = transforms.Compose([\n",
    "    transforms.Resize((32, 32)),\n",
    "    transforms.ToTensor(),\n",
    "    transforms.Normalize(mean=[0.4914, 0.4822, 0.4465],\n",
    "                         std=[0.2023, 0.1994, 0.2010])\n",
    "])\n",
    "train_dataset = datasets.CIFAR10(root='./data', train=True, download=True, transform=transform)\n",
    "train_loader = DataLoader(train_dataset, batch_size=128 , shuffle=True)\n",
    "device = torch.device(\"cuda\" if torch.cuda.is_available() else \"cpu\")\n",
    "teacher_model = timm.create_model(\"resnet34_cifar10\", pretrained=True).to(device)\n"
   ]
  },
  {
   "cell_type": "code",
   "execution_count": 5,
   "id": "dfc1f36a",
   "metadata": {
    "execution": {
     "iopub.execute_input": "2025-07-05T17:11:57.164769Z",
     "iopub.status.busy": "2025-07-05T17:11:57.163939Z",
     "iopub.status.idle": "2025-07-05T17:11:57.883218Z",
     "shell.execute_reply": "2025-07-05T17:11:57.882660Z"
    },
    "papermill": {
     "duration": 0.741362,
     "end_time": "2025-07-05T17:11:57.884673",
     "exception": false,
     "start_time": "2025-07-05T17:11:57.143311",
     "status": "completed"
    },
    "tags": []
   },
   "outputs": [],
   "source": [
    "\n",
    "cifar10_test = datasets.CIFAR10(root='./data', train=False, download=True, transform=transform)\n",
    "\n",
    "# Split into validation and test sets (50/50)\n",
    "val_size = len(cifar10_test) // 2\n",
    "test_size = len(cifar10_test) - val_size\n",
    "val_set, final_test_set = random_split(cifar10_test, [val_size, test_size])\n",
    "\n",
    "val_loader = DataLoader(val_set, batch_size=128, shuffle=False)\n",
    "test_loader = DataLoader(final_test_set, batch_size=128, shuffle=False)\n"
   ]
  },
  {
   "cell_type": "code",
   "execution_count": 6,
   "id": "0bc2af07",
   "metadata": {
    "execution": {
     "iopub.execute_input": "2025-07-05T17:11:57.924835Z",
     "iopub.status.busy": "2025-07-05T17:11:57.924265Z",
     "iopub.status.idle": "2025-07-05T17:11:57.929444Z",
     "shell.execute_reply": "2025-07-05T17:11:57.928890Z"
    },
    "papermill": {
     "duration": 0.026223,
     "end_time": "2025-07-05T17:11:57.930610",
     "exception": false,
     "start_time": "2025-07-05T17:11:57.904387",
     "status": "completed"
    },
    "tags": []
   },
   "outputs": [],
   "source": [
    "# Define the StudentCNN model\n",
    "class StudentCNN(nn.Module):\n",
    "    def __init__(self):\n",
    "        super(StudentCNN, self).__init__()\n",
    "        self.conv1 = nn.Conv2d(3, 32, 3, padding=1)\n",
    "        self.conv2 = nn.Conv2d(32, 64, 3, padding=1)\n",
    "        self.pool = nn.MaxPool2d(2, 2)\n",
    "        self.fc1 = nn.Linear(64 * 8 * 8, 512)  # Adjusted for CIFAR-10\n",
    "        self.fc2 = nn.Linear(512, 10)\n",
    "\n",
    "    def forward(self, x):\n",
    "        x = self.pool(F.relu(self.conv1(x)))  # 32x32 -> 16x16\n",
    "        x = self.pool(F.relu(self.conv2(x)))  # 16x16 -> 8x8\n",
    "        x = x.view(x.size(0), -1)\n",
    "        x = F.relu(self.fc1(x))\n",
    "        return self.fc2(x)"
   ]
  },
  {
   "cell_type": "code",
   "execution_count": 7,
   "id": "a22fd03e",
   "metadata": {
    "execution": {
     "iopub.execute_input": "2025-07-05T17:11:57.970686Z",
     "iopub.status.busy": "2025-07-05T17:11:57.970138Z",
     "iopub.status.idle": "2025-07-05T17:11:57.974641Z",
     "shell.execute_reply": "2025-07-05T17:11:57.974079Z"
    },
    "papermill": {
     "duration": 0.02567,
     "end_time": "2025-07-05T17:11:57.975766",
     "exception": false,
     "start_time": "2025-07-05T17:11:57.950096",
     "status": "completed"
    },
    "tags": []
   },
   "outputs": [],
   "source": [
    "def evaluate(model, loader):\n",
    "    model.eval()\n",
    "    correct = 0\n",
    "    total = 0\n",
    "    with torch.no_grad():\n",
    "        for images, labels in loader:\n",
    "            images, labels = images.to(device), labels.to(device)\n",
    "            outputs = model(images)\n",
    "            _, predicted = torch.max(outputs, 1)\n",
    "            total += labels.size(0)\n",
    "            correct += (predicted == labels).sum().item()\n",
    "    return 100 * correct / total\n"
   ]
  },
  {
   "cell_type": "code",
   "execution_count": 8,
   "id": "2d35d671",
   "metadata": {
    "execution": {
     "iopub.execute_input": "2025-07-05T17:11:58.016273Z",
     "iopub.status.busy": "2025-07-05T17:11:58.015713Z",
     "iopub.status.idle": "2025-07-05T17:11:58.022788Z",
     "shell.execute_reply": "2025-07-05T17:11:58.022218Z"
    },
    "papermill": {
     "duration": 0.028229,
     "end_time": "2025-07-05T17:11:58.023847",
     "exception": false,
     "start_time": "2025-07-05T17:11:57.995618",
     "status": "completed"
    },
    "tags": []
   },
   "outputs": [],
   "source": [
    "def train_with_kl_and_ce(student_model, teacher_model, loader, optimizer, epochs=600, temperature=2, alpha=0.5):\n",
    "    kl_loss = nn.KLDivLoss(reduction='batchmean')\n",
    "    ce_loss = nn.CrossEntropyLoss()\n",
    "    student_model.train()\n",
    "    teacher_model.eval()\n",
    "    best_val_acc = 0\n",
    "    patience = 15\n",
    "    epochs_no_improve = 0\n",
    "    for epoch in range(epochs):\n",
    "        total_loss = 0\n",
    "        for images, labels in loader:\n",
    "            images, labels = images.to(device), labels.to(device)\n",
    "\n",
    "            with torch.no_grad():\n",
    "                teacher_logits = teacher_model(images)\n",
    "                teacher_probs = F.softmax(teacher_logits / temperature, dim=1)\n",
    "              \n",
    "            optimizer.zero_grad()\n",
    "            student_logits = student_model(images)\n",
    "\n",
    "            # KL Divergence Loss\n",
    "            student_log_probs = F.log_softmax(student_logits / temperature, dim=1)\n",
    "\n",
    "            loss_kl = kl_loss(student_log_probs, teacher_probs) * (temperature ** 2)\n",
    "\n",
    "            # Cross-Entropy Loss\n",
    "            loss_ce = ce_loss(student_logits, labels)\n",
    "\n",
    "            # Combined Loss\n",
    "            loss = alpha * loss_kl + (1 - alpha) * loss_ce\n",
    "\n",
    "            loss.backward()\n",
    "            optimizer.step()\n",
    "            total_loss += loss.item()\n",
    "        val_acc = evaluate(student_model, val_loader)\n",
    "        \n",
    "        if val_acc > best_val_acc:\n",
    "                best_val_acc = val_acc\n",
    "                epochs_no_improve = 0\n",
    "                # Save best model\n",
    "                torch.save(student_model.state_dict(), \"best_student_model.pth\")\n",
    "        else:\n",
    "                epochs_no_improve += 1\n",
    "        \n",
    "        if epochs_no_improve >= patience:\n",
    "                print(f\"Early stopping at epoch {epoch+1}\")\n",
    "                break\n",
    "        print(f\"Epoch {epoch+1}, Total Loss: {total_loss:.4f} Validation :{val_acc}\")\n"
   ]
  },
  {
   "cell_type": "code",
   "execution_count": 9,
   "id": "ed8c6e39",
   "metadata": {
    "execution": {
     "iopub.execute_input": "2025-07-05T17:11:58.121384Z",
     "iopub.status.busy": "2025-07-05T17:11:58.120721Z",
     "iopub.status.idle": "2025-07-05T17:11:58.138087Z",
     "shell.execute_reply": "2025-07-05T17:11:58.137529Z"
    },
    "papermill": {
     "duration": 0.096155,
     "end_time": "2025-07-05T17:11:58.139366",
     "exception": false,
     "start_time": "2025-07-05T17:11:58.043211",
     "status": "completed"
    },
    "tags": []
   },
   "outputs": [],
   "source": [
    "student_model_kl = StudentCNN()"
   ]
  },
  {
   "cell_type": "code",
   "execution_count": 10,
   "id": "baba517c",
   "metadata": {
    "execution": {
     "iopub.execute_input": "2025-07-05T17:11:58.180997Z",
     "iopub.status.busy": "2025-07-05T17:11:58.180651Z",
     "iopub.status.idle": "2025-07-05T17:21:31.151115Z",
     "shell.execute_reply": "2025-07-05T17:21:31.150273Z"
    },
    "papermill": {
     "duration": 572.992936,
     "end_time": "2025-07-05T17:21:31.152399",
     "exception": false,
     "start_time": "2025-07-05T17:11:58.159463",
     "status": "completed"
    },
    "tags": []
   },
   "outputs": [
    {
     "name": "stdout",
     "output_type": "stream",
     "text": [
      "Epoch 1, Total Loss: 1211.9782 Validation :62.42\n",
      "Epoch 2, Total Loss: 863.0903 Validation :68.42\n",
      "Epoch 3, Total Loss: 722.2231 Validation :70.54\n",
      "Epoch 4, Total Loss: 606.2301 Validation :72.06\n",
      "Epoch 5, Total Loss: 510.0930 Validation :73.1\n",
      "Epoch 6, Total Loss: 414.6368 Validation :74.98\n",
      "Epoch 7, Total Loss: 337.4797 Validation :74.16\n",
      "Epoch 8, Total Loss: 261.2125 Validation :74.28\n",
      "Epoch 9, Total Loss: 205.5336 Validation :73.72\n",
      "Epoch 10, Total Loss: 165.2303 Validation :74.94\n",
      "Epoch 11, Total Loss: 138.6143 Validation :74.06\n",
      "Epoch 12, Total Loss: 126.1792 Validation :73.16\n",
      "Epoch 13, Total Loss: 135.3498 Validation :72.76\n",
      "Epoch 14, Total Loss: 125.6618 Validation :72.52\n",
      "Epoch 15, Total Loss: 99.5081 Validation :72.96\n",
      "Epoch 16, Total Loss: 104.4281 Validation :71.22\n",
      "Epoch 17, Total Loss: 120.7899 Validation :73.36\n",
      "Epoch 18, Total Loss: 122.6027 Validation :72.7\n",
      "Epoch 19, Total Loss: 90.2643 Validation :73.22\n",
      "Epoch 20, Total Loss: 72.5394 Validation :73.6\n",
      "Early stopping at epoch 21\n"
     ]
    }
   ],
   "source": [
    "\n",
    "\n",
    "student_model_kl.to(device)\n",
    "optimizer_kl =torch.optim.Adam(student_model_kl.parameters(), lr=1e-3, weight_decay=5e-4)\n",
    "\n",
    "\n",
    "\n",
    "train_with_kl_and_ce(student_model_kl, teacher_model, train_loader, optimizer_kl)"
   ]
  },
  {
   "cell_type": "code",
   "execution_count": 11,
   "id": "9bffe337",
   "metadata": {
    "execution": {
     "iopub.execute_input": "2025-07-05T17:21:31.195265Z",
     "iopub.status.busy": "2025-07-05T17:21:31.194990Z",
     "iopub.status.idle": "2025-07-05T17:21:31.211241Z",
     "shell.execute_reply": "2025-07-05T17:21:31.210684Z"
    },
    "papermill": {
     "duration": 0.039348,
     "end_time": "2025-07-05T17:21:31.212609",
     "exception": false,
     "start_time": "2025-07-05T17:21:31.173261",
     "status": "completed"
    },
    "tags": []
   },
   "outputs": [],
   "source": [
    "torch.save(student_model_kl, '/kaggle/working/model.pth')"
   ]
  },
  {
   "cell_type": "code",
   "execution_count": 12,
   "id": "a4876755",
   "metadata": {
    "execution": {
     "iopub.execute_input": "2025-07-05T17:21:31.255079Z",
     "iopub.status.busy": "2025-07-05T17:21:31.254816Z",
     "iopub.status.idle": "2025-07-05T17:21:32.373673Z",
     "shell.execute_reply": "2025-07-05T17:21:32.372835Z"
    },
    "papermill": {
     "duration": 1.141422,
     "end_time": "2025-07-05T17:21:32.374913",
     "exception": false,
     "start_time": "2025-07-05T17:21:31.233491",
     "status": "completed"
    },
    "tags": []
   },
   "outputs": [
    {
     "name": "stdout",
     "output_type": "stream",
     "text": [
      "Test Accuracy: 72.90%\n"
     ]
    }
   ],
   "source": [
    "correct = 0\n",
    "total = 0\n",
    "# test_dataset = datasets.CIFAR10(root='./data', train=False, download=True, transform=transform)\n",
    "# test_loader = DataLoader(test_dataset, batch_size=128 , shuffle=False)\n",
    "with torch.no_grad():\n",
    "    for images, labels in test_loader:\n",
    "        outputs = student_model_kl(images.to(device))\n",
    "        _, predicted = torch.max(outputs.data, 1)\n",
    "        total += labels.size(0)\n",
    "        correct += (predicted == labels.to(device)).sum().item()\n",
    "\n",
    "accuracy = 100 * correct / total\n",
    "print(f'Test Accuracy: {accuracy:.2f}%')"
   ]
  }
 ],
 "metadata": {
  "kaggle": {
   "accelerator": "gpu",
   "dataSources": [
    {
     "isSourceIdPinned": true,
     "modelId": 393260,
     "modelInstanceId": 372382,
     "sourceId": 459489,
     "sourceType": "modelInstanceVersion"
    }
   ],
   "dockerImageVersionId": 31041,
   "isGpuEnabled": true,
   "isInternetEnabled": true,
   "language": "python",
   "sourceType": "notebook"
  },
  "kernelspec": {
   "display_name": "Python 3",
   "language": "python",
   "name": "python3"
  },
  "language_info": {
   "codemirror_mode": {
    "name": "ipython",
    "version": 3
   },
   "file_extension": ".py",
   "mimetype": "text/x-python",
   "name": "python",
   "nbconvert_exporter": "python",
   "pygments_lexer": "ipython3",
   "version": "3.11.11"
  },
  "papermill": {
   "default_parameters": {},
   "duration": 681.531634,
   "end_time": "2025-07-05T17:21:35.370770",
   "environment_variables": {},
   "exception": null,
   "input_path": "__notebook__.ipynb",
   "output_path": "__notebook__.ipynb",
   "parameters": {},
   "start_time": "2025-07-05T17:10:13.839136",
   "version": "2.6.0"
  }
 },
 "nbformat": 4,
 "nbformat_minor": 5
}
