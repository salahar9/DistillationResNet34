{
 "cells": [
  {
   "cell_type": "code",
   "execution_count": 1,
   "id": "22f7dd9c",
   "metadata": {
    "_cell_guid": "b1076dfc-b9ad-4769-8c92-a6c4dae69d19",
    "_uuid": "8f2839f25d086af736a60e9eeb907d3b93b6e0e5",
    "execution": {
     "iopub.execute_input": "2025-07-05T15:18:47.098727Z",
     "iopub.status.busy": "2025-07-05T15:18:47.098439Z",
     "iopub.status.idle": "2025-07-05T15:18:48.531249Z",
     "shell.execute_reply": "2025-07-05T15:18:48.530424Z"
    },
    "papermill": {
     "duration": 1.437651,
     "end_time": "2025-07-05T15:18:48.532414",
     "exception": false,
     "start_time": "2025-07-05T15:18:47.094763",
     "status": "completed"
    },
    "tags": []
   },
   "outputs": [
    {
     "name": "stdout",
     "output_type": "stream",
     "text": [
      "/kaggle/input/studentcnn/pytorch/default/1/model (4).pth\n"
     ]
    }
   ],
   "source": [
    "# This Python 3 environment comes with many helpful analytics libraries installed\n",
    "# It is defined by the kaggle/python Docker image: https://github.com/kaggle/docker-python\n",
    "# For example, here's several helpful packages to load\n",
    "\n",
    "import numpy as np # linear algebra\n",
    "import pandas as pd # data processing, CSV file I/O (e.g. pd.read_csv)\n",
    "\n",
    "# Input data files are available in the read-only \"../input/\" directory\n",
    "# For example, running this (by clicking run or pressing Shift+Enter) will list all files under the input directory\n",
    "\n",
    "import os\n",
    "for dirname, _, filenames in os.walk('/kaggle/input'):\n",
    "    for filename in filenames:\n",
    "        print(os.path.join(dirname, filename))\n",
    "\n",
    "# You can write up to 20GB to the current directory (/kaggle/working/) that gets preserved as output when you create a version using \"Save & Run All\" \n",
    "# You can also write temporary files to /kaggle/temp/, but they won't be saved outside of the current session"
   ]
  },
  {
   "cell_type": "code",
   "execution_count": 2,
   "id": "af09f762",
   "metadata": {
    "execution": {
     "iopub.execute_input": "2025-07-05T15:18:48.538047Z",
     "iopub.status.busy": "2025-07-05T15:18:48.537753Z",
     "iopub.status.idle": "2025-07-05T15:20:06.151959Z",
     "shell.execute_reply": "2025-07-05T15:20:06.151223Z"
    },
    "papermill": {
     "duration": 77.618485,
     "end_time": "2025-07-05T15:20:06.153476",
     "exception": false,
     "start_time": "2025-07-05T15:18:48.534991",
     "status": "completed"
    },
    "tags": []
   },
   "outputs": [
    {
     "name": "stdout",
     "output_type": "stream",
     "text": [
      "\u001b[2K   \u001b[90m━━━━━━━━━━━━━━━━━━━━━━━━━━━━━━━━━━━━━━━━\u001b[0m \u001b[32m616.8/616.8 kB\u001b[0m \u001b[31m12.4 MB/s\u001b[0m eta \u001b[36m0:00:00\u001b[0m\r\n",
      "\u001b[2K   \u001b[90m━━━━━━━━━━━━━━━━━━━━━━━━━━━━━━━━━━━━━━━━\u001b[0m \u001b[32m363.4/363.4 MB\u001b[0m \u001b[31m4.0 MB/s\u001b[0m eta \u001b[36m0:00:00\u001b[0m\r\n",
      "\u001b[2K   \u001b[90m━━━━━━━━━━━━━━━━━━━━━━━━━━━━━━━━━━━━━━━━\u001b[0m \u001b[32m664.8/664.8 MB\u001b[0m \u001b[31m2.1 MB/s\u001b[0m eta \u001b[36m0:00:00\u001b[0m\r\n",
      "\u001b[2K   \u001b[90m━━━━━━━━━━━━━━━━━━━━━━━━━━━━━━━━━━━━━━━━\u001b[0m \u001b[32m211.5/211.5 MB\u001b[0m \u001b[31m8.1 MB/s\u001b[0m eta \u001b[36m0:00:00\u001b[0m\r\n",
      "\u001b[2K   \u001b[90m━━━━━━━━━━━━━━━━━━━━━━━━━━━━━━━━━━━━━━━━\u001b[0m \u001b[32m56.3/56.3 MB\u001b[0m \u001b[31m31.8 MB/s\u001b[0m eta \u001b[36m0:00:00\u001b[0m\r\n",
      "\u001b[2K   \u001b[90m━━━━━━━━━━━━━━━━━━━━━━━━━━━━━━━━━━━━━━━━\u001b[0m \u001b[32m127.9/127.9 MB\u001b[0m \u001b[31m13.5 MB/s\u001b[0m eta \u001b[36m0:00:00\u001b[0m\r\n",
      "\u001b[2K   \u001b[90m━━━━━━━━━━━━━━━━━━━━━━━━━━━━━━━━━━━━━━━━\u001b[0m \u001b[32m207.5/207.5 MB\u001b[0m \u001b[31m5.1 MB/s\u001b[0m eta \u001b[36m0:00:00\u001b[0m\r\n",
      "\u001b[2K   \u001b[90m━━━━━━━━━━━━━━━━━━━━━━━━━━━━━━━━━━━━━━━━\u001b[0m \u001b[32m21.1/21.1 MB\u001b[0m \u001b[31m87.9 MB/s\u001b[0m eta \u001b[36m0:00:00\u001b[0m\r\n",
      "\u001b[2K   \u001b[90m━━━━━━━━━━━━━━━━━━━━━━━━━━━━━━━━━━━━━━━━\u001b[0m \u001b[32m31.3/31.3 MB\u001b[0m \u001b[31m59.3 MB/s\u001b[0m eta \u001b[36m0:00:00\u001b[0m\r\n",
      "\u001b[2K   \u001b[90m━━━━━━━━━━━━━━━━━━━━━━━━━━━━━━━━━━━━━━━━\u001b[0m \u001b[32m126.2/126.2 kB\u001b[0m \u001b[31m7.5 MB/s\u001b[0m eta \u001b[36m0:00:00\u001b[0m\r\n",
      "\u001b[2K   \u001b[90m━━━━━━━━━━━━━━━━━━━━━━━━━━━━━━━━━━━━━━━━\u001b[0m \u001b[32m78.8/78.8 kB\u001b[0m \u001b[31m5.2 MB/s\u001b[0m eta \u001b[36m0:00:00\u001b[0m\r\n",
      "\u001b[?25h"
     ]
    }
   ],
   "source": [
    "!pip install detectors -q"
   ]
  },
  {
   "cell_type": "code",
   "execution_count": 3,
   "id": "5d1549d7",
   "metadata": {
    "execution": {
     "iopub.execute_input": "2025-07-05T15:20:06.192162Z",
     "iopub.status.busy": "2025-07-05T15:20:06.191666Z",
     "iopub.status.idle": "2025-07-05T15:20:13.910800Z",
     "shell.execute_reply": "2025-07-05T15:20:13.910082Z"
    },
    "papermill": {
     "duration": 7.739153,
     "end_time": "2025-07-05T15:20:13.912245",
     "exception": false,
     "start_time": "2025-07-05T15:20:06.173092",
     "status": "completed"
    },
    "tags": []
   },
   "outputs": [],
   "source": [
    "import torch\n",
    "import torch.nn as nn\n",
    "import torch.optim as optim\n",
    "import torchvision\n",
    "import torchvision.transforms as transforms\n",
    "from torch.utils.data import DataLoader\n",
    "import torch.nn.functional as F\n"
   ]
  },
  {
   "cell_type": "code",
   "execution_count": null,
   "id": "f2e5b497",
   "metadata": {
    "papermill": {
     "duration": 0.018695,
     "end_time": "2025-07-05T15:20:13.949420",
     "exception": false,
     "start_time": "2025-07-05T15:20:13.930725",
     "status": "completed"
    },
    "tags": []
   },
   "outputs": [],
   "source": []
  },
  {
   "cell_type": "code",
   "execution_count": 4,
   "id": "c8eb9e39",
   "metadata": {
    "execution": {
     "iopub.execute_input": "2025-07-05T15:20:13.987215Z",
     "iopub.status.busy": "2025-07-05T15:20:13.986319Z",
     "iopub.status.idle": "2025-07-05T15:20:33.662905Z",
     "shell.execute_reply": "2025-07-05T15:20:33.662232Z"
    },
    "papermill": {
     "duration": 19.696954,
     "end_time": "2025-07-05T15:20:33.664271",
     "exception": false,
     "start_time": "2025-07-05T15:20:13.967317",
     "status": "completed"
    },
    "tags": []
   },
   "outputs": [
    {
     "name": "stderr",
     "output_type": "stream",
     "text": [
      "100%|██████████| 170M/170M [00:05<00:00, 33.8MB/s]\n",
      "Downloading: \"https://huggingface.co/edadaltocg/resnet34_cifar10/resolve/main/pytorch_model.bin\" to /root/.cache/torch/hub/checkpoints/resnet34_cifar10.pth\n",
      "100%|██████████| 81.3M/81.3M [00:00<00:00, 367MB/s]\n"
     ]
    }
   ],
   "source": [
    "import torch,timm,detectors\n",
    "from torchvision import datasets, transforms\n",
    "from torch.utils.data import DataLoader\n",
    "from torch.nn import KLDivLoss\n",
    "transform = transforms.Compose([\n",
    "    transforms.Resize((32, 32)),\n",
    "    transforms.ToTensor(),\n",
    "    transforms.Normalize(mean=[0.4914, 0.4822, 0.4465],\n",
    "                         std=[0.2023, 0.1994, 0.2010])\n",
    "])\n",
    "train_dataset = datasets.CIFAR10(root='./data', train=True, download=True, transform=transform)\n",
    "train_loader = DataLoader(train_dataset, batch_size=128 , shuffle=True)\n",
    "device = torch.device(\"cuda\" if torch.cuda.is_available() else \"cpu\")\n",
    "teacher_model = timm.create_model(\"resnet34_cifar10\", pretrained=True).to(device)\n"
   ]
  },
  {
   "cell_type": "code",
   "execution_count": 5,
   "id": "10d5abeb",
   "metadata": {
    "execution": {
     "iopub.execute_input": "2025-07-05T15:20:33.705929Z",
     "iopub.status.busy": "2025-07-05T15:20:33.705334Z",
     "iopub.status.idle": "2025-07-05T15:20:33.710945Z",
     "shell.execute_reply": "2025-07-05T15:20:33.710113Z"
    },
    "papermill": {
     "duration": 0.02719,
     "end_time": "2025-07-05T15:20:33.712117",
     "exception": false,
     "start_time": "2025-07-05T15:20:33.684927",
     "status": "completed"
    },
    "tags": []
   },
   "outputs": [],
   "source": [
    "# Define the StudentCNN model\n",
    "class StudentCNN(nn.Module):\n",
    "    def __init__(self):\n",
    "        super(StudentCNN, self).__init__()\n",
    "        self.conv1 = nn.Conv2d(3, 32, 3, padding=1)\n",
    "        self.conv2 = nn.Conv2d(32, 64, 3, padding=1)\n",
    "        self.pool = nn.MaxPool2d(2, 2)\n",
    "        self.fc1 = nn.Linear(64 * 8 * 8, 512)  # Adjusted for CIFAR-10\n",
    "        self.fc2 = nn.Linear(512, 10)\n",
    "\n",
    "    def forward(self, x):\n",
    "        x = self.pool(F.relu(self.conv1(x)))  # 32x32 -> 16x16\n",
    "        x = self.pool(F.relu(self.conv2(x)))  # 16x16 -> 8x8\n",
    "        x = x.view(x.size(0), -1)\n",
    "        x = F.relu(self.fc1(x))\n",
    "        return self.fc2(x)"
   ]
  },
  {
   "cell_type": "code",
   "execution_count": 6,
   "id": "ddebdb32",
   "metadata": {
    "execution": {
     "iopub.execute_input": "2025-07-05T15:20:33.752741Z",
     "iopub.status.busy": "2025-07-05T15:20:33.752373Z",
     "iopub.status.idle": "2025-07-05T15:20:33.758216Z",
     "shell.execute_reply": "2025-07-05T15:20:33.757539Z"
    },
    "papermill": {
     "duration": 0.027317,
     "end_time": "2025-07-05T15:20:33.759305",
     "exception": false,
     "start_time": "2025-07-05T15:20:33.731988",
     "status": "completed"
    },
    "tags": []
   },
   "outputs": [],
   "source": [
    "def train_with_kl_and_ce(student_model, teacher_model, loader, optimizer, epochs=150, temperature=2, alpha=0.7):\n",
    "    kl_loss = nn.KLDivLoss(reduction='batchmean')\n",
    "    ce_loss = nn.CrossEntropyLoss()\n",
    "    student_model.train()\n",
    "    teacher_model.eval()\n",
    "    for epoch in range(epochs):\n",
    "        total_loss = 0\n",
    "        for images, labels in loader:\n",
    "            images, labels = images.to(device), labels.to(device)\n",
    "\n",
    "            with torch.no_grad():\n",
    "                teacher_logits = teacher_model(images)\n",
    "                teacher_probs = F.softmax(teacher_logits / temperature, dim=1)\n",
    "              \n",
    "            optimizer.zero_grad()\n",
    "            student_logits = student_model(images)\n",
    "\n",
    "            # KL Divergence Loss\n",
    "            student_log_probs = F.log_softmax(student_logits / temperature, dim=1)\n",
    "\n",
    "            loss_kl = kl_loss(student_log_probs, teacher_probs) * (temperature ** 2)\n",
    "\n",
    "            # Cross-Entropy Loss\n",
    "            loss_ce = ce_loss(student_logits, labels)\n",
    "\n",
    "            # Combined Loss\n",
    "            loss = alpha * loss_kl + (1 - alpha) * loss_ce\n",
    "\n",
    "            loss.backward()\n",
    "            optimizer.step()\n",
    "            total_loss += loss.item()\n",
    "\n",
    "        print(f\"Epoch {epoch+1}, Total Loss: {total_loss:.4f}\")\n"
   ]
  },
  {
   "cell_type": "code",
   "execution_count": 7,
   "id": "2a552f4f",
   "metadata": {
    "execution": {
     "iopub.execute_input": "2025-07-05T15:20:33.799224Z",
     "iopub.status.busy": "2025-07-05T15:20:33.798833Z",
     "iopub.status.idle": "2025-07-05T15:20:33.815818Z",
     "shell.execute_reply": "2025-07-05T15:20:33.815013Z"
    },
    "papermill": {
     "duration": 0.038071,
     "end_time": "2025-07-05T15:20:33.816996",
     "exception": false,
     "start_time": "2025-07-05T15:20:33.778925",
     "status": "completed"
    },
    "tags": []
   },
   "outputs": [],
   "source": [
    "student_model_kl = StudentCNN()"
   ]
  },
  {
   "cell_type": "code",
   "execution_count": 8,
   "id": "7ca77782",
   "metadata": {
    "execution": {
     "iopub.execute_input": "2025-07-05T15:20:33.857184Z",
     "iopub.status.busy": "2025-07-05T15:20:33.856978Z",
     "iopub.status.idle": "2025-07-05T16:24:44.658099Z",
     "shell.execute_reply": "2025-07-05T16:24:44.657372Z"
    },
    "papermill": {
     "duration": 3850.847778,
     "end_time": "2025-07-05T16:24:44.684535",
     "exception": false,
     "start_time": "2025-07-05T15:20:33.836757",
     "status": "completed"
    },
    "tags": []
   },
   "outputs": [
    {
     "name": "stdout",
     "output_type": "stream",
     "text": [
      "Epoch 1, Total Loss: 1488.0335\n",
      "Epoch 2, Total Loss: 1055.1606\n",
      "Epoch 3, Total Loss: 885.0075\n",
      "Epoch 4, Total Loss: 755.5135\n",
      "Epoch 5, Total Loss: 635.7556\n",
      "Epoch 6, Total Loss: 525.3563\n",
      "Epoch 7, Total Loss: 423.0709\n",
      "Epoch 8, Total Loss: 329.3782\n",
      "Epoch 9, Total Loss: 254.6904\n",
      "Epoch 10, Total Loss: 202.8731\n",
      "Epoch 11, Total Loss: 171.9604\n",
      "Epoch 12, Total Loss: 150.1092\n",
      "Epoch 13, Total Loss: 145.5740\n",
      "Epoch 14, Total Loss: 151.9224\n",
      "Epoch 15, Total Loss: 133.8932\n",
      "Epoch 16, Total Loss: 120.6918\n",
      "Epoch 17, Total Loss: 125.5163\n",
      "Epoch 18, Total Loss: 144.1575\n",
      "Epoch 19, Total Loss: 122.1172\n",
      "Epoch 20, Total Loss: 86.3089\n",
      "Epoch 21, Total Loss: 88.5170\n",
      "Epoch 22, Total Loss: 188.5788\n",
      "Epoch 23, Total Loss: 134.7222\n",
      "Epoch 24, Total Loss: 75.4949\n",
      "Epoch 25, Total Loss: 52.0783\n",
      "Epoch 26, Total Loss: 74.0434\n",
      "Epoch 27, Total Loss: 285.6419\n",
      "Epoch 28, Total Loss: 114.3109\n",
      "Epoch 29, Total Loss: 60.4906\n",
      "Epoch 30, Total Loss: 43.7149\n",
      "Epoch 31, Total Loss: 46.5871\n",
      "Epoch 32, Total Loss: 261.0933\n",
      "Epoch 33, Total Loss: 151.6322\n",
      "Epoch 34, Total Loss: 68.6292\n",
      "Epoch 35, Total Loss: 44.4652\n",
      "Epoch 36, Total Loss: 40.4608\n",
      "Epoch 37, Total Loss: 119.5062\n",
      "Epoch 38, Total Loss: 262.3613\n",
      "Epoch 39, Total Loss: 93.3975\n",
      "Epoch 40, Total Loss: 49.8163\n",
      "Epoch 41, Total Loss: 38.3735\n",
      "Epoch 42, Total Loss: 40.9191\n",
      "Epoch 43, Total Loss: 234.4630\n",
      "Epoch 44, Total Loss: 162.2402\n",
      "Epoch 45, Total Loss: 68.1989\n",
      "Epoch 46, Total Loss: 42.2897\n",
      "Epoch 47, Total Loss: 36.0683\n",
      "Epoch 48, Total Loss: 72.4892\n",
      "Epoch 49, Total Loss: 270.9939\n",
      "Epoch 50, Total Loss: 95.9935\n",
      "Epoch 51, Total Loss: 49.0201\n",
      "Epoch 52, Total Loss: 36.0437\n",
      "Epoch 53, Total Loss: 35.3105\n",
      "Epoch 54, Total Loss: 141.2174\n",
      "Epoch 55, Total Loss: 228.0099\n",
      "Epoch 56, Total Loss: 81.6619\n",
      "Epoch 57, Total Loss: 44.7468\n",
      "Epoch 58, Total Loss: 34.0549\n",
      "Epoch 59, Total Loss: 34.8091\n",
      "Epoch 60, Total Loss: 178.6493\n",
      "Epoch 61, Total Loss: 187.7606\n",
      "Epoch 62, Total Loss: 72.0005\n",
      "Epoch 63, Total Loss: 41.2107\n",
      "Epoch 64, Total Loss: 32.5223\n",
      "Epoch 65, Total Loss: 34.6797\n",
      "Epoch 66, Total Loss: 204.2134\n",
      "Epoch 67, Total Loss: 172.1075\n",
      "Epoch 68, Total Loss: 67.6646\n",
      "Epoch 69, Total Loss: 39.7897\n",
      "Epoch 70, Total Loss: 32.0311\n",
      "Epoch 71, Total Loss: 33.8215\n",
      "Epoch 72, Total Loss: 186.2553\n",
      "Epoch 73, Total Loss: 185.5834\n",
      "Epoch 74, Total Loss: 70.2058\n",
      "Epoch 75, Total Loss: 39.8741\n",
      "Epoch 76, Total Loss: 31.2972\n",
      "Epoch 77, Total Loss: 33.3901\n",
      "Epoch 78, Total Loss: 152.7840\n",
      "Epoch 79, Total Loss: 204.5931\n",
      "Epoch 80, Total Loss: 73.6457\n",
      "Epoch 81, Total Loss: 40.6379\n",
      "Epoch 82, Total Loss: 31.1751\n",
      "Epoch 83, Total Loss: 31.2646\n",
      "Epoch 84, Total Loss: 107.0730\n",
      "Epoch 85, Total Loss: 244.6749\n",
      "Epoch 86, Total Loss: 84.3045\n",
      "Epoch 87, Total Loss: 43.4719\n",
      "Epoch 88, Total Loss: 31.8307\n",
      "Epoch 89, Total Loss: 29.0644\n",
      "Epoch 90, Total Loss: 59.7333\n",
      "Epoch 91, Total Loss: 267.5873\n",
      "Epoch 92, Total Loss: 91.5971\n",
      "Epoch 93, Total Loss: 44.5539\n",
      "Epoch 94, Total Loss: 31.9918\n",
      "Epoch 95, Total Loss: 29.1637\n",
      "Epoch 96, Total Loss: 45.7959\n",
      "Epoch 97, Total Loss: 256.7949\n",
      "Epoch 98, Total Loss: 101.5330\n",
      "Epoch 99, Total Loss: 47.4762\n",
      "Epoch 100, Total Loss: 32.4619\n",
      "Epoch 101, Total Loss: 28.7255\n",
      "Epoch 102, Total Loss: 39.2132\n",
      "Epoch 103, Total Loss: 245.8730\n",
      "Epoch 104, Total Loss: 105.8486\n",
      "Epoch 105, Total Loss: 48.9065\n",
      "Epoch 106, Total Loss: 32.8411\n",
      "Epoch 107, Total Loss: 28.3266\n",
      "Epoch 108, Total Loss: 35.7680\n",
      "Epoch 109, Total Loss: 239.5158\n",
      "Epoch 110, Total Loss: 126.2316\n",
      "Epoch 111, Total Loss: 52.3098\n",
      "Epoch 112, Total Loss: 33.4355\n",
      "Epoch 113, Total Loss: 27.8160\n",
      "Epoch 114, Total Loss: 30.1132\n",
      "Epoch 115, Total Loss: 182.2427\n",
      "Epoch 116, Total Loss: 168.8543\n",
      "Epoch 117, Total Loss: 62.2195\n",
      "Epoch 118, Total Loss: 36.2756\n",
      "Epoch 119, Total Loss: 28.6794\n",
      "Epoch 120, Total Loss: 28.3773\n",
      "Epoch 121, Total Loss: 100.7436\n",
      "Epoch 122, Total Loss: 233.7259\n",
      "Epoch 123, Total Loss: 79.8732\n",
      "Epoch 124, Total Loss: 41.1287\n",
      "Epoch 125, Total Loss: 30.0745\n",
      "Epoch 126, Total Loss: 27.3231\n",
      "Epoch 127, Total Loss: 36.2445\n",
      "Epoch 128, Total Loss: 234.1675\n",
      "Epoch 129, Total Loss: 121.8798\n",
      "Epoch 130, Total Loss: 51.9697\n",
      "Epoch 131, Total Loss: 32.5916\n",
      "Epoch 132, Total Loss: 27.3211\n",
      "Epoch 133, Total Loss: 30.8693\n",
      "Epoch 134, Total Loss: 155.8920\n",
      "Epoch 135, Total Loss: 174.7755\n",
      "Epoch 136, Total Loss: 65.6589\n",
      "Epoch 137, Total Loss: 36.6708\n",
      "Epoch 138, Total Loss: 28.0184\n",
      "Epoch 139, Total Loss: 27.5021\n",
      "Epoch 140, Total Loss: 65.0104\n",
      "Epoch 141, Total Loss: 244.3164\n",
      "Epoch 142, Total Loss: 85.0240\n",
      "Epoch 143, Total Loss: 41.3719\n",
      "Epoch 144, Total Loss: 29.4159\n",
      "Epoch 145, Total Loss: 26.3921\n",
      "Epoch 146, Total Loss: 36.7869\n",
      "Epoch 147, Total Loss: 223.2375\n",
      "Epoch 148, Total Loss: 106.5596\n",
      "Epoch 149, Total Loss: 47.3292\n",
      "Epoch 150, Total Loss: 30.9967\n"
     ]
    }
   ],
   "source": [
    "\n",
    "\n",
    "student_model_kl.to(device)\n",
    "optimizer_kl =torch.optim.Adam(student_model_kl.parameters(), lr=1e-3, weight_decay=5e-4)\n",
    "\n",
    "\n",
    "\n",
    "train_with_kl_and_ce(student_model_kl, teacher_model, train_loader, optimizer_kl)"
   ]
  },
  {
   "cell_type": "code",
   "execution_count": 9,
   "id": "ec2d4a6c",
   "metadata": {
    "execution": {
     "iopub.execute_input": "2025-07-05T16:24:44.735303Z",
     "iopub.status.busy": "2025-07-05T16:24:44.735095Z",
     "iopub.status.idle": "2025-07-05T16:24:44.754860Z",
     "shell.execute_reply": "2025-07-05T16:24:44.754347Z"
    },
    "papermill": {
     "duration": 0.046076,
     "end_time": "2025-07-05T16:24:44.755826",
     "exception": false,
     "start_time": "2025-07-05T16:24:44.709750",
     "status": "completed"
    },
    "tags": []
   },
   "outputs": [],
   "source": [
    "torch.save(student_model_kl, '/kaggle/working/model.pth')"
   ]
  },
  {
   "cell_type": "code",
   "execution_count": 10,
   "id": "14d8cc7e",
   "metadata": {
    "execution": {
     "iopub.execute_input": "2025-07-05T16:24:44.806778Z",
     "iopub.status.busy": "2025-07-05T16:24:44.806566Z",
     "iopub.status.idle": "2025-07-05T16:24:47.677765Z",
     "shell.execute_reply": "2025-07-05T16:24:47.677050Z"
    },
    "papermill": {
     "duration": 2.897934,
     "end_time": "2025-07-05T16:24:47.678859",
     "exception": false,
     "start_time": "2025-07-05T16:24:44.780925",
     "status": "completed"
    },
    "tags": []
   },
   "outputs": [
    {
     "name": "stdout",
     "output_type": "stream",
     "text": [
      "Test Accuracy: 74.78%\n"
     ]
    }
   ],
   "source": [
    "correct = 0\n",
    "total = 0\n",
    "test_dataset = datasets.CIFAR10(root='./data', train=False, download=True, transform=transform)\n",
    "test_loader = DataLoader(test_dataset, batch_size=128 , shuffle=False)\n",
    "with torch.no_grad():\n",
    "    for images, labels in test_loader:\n",
    "        outputs = student_model_kl(images.to(device))\n",
    "        _, predicted = torch.max(outputs.data, 1)\n",
    "        total += labels.size(0)\n",
    "        correct += (predicted == labels.to(device)).sum().item()\n",
    "\n",
    "accuracy = 100 * correct / total\n",
    "print(f'Test Accuracy: {accuracy:.2f}%')"
   ]
  }
 ],
 "metadata": {
  "kaggle": {
   "accelerator": "gpu",
   "dataSources": [
    {
     "isSourceIdPinned": true,
     "modelId": 393260,
     "modelInstanceId": 372382,
     "sourceId": 459489,
     "sourceType": "modelInstanceVersion"
    }
   ],
   "dockerImageVersionId": 31041,
   "isGpuEnabled": true,
   "isInternetEnabled": true,
   "language": "python",
   "sourceType": "notebook"
  },
  "kernelspec": {
   "display_name": "Python 3",
   "language": "python",
   "name": "python3"
  },
  "language_info": {
   "codemirror_mode": {
    "name": "ipython",
    "version": 3
   },
   "file_extension": ".py",
   "mimetype": "text/x-python",
   "name": "python",
   "nbconvert_exporter": "python",
   "pygments_lexer": "ipython3",
   "version": "3.11.11"
  },
  "papermill": {
   "default_parameters": {},
   "duration": 3966.616755,
   "end_time": "2025-07-05T16:24:49.731386",
   "environment_variables": {},
   "exception": null,
   "input_path": "__notebook__.ipynb",
   "output_path": "__notebook__.ipynb",
   "parameters": {},
   "start_time": "2025-07-05T15:18:43.114631",
   "version": "2.6.0"
  }
 },
 "nbformat": 4,
 "nbformat_minor": 5
}
