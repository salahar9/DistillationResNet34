{
 "cells": [
  {
   "cell_type": "code",
   "execution_count": 1,
   "id": "a982ecbf",
   "metadata": {
    "_cell_guid": "b1076dfc-b9ad-4769-8c92-a6c4dae69d19",
    "_uuid": "8f2839f25d086af736a60e9eeb907d3b93b6e0e5",
    "execution": {
     "iopub.execute_input": "2025-07-05T16:57:03.087309Z",
     "iopub.status.busy": "2025-07-05T16:57:03.087105Z",
     "iopub.status.idle": "2025-07-05T16:57:04.455535Z",
     "shell.execute_reply": "2025-07-05T16:57:04.454842Z"
    },
    "papermill": {
     "duration": 1.373045,
     "end_time": "2025-07-05T16:57:04.456634",
     "exception": false,
     "start_time": "2025-07-05T16:57:03.083589",
     "status": "completed"
    },
    "tags": []
   },
   "outputs": [
    {
     "name": "stdout",
     "output_type": "stream",
     "text": [
      "/kaggle/input/studentcnn/pytorch/default/1/model (4).pth\n"
     ]
    }
   ],
   "source": [
    "# This Python 3 environment comes with many helpful analytics libraries installed\n",
    "# It is defined by the kaggle/python Docker image: https://github.com/kaggle/docker-python\n",
    "# For example, here's several helpful packages to load\n",
    "\n",
    "import numpy as np # linear algebra\n",
    "import pandas as pd # data processing, CSV file I/O (e.g. pd.read_csv)\n",
    "\n",
    "# Input data files are available in the read-only \"../input/\" directory\n",
    "# For example, running this (by clicking run or pressing Shift+Enter) will list all files under the input directory\n",
    "\n",
    "import os\n",
    "for dirname, _, filenames in os.walk('/kaggle/input'):\n",
    "    for filename in filenames:\n",
    "        print(os.path.join(dirname, filename))\n",
    "\n",
    "# You can write up to 20GB to the current directory (/kaggle/working/) that gets preserved as output when you create a version using \"Save & Run All\" \n",
    "# You can also write temporary files to /kaggle/temp/, but they won't be saved outside of the current session"
   ]
  },
  {
   "cell_type": "code",
   "execution_count": 2,
   "id": "35c00a57",
   "metadata": {
    "execution": {
     "iopub.execute_input": "2025-07-05T16:57:04.463135Z",
     "iopub.status.busy": "2025-07-05T16:57:04.462629Z",
     "iopub.status.idle": "2025-07-05T16:58:26.399461Z",
     "shell.execute_reply": "2025-07-05T16:58:26.398723Z"
    },
    "papermill": {
     "duration": 81.941445,
     "end_time": "2025-07-05T16:58:26.400932",
     "exception": false,
     "start_time": "2025-07-05T16:57:04.459487",
     "status": "completed"
    },
    "tags": []
   },
   "outputs": [
    {
     "name": "stdout",
     "output_type": "stream",
     "text": [
      "\u001b[2K   \u001b[90m━━━━━━━━━━━━━━━━━━━━━━━━━━━━━━━━━━━━━━━━\u001b[0m \u001b[32m616.8/616.8 kB\u001b[0m \u001b[31m15.2 MB/s\u001b[0m eta \u001b[36m0:00:00\u001b[0m\r\n",
      "\u001b[2K   \u001b[90m━━━━━━━━━━━━━━━━━━━━━━━━━━━━━━━━━━━━━━━━\u001b[0m \u001b[32m363.4/363.4 MB\u001b[0m \u001b[31m4.7 MB/s\u001b[0m eta \u001b[36m0:00:00\u001b[0m\r\n",
      "\u001b[2K   \u001b[90m━━━━━━━━━━━━━━━━━━━━━━━━━━━━━━━━━━━━━━━━\u001b[0m \u001b[32m664.8/664.8 MB\u001b[0m \u001b[31m2.5 MB/s\u001b[0m eta \u001b[36m0:00:00\u001b[0m\r\n",
      "\u001b[2K   \u001b[90m━━━━━━━━━━━━━━━━━━━━━━━━━━━━━━━━━━━━━━━━\u001b[0m \u001b[32m211.5/211.5 MB\u001b[0m \u001b[31m6.4 MB/s\u001b[0m eta \u001b[36m0:00:00\u001b[0m\r\n",
      "\u001b[2K   \u001b[90m━━━━━━━━━━━━━━━━━━━━━━━━━━━━━━━━━━━━━━━━\u001b[0m \u001b[32m56.3/56.3 MB\u001b[0m \u001b[31m31.4 MB/s\u001b[0m eta \u001b[36m0:00:00\u001b[0m\r\n",
      "\u001b[2K   \u001b[90m━━━━━━━━━━━━━━━━━━━━━━━━━━━━━━━━━━━━━━━━\u001b[0m \u001b[32m127.9/127.9 MB\u001b[0m \u001b[31m13.6 MB/s\u001b[0m eta \u001b[36m0:00:00\u001b[0m\r\n",
      "\u001b[2K   \u001b[90m━━━━━━━━━━━━━━━━━━━━━━━━━━━━━━━━━━━━━━━━\u001b[0m \u001b[32m207.5/207.5 MB\u001b[0m \u001b[31m2.1 MB/s\u001b[0m eta \u001b[36m0:00:00\u001b[0m\r\n",
      "\u001b[2K   \u001b[90m━━━━━━━━━━━━━━━━━━━━━━━━━━━━━━━━━━━━━━━━\u001b[0m \u001b[32m21.1/21.1 MB\u001b[0m \u001b[31m61.4 MB/s\u001b[0m eta \u001b[36m0:00:00\u001b[0m\r\n",
      "\u001b[2K   \u001b[90m━━━━━━━━━━━━━━━━━━━━━━━━━━━━━━━━━━━━━━━━\u001b[0m \u001b[32m31.3/31.3 MB\u001b[0m \u001b[31m35.7 MB/s\u001b[0m eta \u001b[36m0:00:00\u001b[0m\r\n",
      "\u001b[2K   \u001b[90m━━━━━━━━━━━━━━━━━━━━━━━━━━━━━━━━━━━━━━━━\u001b[0m \u001b[32m126.2/126.2 kB\u001b[0m \u001b[31m9.0 MB/s\u001b[0m eta \u001b[36m0:00:00\u001b[0m\r\n",
      "\u001b[2K   \u001b[90m━━━━━━━━━━━━━━━━━━━━━━━━━━━━━━━━━━━━━━━━\u001b[0m \u001b[32m78.8/78.8 kB\u001b[0m \u001b[31m6.0 MB/s\u001b[0m eta \u001b[36m0:00:00\u001b[0m\r\n",
      "\u001b[?25h"
     ]
    }
   ],
   "source": [
    "!pip install detectors -q"
   ]
  },
  {
   "cell_type": "code",
   "execution_count": 3,
   "id": "3c9ff935",
   "metadata": {
    "execution": {
     "iopub.execute_input": "2025-07-05T16:58:26.446170Z",
     "iopub.status.busy": "2025-07-05T16:58:26.445870Z",
     "iopub.status.idle": "2025-07-05T16:58:34.561523Z",
     "shell.execute_reply": "2025-07-05T16:58:34.560937Z"
    },
    "papermill": {
     "duration": 8.138415,
     "end_time": "2025-07-05T16:58:34.562833",
     "exception": false,
     "start_time": "2025-07-05T16:58:26.424418",
     "status": "completed"
    },
    "tags": []
   },
   "outputs": [],
   "source": [
    "import torch\n",
    "import torch.nn as nn\n",
    "import torch.optim as optim\n",
    "import torchvision\n",
    "import torchvision.transforms as transforms\n",
    "from torch.utils.data import DataLoader\n",
    "import torch.nn.functional as F\n",
    "\n",
    "from torchvision import datasets, transforms\n",
    "from torch.utils.data import random_split, DataLoader\n"
   ]
  },
  {
   "cell_type": "code",
   "execution_count": null,
   "id": "a38a596c",
   "metadata": {
    "papermill": {
     "duration": 0.020329,
     "end_time": "2025-07-05T16:58:34.605170",
     "exception": false,
     "start_time": "2025-07-05T16:58:34.584841",
     "status": "completed"
    },
    "tags": []
   },
   "outputs": [],
   "source": []
  },
  {
   "cell_type": "code",
   "execution_count": 4,
   "id": "6797f049",
   "metadata": {
    "execution": {
     "iopub.execute_input": "2025-07-05T16:58:34.647488Z",
     "iopub.status.busy": "2025-07-05T16:58:34.647144Z",
     "iopub.status.idle": "2025-07-05T16:58:54.901917Z",
     "shell.execute_reply": "2025-07-05T16:58:54.901098Z"
    },
    "papermill": {
     "duration": 20.277657,
     "end_time": "2025-07-05T16:58:54.903365",
     "exception": false,
     "start_time": "2025-07-05T16:58:34.625708",
     "status": "completed"
    },
    "tags": []
   },
   "outputs": [
    {
     "name": "stderr",
     "output_type": "stream",
     "text": [
      "100%|██████████| 170M/170M [00:05<00:00, 32.6MB/s]\n",
      "Downloading: \"https://huggingface.co/edadaltocg/resnet34_cifar10/resolve/main/pytorch_model.bin\" to /root/.cache/torch/hub/checkpoints/resnet34_cifar10.pth\n",
      "100%|██████████| 81.3M/81.3M [00:00<00:00, 431MB/s]\n"
     ]
    }
   ],
   "source": [
    "import torch,timm,detectors\n",
    "from torchvision import datasets, transforms\n",
    "from torch.utils.data import DataLoader\n",
    "from torch.nn import KLDivLoss\n",
    "transform = transforms.Compose([\n",
    "    transforms.Resize((32, 32)),\n",
    "    transforms.ToTensor(),\n",
    "    transforms.Normalize(mean=[0.4914, 0.4822, 0.4465],\n",
    "                         std=[0.2023, 0.1994, 0.2010])\n",
    "])\n",
    "train_dataset = datasets.CIFAR10(root='./data', train=True, download=True, transform=transform)\n",
    "train_loader = DataLoader(train_dataset, batch_size=128 , shuffle=True)\n",
    "device = torch.device(\"cuda\" if torch.cuda.is_available() else \"cpu\")\n",
    "teacher_model = timm.create_model(\"resnet34_cifar10\", pretrained=True).to(device)\n"
   ]
  },
  {
   "cell_type": "code",
   "execution_count": 5,
   "id": "c28652e1",
   "metadata": {
    "execution": {
     "iopub.execute_input": "2025-07-05T16:58:54.951249Z",
     "iopub.status.busy": "2025-07-05T16:58:54.950498Z",
     "iopub.status.idle": "2025-07-05T16:58:55.667679Z",
     "shell.execute_reply": "2025-07-05T16:58:55.667105Z"
    },
    "papermill": {
     "duration": 0.742156,
     "end_time": "2025-07-05T16:58:55.669011",
     "exception": false,
     "start_time": "2025-07-05T16:58:54.926855",
     "status": "completed"
    },
    "tags": []
   },
   "outputs": [],
   "source": [
    "\n",
    "cifar10_test = datasets.CIFAR10(root='./data', train=False, download=True, transform=transform)\n",
    "\n",
    "# Split into validation and test sets (50/50)\n",
    "val_size = len(cifar10_test) // 2\n",
    "test_size = len(cifar10_test) - val_size\n",
    "val_set, final_test_set = random_split(cifar10_test, [val_size, test_size])\n",
    "\n",
    "val_loader = DataLoader(val_set, batch_size=128, shuffle=False)\n",
    "test_loader = DataLoader(final_test_set, batch_size=128, shuffle=False)\n"
   ]
  },
  {
   "cell_type": "code",
   "execution_count": 6,
   "id": "7ebfd63c",
   "metadata": {
    "execution": {
     "iopub.execute_input": "2025-07-05T16:58:55.715971Z",
     "iopub.status.busy": "2025-07-05T16:58:55.715482Z",
     "iopub.status.idle": "2025-07-05T16:58:55.720452Z",
     "shell.execute_reply": "2025-07-05T16:58:55.719920Z"
    },
    "papermill": {
     "duration": 0.029168,
     "end_time": "2025-07-05T16:58:55.721482",
     "exception": false,
     "start_time": "2025-07-05T16:58:55.692314",
     "status": "completed"
    },
    "tags": []
   },
   "outputs": [],
   "source": [
    "# Define the StudentCNN model\n",
    "class StudentCNN(nn.Module):\n",
    "    def __init__(self):\n",
    "        super(StudentCNN, self).__init__()\n",
    "        self.conv1 = nn.Conv2d(3, 32, 3, padding=1)\n",
    "        self.conv2 = nn.Conv2d(32, 64, 3, padding=1)\n",
    "        self.pool = nn.MaxPool2d(2, 2)\n",
    "        self.fc1 = nn.Linear(64 * 8 * 8, 512)  # Adjusted for CIFAR-10\n",
    "        self.fc2 = nn.Linear(512, 10)\n",
    "\n",
    "    def forward(self, x):\n",
    "        x = self.pool(F.relu(self.conv1(x)))  # 32x32 -> 16x16\n",
    "        x = self.pool(F.relu(self.conv2(x)))  # 16x16 -> 8x8\n",
    "        x = x.view(x.size(0), -1)\n",
    "        x = F.relu(self.fc1(x))\n",
    "        return self.fc2(x)"
   ]
  },
  {
   "cell_type": "code",
   "execution_count": 7,
   "id": "9dc094b6",
   "metadata": {
    "execution": {
     "iopub.execute_input": "2025-07-05T16:58:55.767953Z",
     "iopub.status.busy": "2025-07-05T16:58:55.767372Z",
     "iopub.status.idle": "2025-07-05T16:58:55.771591Z",
     "shell.execute_reply": "2025-07-05T16:58:55.771064Z"
    },
    "papermill": {
     "duration": 0.028585,
     "end_time": "2025-07-05T16:58:55.772543",
     "exception": false,
     "start_time": "2025-07-05T16:58:55.743958",
     "status": "completed"
    },
    "tags": []
   },
   "outputs": [],
   "source": [
    "def evaluate(model, loader):\n",
    "    model.eval()\n",
    "    correct = 0\n",
    "    total = 0\n",
    "    with torch.no_grad():\n",
    "        for images, labels in loader:\n",
    "            images, labels = images.to(device), labels.to(device)\n",
    "            outputs = model(images)\n",
    "            _, predicted = torch.max(outputs, 1)\n",
    "            total += labels.size(0)\n",
    "            correct += (predicted == labels).sum().item()\n",
    "    return 100 * correct / total\n"
   ]
  },
  {
   "cell_type": "code",
   "execution_count": 8,
   "id": "d4c10fc1",
   "metadata": {
    "execution": {
     "iopub.execute_input": "2025-07-05T16:58:55.818482Z",
     "iopub.status.busy": "2025-07-05T16:58:55.818294Z",
     "iopub.status.idle": "2025-07-05T16:58:55.824865Z",
     "shell.execute_reply": "2025-07-05T16:58:55.824375Z"
    },
    "papermill": {
     "duration": 0.030622,
     "end_time": "2025-07-05T16:58:55.825863",
     "exception": false,
     "start_time": "2025-07-05T16:58:55.795241",
     "status": "completed"
    },
    "tags": []
   },
   "outputs": [],
   "source": [
    "def train_with_kl_and_ce(student_model, teacher_model, loader, optimizer, epochs=600, temperature=2, alpha=0.5):\n",
    "    kl_loss = nn.KLDivLoss(reduction='batchmean')\n",
    "    ce_loss = nn.CrossEntropyLoss()\n",
    "    student_model.train()\n",
    "    teacher_model.eval()\n",
    "    best_val_acc = 0\n",
    "    patience = 3\n",
    "    epochs_no_improve = 0\n",
    "    for epoch in range(epochs):\n",
    "        total_loss = 0\n",
    "        for images, labels in loader:\n",
    "            images, labels = images.to(device), labels.to(device)\n",
    "\n",
    "            with torch.no_grad():\n",
    "                teacher_logits = teacher_model(images)\n",
    "                teacher_probs = F.softmax(teacher_logits / temperature, dim=1)\n",
    "              \n",
    "            optimizer.zero_grad()\n",
    "            student_logits = student_model(images)\n",
    "\n",
    "            # KL Divergence Loss\n",
    "            student_log_probs = F.log_softmax(student_logits / temperature, dim=1)\n",
    "\n",
    "            loss_kl = kl_loss(student_log_probs, teacher_probs) * (temperature ** 2)\n",
    "\n",
    "            # Cross-Entropy Loss\n",
    "            loss_ce = ce_loss(student_logits, labels)\n",
    "\n",
    "            # Combined Loss\n",
    "            loss = alpha * loss_kl + (1 - alpha) * loss_ce\n",
    "\n",
    "            loss.backward()\n",
    "            optimizer.step()\n",
    "            total_loss += loss.item()\n",
    "        val_acc = evaluate(student_model, val_loader)\n",
    "        \n",
    "        if val_acc > best_val_acc:\n",
    "                best_val_acc = val_acc\n",
    "                epochs_no_improve = 0\n",
    "                # Save best model\n",
    "                torch.save(student_model.state_dict(), \"best_student_model.pth\")\n",
    "        else:\n",
    "                epochs_no_improve += 1\n",
    "        \n",
    "        if epochs_no_improve >= patience:\n",
    "                print(f\"Early stopping at epoch {epoch+1}\")\n",
    "                break\n",
    "        print(f\"Epoch {epoch+1}, Total Loss: {total_loss:.4f}\")\n"
   ]
  },
  {
   "cell_type": "code",
   "execution_count": 9,
   "id": "30e01552",
   "metadata": {
    "execution": {
     "iopub.execute_input": "2025-07-05T16:58:55.917348Z",
     "iopub.status.busy": "2025-07-05T16:58:55.917043Z",
     "iopub.status.idle": "2025-07-05T16:58:55.934226Z",
     "shell.execute_reply": "2025-07-05T16:58:55.933727Z"
    },
    "papermill": {
     "duration": 0.041762,
     "end_time": "2025-07-05T16:58:55.935307",
     "exception": false,
     "start_time": "2025-07-05T16:58:55.893545",
     "status": "completed"
    },
    "tags": []
   },
   "outputs": [],
   "source": [
    "student_model_kl = StudentCNN()"
   ]
  },
  {
   "cell_type": "code",
   "execution_count": 10,
   "id": "d6bdec7a",
   "metadata": {
    "execution": {
     "iopub.execute_input": "2025-07-05T16:58:55.981578Z",
     "iopub.status.busy": "2025-07-05T16:58:55.981377Z",
     "iopub.status.idle": "2025-07-05T17:04:19.356317Z",
     "shell.execute_reply": "2025-07-05T17:04:19.355525Z"
    },
    "papermill": {
     "duration": 323.422088,
     "end_time": "2025-07-05T17:04:19.380442",
     "exception": false,
     "start_time": "2025-07-05T16:58:55.958354",
     "status": "completed"
    },
    "tags": []
   },
   "outputs": [
    {
     "name": "stdout",
     "output_type": "stream",
     "text": [
      "Epoch 1, Total Loss: 1217.8733\n",
      "Epoch 2, Total Loss: 875.2523\n",
      "Epoch 3, Total Loss: 725.4198\n",
      "Epoch 4, Total Loss: 618.1991\n",
      "Epoch 5, Total Loss: 525.2294\n",
      "Epoch 6, Total Loss: 435.1085\n",
      "Epoch 7, Total Loss: 356.2454\n",
      "Epoch 8, Total Loss: 278.5677\n",
      "Epoch 9, Total Loss: 219.9829\n",
      "Epoch 10, Total Loss: 174.9077\n",
      "Epoch 11, Total Loss: 148.9241\n",
      "Early stopping at epoch 12\n"
     ]
    }
   ],
   "source": [
    "\n",
    "\n",
    "student_model_kl.to(device)\n",
    "optimizer_kl =torch.optim.Adam(student_model_kl.parameters(), lr=1e-3, weight_decay=5e-4)\n",
    "\n",
    "\n",
    "\n",
    "train_with_kl_and_ce(student_model_kl, teacher_model, train_loader, optimizer_kl)"
   ]
  },
  {
   "cell_type": "code",
   "execution_count": 11,
   "id": "f63d6af0",
   "metadata": {
    "execution": {
     "iopub.execute_input": "2025-07-05T17:04:19.427712Z",
     "iopub.status.busy": "2025-07-05T17:04:19.427476Z",
     "iopub.status.idle": "2025-07-05T17:04:19.443101Z",
     "shell.execute_reply": "2025-07-05T17:04:19.442369Z"
    },
    "papermill": {
     "duration": 0.040312,
     "end_time": "2025-07-05T17:04:19.444279",
     "exception": false,
     "start_time": "2025-07-05T17:04:19.403967",
     "status": "completed"
    },
    "tags": []
   },
   "outputs": [],
   "source": [
    "torch.save(student_model_kl, '/kaggle/working/model.pth')"
   ]
  },
  {
   "cell_type": "code",
   "execution_count": 12,
   "id": "e004d55f",
   "metadata": {
    "execution": {
     "iopub.execute_input": "2025-07-05T17:04:19.490908Z",
     "iopub.status.busy": "2025-07-05T17:04:19.490692Z",
     "iopub.status.idle": "2025-07-05T17:04:20.592446Z",
     "shell.execute_reply": "2025-07-05T17:04:20.591587Z"
    },
    "papermill": {
     "duration": 1.126286,
     "end_time": "2025-07-05T17:04:20.593654",
     "exception": false,
     "start_time": "2025-07-05T17:04:19.467368",
     "status": "completed"
    },
    "tags": []
   },
   "outputs": [
    {
     "name": "stdout",
     "output_type": "stream",
     "text": [
      "Test Accuracy: 72.40%\n"
     ]
    }
   ],
   "source": [
    "correct = 0\n",
    "total = 0\n",
    "# test_dataset = datasets.CIFAR10(root='./data', train=False, download=True, transform=transform)\n",
    "# test_loader = DataLoader(test_dataset, batch_size=128 , shuffle=False)\n",
    "with torch.no_grad():\n",
    "    for images, labels in test_loader:\n",
    "        outputs = student_model_kl(images.to(device))\n",
    "        _, predicted = torch.max(outputs.data, 1)\n",
    "        total += labels.size(0)\n",
    "        correct += (predicted == labels.to(device)).sum().item()\n",
    "\n",
    "accuracy = 100 * correct / total\n",
    "print(f'Test Accuracy: {accuracy:.2f}%')"
   ]
  }
 ],
 "metadata": {
  "kaggle": {
   "accelerator": "gpu",
   "dataSources": [
    {
     "isSourceIdPinned": true,
     "modelId": 393260,
     "modelInstanceId": 372382,
     "sourceId": 459489,
     "sourceType": "modelInstanceVersion"
    }
   ],
   "dockerImageVersionId": 31041,
   "isGpuEnabled": true,
   "isInternetEnabled": true,
   "language": "python",
   "sourceType": "notebook"
  },
  "kernelspec": {
   "display_name": "Python 3",
   "language": "python",
   "name": "python3"
  },
  "language_info": {
   "codemirror_mode": {
    "name": "ipython",
    "version": 3
   },
   "file_extension": ".py",
   "mimetype": "text/x-python",
   "name": "python",
   "nbconvert_exporter": "python",
   "pygments_lexer": "ipython3",
   "version": "3.11.11"
  },
  "papermill": {
   "default_parameters": {},
   "duration": 444.321202,
   "end_time": "2025-07-05T17:04:23.356339",
   "environment_variables": {},
   "exception": null,
   "input_path": "__notebook__.ipynb",
   "output_path": "__notebook__.ipynb",
   "parameters": {},
   "start_time": "2025-07-05T16:56:59.035137",
   "version": "2.6.0"
  }
 },
 "nbformat": 4,
 "nbformat_minor": 5
}
