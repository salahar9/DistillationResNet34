{
 "cells": [
  {
   "cell_type": "code",
   "execution_count": 1,
   "id": "84be96f1",
   "metadata": {
    "_cell_guid": "b1076dfc-b9ad-4769-8c92-a6c4dae69d19",
    "_uuid": "8f2839f25d086af736a60e9eeb907d3b93b6e0e5",
    "execution": {
     "iopub.execute_input": "2025-07-05T20:55:52.612037Z",
     "iopub.status.busy": "2025-07-05T20:55:52.611753Z",
     "iopub.status.idle": "2025-07-05T20:55:54.054868Z",
     "shell.execute_reply": "2025-07-05T20:55:54.054121Z"
    },
    "papermill": {
     "duration": 1.448376,
     "end_time": "2025-07-05T20:55:54.056050",
     "exception": false,
     "start_time": "2025-07-05T20:55:52.607674",
     "status": "completed"
    },
    "tags": []
   },
   "outputs": [
    {
     "name": "stdout",
     "output_type": "stream",
     "text": [
      "/kaggle/input/studentcnn/pytorch/default/1/model (4).pth\n"
     ]
    }
   ],
   "source": [
    "# This Python 3 environment comes with many helpful analytics libraries installed\n",
    "# It is defined by the kaggle/python Docker image: https://github.com/kaggle/docker-python\n",
    "# For example, here's several helpful packages to load\n",
    "\n",
    "import numpy as np # linear algebra\n",
    "import pandas as pd # data processing, CSV file I/O (e.g. pd.read_csv)\n",
    "\n",
    "# Input data files are available in the read-only \"../input/\" directory\n",
    "# For example, running this (by clicking run or pressing Shift+Enter) will list all files under the input directory\n",
    "\n",
    "import os\n",
    "for dirname, _, filenames in os.walk('/kaggle/input'):\n",
    "    for filename in filenames:\n",
    "        print(os.path.join(dirname, filename))\n",
    "\n",
    "# You can write up to 20GB to the current directory (/kaggle/working/) that gets preserved as output when you create a version using \"Save & Run All\" \n",
    "# You can also write temporary files to /kaggle/temp/, but they won't be saved outside of the current session"
   ]
  },
  {
   "cell_type": "code",
   "execution_count": 2,
   "id": "246f27a2",
   "metadata": {
    "execution": {
     "iopub.execute_input": "2025-07-05T20:55:54.063043Z",
     "iopub.status.busy": "2025-07-05T20:55:54.062219Z",
     "iopub.status.idle": "2025-07-05T20:57:13.231681Z",
     "shell.execute_reply": "2025-07-05T20:57:13.230719Z"
    },
    "papermill": {
     "duration": 79.174243,
     "end_time": "2025-07-05T20:57:13.233313",
     "exception": false,
     "start_time": "2025-07-05T20:55:54.059070",
     "status": "completed"
    },
    "tags": []
   },
   "outputs": [
    {
     "name": "stdout",
     "output_type": "stream",
     "text": [
      "\u001b[2K   \u001b[90m━━━━━━━━━━━━━━━━━━━━━━━━━━━━━━━━━━━━━━━━\u001b[0m \u001b[32m616.8/616.8 kB\u001b[0m \u001b[31m9.8 MB/s\u001b[0m eta \u001b[36m0:00:00\u001b[0m\r\n",
      "\u001b[2K   \u001b[90m━━━━━━━━━━━━━━━━━━━━━━━━━━━━━━━━━━━━━━━━\u001b[0m \u001b[32m363.4/363.4 MB\u001b[0m \u001b[31m4.8 MB/s\u001b[0m eta \u001b[36m0:00:00\u001b[0m\r\n",
      "\u001b[2K   \u001b[90m━━━━━━━━━━━━━━━━━━━━━━━━━━━━━━━━━━━━━━━━\u001b[0m \u001b[32m664.8/664.8 MB\u001b[0m \u001b[31m2.5 MB/s\u001b[0m eta \u001b[36m0:00:00\u001b[0m\r\n",
      "\u001b[2K   \u001b[90m━━━━━━━━━━━━━━━━━━━━━━━━━━━━━━━━━━━━━━━━\u001b[0m \u001b[32m211.5/211.5 MB\u001b[0m \u001b[31m6.5 MB/s\u001b[0m eta \u001b[36m0:00:00\u001b[0m\r\n",
      "\u001b[2K   \u001b[90m━━━━━━━━━━━━━━━━━━━━━━━━━━━━━━━━━━━━━━━━\u001b[0m \u001b[32m56.3/56.3 MB\u001b[0m \u001b[31m31.2 MB/s\u001b[0m eta \u001b[36m0:00:00\u001b[0m\r\n",
      "\u001b[2K   \u001b[90m━━━━━━━━━━━━━━━━━━━━━━━━━━━━━━━━━━━━━━━━\u001b[0m \u001b[32m127.9/127.9 MB\u001b[0m \u001b[31m13.4 MB/s\u001b[0m eta \u001b[36m0:00:00\u001b[0m\r\n",
      "\u001b[2K   \u001b[90m━━━━━━━━━━━━━━━━━━━━━━━━━━━━━━━━━━━━━━━━\u001b[0m \u001b[32m207.5/207.5 MB\u001b[0m \u001b[31m2.1 MB/s\u001b[0m eta \u001b[36m0:00:00\u001b[0m\r\n",
      "\u001b[2K   \u001b[90m━━━━━━━━━━━━━━━━━━━━━━━━━━━━━━━━━━━━━━━━\u001b[0m \u001b[32m21.1/21.1 MB\u001b[0m \u001b[31m86.2 MB/s\u001b[0m eta \u001b[36m0:00:00\u001b[0m\r\n",
      "\u001b[2K   \u001b[90m━━━━━━━━━━━━━━━━━━━━━━━━━━━━━━━━━━━━━━━━\u001b[0m \u001b[32m31.3/31.3 MB\u001b[0m \u001b[31m57.6 MB/s\u001b[0m eta \u001b[36m0:00:00\u001b[0m\r\n",
      "\u001b[2K   \u001b[90m━━━━━━━━━━━━━━━━━━━━━━━━━━━━━━━━━━━━━━━━\u001b[0m \u001b[32m126.2/126.2 kB\u001b[0m \u001b[31m7.9 MB/s\u001b[0m eta \u001b[36m0:00:00\u001b[0m\r\n",
      "\u001b[2K   \u001b[90m━━━━━━━━━━━━━━━━━━━━━━━━━━━━━━━━━━━━━━━━\u001b[0m \u001b[32m78.8/78.8 kB\u001b[0m \u001b[31m5.5 MB/s\u001b[0m eta \u001b[36m0:00:00\u001b[0m\r\n",
      "\u001b[?25h"
     ]
    }
   ],
   "source": [
    "!pip install detectors -q"
   ]
  },
  {
   "cell_type": "code",
   "execution_count": 3,
   "id": "6bd5c66e",
   "metadata": {
    "execution": {
     "iopub.execute_input": "2025-07-05T20:57:13.277552Z",
     "iopub.status.busy": "2025-07-05T20:57:13.276695Z",
     "iopub.status.idle": "2025-07-05T20:57:21.902321Z",
     "shell.execute_reply": "2025-07-05T20:57:21.901733Z"
    },
    "papermill": {
     "duration": 8.648365,
     "end_time": "2025-07-05T20:57:21.903734",
     "exception": false,
     "start_time": "2025-07-05T20:57:13.255369",
     "status": "completed"
    },
    "tags": []
   },
   "outputs": [],
   "source": [
    "import torch\n",
    "import torch.nn as nn\n",
    "import torch.optim as optim\n",
    "import torchvision\n",
    "import torchvision.transforms as transforms\n",
    "from torch.utils.data import DataLoader\n",
    "import torch.nn.functional as F\n",
    "\n",
    "from torchvision import datasets, transforms\n",
    "from torch.utils.data import random_split, DataLoader\n"
   ]
  },
  {
   "cell_type": "code",
   "execution_count": null,
   "id": "34ee8b7f",
   "metadata": {
    "papermill": {
     "duration": 0.019718,
     "end_time": "2025-07-05T20:57:21.944392",
     "exception": false,
     "start_time": "2025-07-05T20:57:21.924674",
     "status": "completed"
    },
    "tags": []
   },
   "outputs": [],
   "source": []
  },
  {
   "cell_type": "code",
   "execution_count": 4,
   "id": "6b208c57",
   "metadata": {
    "execution": {
     "iopub.execute_input": "2025-07-05T20:57:21.985795Z",
     "iopub.status.busy": "2025-07-05T20:57:21.985071Z",
     "iopub.status.idle": "2025-07-05T20:57:53.509160Z",
     "shell.execute_reply": "2025-07-05T20:57:53.508521Z"
    },
    "papermill": {
     "duration": 31.546098,
     "end_time": "2025-07-05T20:57:53.510633",
     "exception": false,
     "start_time": "2025-07-05T20:57:21.964535",
     "status": "completed"
    },
    "tags": []
   },
   "outputs": [
    {
     "name": "stderr",
     "output_type": "stream",
     "text": [
      "100%|██████████| 170M/170M [00:15<00:00, 11.2MB/s]\n",
      "Downloading: \"https://huggingface.co/edadaltocg/resnet34_cifar10/resolve/main/pytorch_model.bin\" to /root/.cache/torch/hub/checkpoints/resnet34_cifar10.pth\n",
      "100%|██████████| 81.3M/81.3M [00:00<00:00, 380MB/s]\n"
     ]
    }
   ],
   "source": [
    "import torch,timm,detectors\n",
    "from torchvision import datasets, transforms\n",
    "from torch.utils.data import DataLoader\n",
    "from torch.nn import KLDivLoss\n",
    "transform = transforms.Compose([\n",
    "    transforms.Resize((32, 32)),\n",
    "    transforms.ToTensor(),\n",
    "    transforms.Normalize(mean=[0.4914, 0.4822, 0.4465],\n",
    "                         std=[0.2023, 0.1994, 0.2010])\n",
    "])\n",
    "train_dataset = datasets.CIFAR10(root='./data', train=True, download=True, transform=transform)\n",
    "train_loader = DataLoader(train_dataset, batch_size=128 , shuffle=True)\n",
    "device = torch.device(\"cuda\" if torch.cuda.is_available() else \"cpu\")\n",
    "teacher_model = timm.create_model(\"resnet34_cifar10\", pretrained=True).to(device)\n"
   ]
  },
  {
   "cell_type": "code",
   "execution_count": 5,
   "id": "c9c71167",
   "metadata": {
    "execution": {
     "iopub.execute_input": "2025-07-05T20:57:53.564011Z",
     "iopub.status.busy": "2025-07-05T20:57:53.563106Z",
     "iopub.status.idle": "2025-07-05T20:57:54.287568Z",
     "shell.execute_reply": "2025-07-05T20:57:54.286955Z"
    },
    "papermill": {
     "duration": 0.753793,
     "end_time": "2025-07-05T20:57:54.288947",
     "exception": false,
     "start_time": "2025-07-05T20:57:53.535154",
     "status": "completed"
    },
    "tags": []
   },
   "outputs": [],
   "source": [
    "\n",
    "cifar10_test = datasets.CIFAR10(root='./data', train=False, download=True, transform=transform)\n",
    "\n",
    "# Split into validation and test sets (50/50)\n",
    "val_size = len(cifar10_test) // 2\n",
    "test_size = len(cifar10_test) - val_size\n",
    "val_set, final_test_set = random_split(cifar10_test, [val_size, test_size])\n",
    "\n",
    "val_loader = DataLoader(val_set, batch_size=128, shuffle=False)\n",
    "test_loader = DataLoader(final_test_set, batch_size=128, shuffle=False)\n"
   ]
  },
  {
   "cell_type": "code",
   "execution_count": 6,
   "id": "c82965df",
   "metadata": {
    "execution": {
     "iopub.execute_input": "2025-07-05T20:57:54.338063Z",
     "iopub.status.busy": "2025-07-05T20:57:54.337408Z",
     "iopub.status.idle": "2025-07-05T20:57:54.344220Z",
     "shell.execute_reply": "2025-07-05T20:57:54.343695Z"
    },
    "papermill": {
     "duration": 0.032078,
     "end_time": "2025-07-05T20:57:54.345274",
     "exception": false,
     "start_time": "2025-07-05T20:57:54.313196",
     "status": "completed"
    },
    "tags": []
   },
   "outputs": [],
   "source": [
    "import torch.nn as nn\n",
    "import torch.nn.functional as F\n",
    "\n",
    "class StudentCNN(nn.Module):\n",
    "    def __init__(self):\n",
    "        super(StudentCNN, self).__init__()\n",
    "        self.conv1 = nn.Conv2d(3, 32, 3, padding=1)\n",
    "        self.bn1 = nn.BatchNorm2d(32)\n",
    "\n",
    "        self.conv2 = nn.Conv2d(32, 64, 3, padding=1)\n",
    "        self.bn2 = nn.BatchNorm2d(64)\n",
    "\n",
    "        self.conv3 = nn.Conv2d(64, 128, 3, padding=1)\n",
    "        self.bn3 = nn.BatchNorm2d(128)\n",
    "\n",
    "        self.pool = nn.MaxPool2d(2, 2)\n",
    "        self.dropout = nn.Dropout(0.5)\n",
    "\n",
    "        self.fc1 = nn.Linear(128 * 4 * 4, 512)  # After 3 poolings: 32 → 16 → 8 → 4\n",
    "        self.fc2 = nn.Linear(512, 10)\n",
    "\n",
    "    def forward(self, x):\n",
    "        x = self.pool(F.relu(self.bn1(self.conv1(x))))  # 32x32 → 16x16\n",
    "        x = self.pool(F.relu(self.bn2(self.conv2(x))))  # 16x16 → 8x8\n",
    "        x = self.pool(F.relu(self.bn3(self.conv3(x))))  # 8x8 → 4x4\n",
    "        x = x.view(x.size(0), -1)\n",
    "        x = self.dropout(F.relu(self.fc1(x)))\n",
    "        return self.fc2(x)\n"
   ]
  },
  {
   "cell_type": "code",
   "execution_count": 7,
   "id": "8bb85936",
   "metadata": {
    "execution": {
     "iopub.execute_input": "2025-07-05T20:57:54.393781Z",
     "iopub.status.busy": "2025-07-05T20:57:54.393144Z",
     "iopub.status.idle": "2025-07-05T20:57:54.397983Z",
     "shell.execute_reply": "2025-07-05T20:57:54.397356Z"
    },
    "papermill": {
     "duration": 0.030636,
     "end_time": "2025-07-05T20:57:54.399179",
     "exception": false,
     "start_time": "2025-07-05T20:57:54.368543",
     "status": "completed"
    },
    "tags": []
   },
   "outputs": [],
   "source": [
    "def evaluate(model, loader):\n",
    "    model.eval()\n",
    "    correct = 0\n",
    "    total = 0\n",
    "    with torch.no_grad():\n",
    "        for images, labels in loader:\n",
    "            images, labels = images.to(device), labels.to(device)\n",
    "            outputs = model(images)\n",
    "            _, predicted = torch.max(outputs, 1)\n",
    "            total += labels.size(0)\n",
    "            correct += (predicted == labels).sum().item()\n",
    "    return 100 * correct / total\n"
   ]
  },
  {
   "cell_type": "code",
   "execution_count": 8,
   "id": "9593fed8",
   "metadata": {
    "execution": {
     "iopub.execute_input": "2025-07-05T20:57:54.534075Z",
     "iopub.status.busy": "2025-07-05T20:57:54.533677Z",
     "iopub.status.idle": "2025-07-05T20:57:54.543497Z",
     "shell.execute_reply": "2025-07-05T20:57:54.542741Z"
    },
    "papermill": {
     "duration": 0.121215,
     "end_time": "2025-07-05T20:57:54.544816",
     "exception": false,
     "start_time": "2025-07-05T20:57:54.423601",
     "status": "completed"
    },
    "tags": []
   },
   "outputs": [],
   "source": [
    "def train_with_kl_and_ce(student_model, teacher_model, loader, optimizer, epochs=200, temperature=2, alpha=0.7):\n",
    "    kl_loss = nn.KLDivLoss(reduction='batchmean')\n",
    "    ce_loss = nn.CrossEntropyLoss()\n",
    "    student_model.train()\n",
    "    teacher_model.eval()\n",
    "    best_val_acc = 0\n",
    "    patience = 200\n",
    "    epochs_no_improve = 0\n",
    "    for epoch in range(epochs):\n",
    "        total_loss = 0\n",
    "        for images, labels in loader:\n",
    "            images, labels = images.to(device), labels.to(device)\n",
    "\n",
    "            with torch.no_grad():\n",
    "                teacher_logits = teacher_model(images)\n",
    "                teacher_probs = F.softmax(teacher_logits / temperature, dim=1)\n",
    "              \n",
    "            optimizer.zero_grad()\n",
    "            student_logits = student_model(images)\n",
    "\n",
    "            # KL Divergence Loss\n",
    "            student_log_probs = F.log_softmax(student_logits / temperature, dim=1)\n",
    "\n",
    "            loss_kl = kl_loss(student_log_probs, teacher_probs) * (temperature ** 2)\n",
    "\n",
    "            # Cross-Entropy Loss\n",
    "            loss_ce = ce_loss(student_logits, labels)\n",
    "\n",
    "            # Combined Loss\n",
    "            loss = alpha * loss_kl + (1 - alpha) * loss_ce\n",
    "\n",
    "            loss.backward()\n",
    "            optimizer.step()\n",
    "            total_loss += loss.item()\n",
    "        val_acc = evaluate(student_model, val_loader)\n",
    "        \n",
    "        if val_acc > best_val_acc:\n",
    "                best_val_acc = val_acc\n",
    "                epochs_no_improve = 0\n",
    "                # Save best model\n",
    "                torch.save(student_model.state_dict(), \"best_student_model.pth\")\n",
    "        else:\n",
    "                epochs_no_improve += 1\n",
    "        \n",
    "        if epochs_no_improve >= patience:\n",
    "                print(f\"Early stopping at epoch {epoch+1}\")\n",
    "                break\n",
    "        print(f\"Epoch {epoch+1}, Total Loss: {total_loss:.4f} Validation :{val_acc}\")\n"
   ]
  },
  {
   "cell_type": "code",
   "execution_count": 9,
   "id": "b264dcfc",
   "metadata": {
    "execution": {
     "iopub.execute_input": "2025-07-05T20:57:54.593978Z",
     "iopub.status.busy": "2025-07-05T20:57:54.593414Z",
     "iopub.status.idle": "2025-07-05T20:57:54.605449Z",
     "shell.execute_reply": "2025-07-05T20:57:54.604941Z"
    },
    "papermill": {
     "duration": 0.037521,
     "end_time": "2025-07-05T20:57:54.606723",
     "exception": false,
     "start_time": "2025-07-05T20:57:54.569202",
     "status": "completed"
    },
    "tags": []
   },
   "outputs": [],
   "source": [
    "student_model_kl = StudentCNN()"
   ]
  },
  {
   "cell_type": "code",
   "execution_count": 10,
   "id": "fc624e23",
   "metadata": {
    "execution": {
     "iopub.execute_input": "2025-07-05T20:57:54.655259Z",
     "iopub.status.busy": "2025-07-05T20:57:54.654629Z",
     "iopub.status.idle": "2025-07-05T22:31:12.890388Z",
     "shell.execute_reply": "2025-07-05T22:31:12.889586Z"
    },
    "papermill": {
     "duration": 5598.29184,
     "end_time": "2025-07-05T22:31:12.921886",
     "exception": false,
     "start_time": "2025-07-05T20:57:54.630046",
     "status": "completed"
    },
    "tags": []
   },
   "outputs": [
    {
     "name": "stdout",
     "output_type": "stream",
     "text": [
      "Epoch 1, Total Loss: 1466.5859 Validation :65.06\n",
      "Epoch 2, Total Loss: 967.6353 Validation :73.52\n",
      "Epoch 3, Total Loss: 758.4795 Validation :76.32\n",
      "Epoch 4, Total Loss: 639.5243 Validation :77.84\n",
      "Epoch 5, Total Loss: 527.9027 Validation :77.7\n",
      "Epoch 6, Total Loss: 431.3643 Validation :78.02\n",
      "Epoch 7, Total Loss: 348.0383 Validation :78.66\n",
      "Epoch 8, Total Loss: 265.8143 Validation :77.86\n",
      "Epoch 9, Total Loss: 207.8493 Validation :78.54\n",
      "Epoch 10, Total Loss: 162.5883 Validation :78.1\n",
      "Epoch 11, Total Loss: 134.5777 Validation :77.72\n",
      "Epoch 12, Total Loss: 109.2336 Validation :79.3\n",
      "Epoch 13, Total Loss: 102.5352 Validation :78.0\n",
      "Epoch 14, Total Loss: 129.6381 Validation :76.44\n",
      "Epoch 15, Total Loss: 154.9305 Validation :76.78\n",
      "Epoch 16, Total Loss: 114.0209 Validation :78.44\n",
      "Epoch 17, Total Loss: 69.4874 Validation :79.8\n",
      "Epoch 18, Total Loss: 51.3538 Validation :79.48\n",
      "Epoch 19, Total Loss: 52.1556 Validation :78.66\n",
      "Epoch 20, Total Loss: 279.8936 Validation :74.68\n",
      "Epoch 21, Total Loss: 145.3044 Validation :78.66\n",
      "Epoch 22, Total Loss: 66.4293 Validation :79.24\n",
      "Epoch 23, Total Loss: 44.4118 Validation :80.12\n",
      "Epoch 24, Total Loss: 38.2186 Validation :80.3\n",
      "Epoch 25, Total Loss: 52.9989 Validation :72.78\n",
      "Epoch 26, Total Loss: 310.0755 Validation :77.32\n",
      "Epoch 27, Total Loss: 109.5935 Validation :78.54\n",
      "Epoch 28, Total Loss: 53.2777 Validation :80.24\n",
      "Epoch 29, Total Loss: 37.4067 Validation :80.32\n",
      "Epoch 30, Total Loss: 34.0796 Validation :79.9\n",
      "Epoch 31, Total Loss: 86.7296 Validation :73.02\n",
      "Epoch 32, Total Loss: 281.8652 Validation :78.12\n",
      "Epoch 33, Total Loss: 95.7187 Validation :79.12\n",
      "Epoch 34, Total Loss: 48.2421 Validation :80.1\n",
      "Epoch 35, Total Loss: 34.6800 Validation :80.02\n",
      "Epoch 36, Total Loss: 31.7677 Validation :79.86\n",
      "Epoch 37, Total Loss: 59.1583 Validation :74.4\n",
      "Epoch 38, Total Loss: 307.5227 Validation :77.56\n",
      "Epoch 39, Total Loss: 97.5826 Validation :79.08\n",
      "Epoch 40, Total Loss: 47.5388 Validation :80.16\n",
      "Epoch 41, Total Loss: 34.1071 Validation :80.38\n",
      "Epoch 42, Total Loss: 30.2881 Validation :80.22\n",
      "Epoch 43, Total Loss: 35.9758 Validation :77.54\n",
      "Epoch 44, Total Loss: 284.5587 Validation :75.82\n",
      "Epoch 45, Total Loss: 121.2735 Validation :79.06\n",
      "Epoch 46, Total Loss: 51.7758 Validation :79.78\n",
      "Epoch 47, Total Loss: 34.2707 Validation :80.12\n",
      "Epoch 48, Total Loss: 29.7567 Validation :79.58\n",
      "Epoch 49, Total Loss: 33.3310 Validation :78.96\n",
      "Epoch 50, Total Loss: 276.1847 Validation :76.86\n",
      "Epoch 51, Total Loss: 111.7396 Validation :78.9\n",
      "Epoch 52, Total Loss: 49.7698 Validation :79.56\n",
      "Epoch 53, Total Loss: 33.4204 Validation :80.3\n",
      "Epoch 54, Total Loss: 28.2490 Validation :80.78\n",
      "Epoch 55, Total Loss: 30.9399 Validation :79.4\n",
      "Epoch 56, Total Loss: 250.5706 Validation :75.78\n",
      "Epoch 57, Total Loss: 151.5285 Validation :77.98\n",
      "Epoch 58, Total Loss: 57.5277 Validation :79.1\n",
      "Epoch 59, Total Loss: 35.0823 Validation :79.94\n",
      "Epoch 60, Total Loss: 28.2138 Validation :80.1\n",
      "Epoch 61, Total Loss: 27.2777 Validation :79.96\n",
      "Epoch 62, Total Loss: 110.8423 Validation :73.94\n",
      "Epoch 63, Total Loss: 252.8187 Validation :77.16\n",
      "Epoch 64, Total Loss: 83.7697 Validation :79.5\n",
      "Epoch 65, Total Loss: 41.0191 Validation :80.24\n",
      "Epoch 66, Total Loss: 29.2866 Validation :80.58\n",
      "Epoch 67, Total Loss: 26.5753 Validation :80.68\n",
      "Epoch 68, Total Loss: 32.4279 Validation :78.58\n",
      "Epoch 69, Total Loss: 271.7020 Validation :75.88\n",
      "Epoch 70, Total Loss: 109.2583 Validation :78.84\n",
      "Epoch 71, Total Loss: 47.7858 Validation :79.96\n",
      "Epoch 72, Total Loss: 31.1213 Validation :79.94\n",
      "Epoch 73, Total Loss: 26.0610 Validation :80.34\n",
      "Epoch 74, Total Loss: 27.1960 Validation :80.5\n",
      "Epoch 75, Total Loss: 156.2592 Validation :75.92\n",
      "Epoch 76, Total Loss: 203.1306 Validation :77.94\n",
      "Epoch 77, Total Loss: 65.2499 Validation :79.92\n",
      "Epoch 78, Total Loss: 35.6690 Validation :80.6\n",
      "Epoch 79, Total Loss: 26.8932 Validation :80.56\n",
      "Epoch 80, Total Loss: 25.4927 Validation :80.66\n",
      "Epoch 81, Total Loss: 34.3427 Validation :76.8\n",
      "Epoch 82, Total Loss: 286.5342 Validation :77.42\n",
      "Epoch 83, Total Loss: 95.3398 Validation :78.3\n",
      "Epoch 84, Total Loss: 43.3369 Validation :79.78\n",
      "Epoch 85, Total Loss: 28.9124 Validation :80.16\n",
      "Epoch 86, Total Loss: 25.0321 Validation :80.0\n",
      "Epoch 87, Total Loss: 26.3464 Validation :79.32\n",
      "Epoch 88, Total Loss: 124.5235 Validation :75.2\n",
      "Epoch 89, Total Loss: 221.3653 Validation :77.32\n",
      "Epoch 90, Total Loss: 77.2936 Validation :79.42\n",
      "Epoch 91, Total Loss: 37.7866 Validation :79.64\n",
      "Epoch 92, Total Loss: 26.9754 Validation :80.54\n",
      "Epoch 93, Total Loss: 23.7140 Validation :79.92\n",
      "Epoch 94, Total Loss: 25.6012 Validation :79.6\n",
      "Epoch 95, Total Loss: 189.6488 Validation :74.78\n",
      "Epoch 96, Total Loss: 172.0077 Validation :78.44\n",
      "Epoch 97, Total Loss: 62.6235 Validation :79.2\n",
      "Epoch 98, Total Loss: 34.0898 Validation :80.12\n",
      "Epoch 99, Total Loss: 25.5594 Validation :80.26\n",
      "Epoch 100, Total Loss: 23.2043 Validation :80.3\n",
      "Epoch 101, Total Loss: 29.2328 Validation :78.82\n",
      "Epoch 102, Total Loss: 262.9963 Validation :76.38\n",
      "Epoch 103, Total Loss: 104.2124 Validation :78.28\n",
      "Epoch 104, Total Loss: 45.4646 Validation :79.48\n",
      "Epoch 105, Total Loss: 28.5002 Validation :80.24\n",
      "Epoch 106, Total Loss: 23.6033 Validation :80.4\n",
      "Epoch 107, Total Loss: 22.9696 Validation :80.14\n",
      "Epoch 108, Total Loss: 70.8305 Validation :71.36\n",
      "Epoch 109, Total Loss: 258.7295 Validation :76.84\n",
      "Epoch 110, Total Loss: 82.5302 Validation :79.14\n",
      "Epoch 111, Total Loss: 39.0177 Validation :80.16\n",
      "Epoch 112, Total Loss: 26.4605 Validation :80.38\n",
      "Epoch 113, Total Loss: 22.5922 Validation :80.36\n",
      "Epoch 114, Total Loss: 23.3277 Validation :79.9\n",
      "Epoch 115, Total Loss: 80.5393 Validation :73.62\n",
      "Epoch 116, Total Loss: 254.7359 Validation :77.98\n",
      "Epoch 117, Total Loss: 77.1857 Validation :78.76\n",
      "Epoch 118, Total Loss: 36.8050 Validation :79.24\n",
      "Epoch 119, Total Loss: 25.8432 Validation :79.82\n",
      "Epoch 120, Total Loss: 22.3024 Validation :79.76\n",
      "Epoch 121, Total Loss: 23.2565 Validation :79.76\n",
      "Epoch 122, Total Loss: 132.7506 Validation :75.66\n",
      "Epoch 123, Total Loss: 206.5392 Validation :77.5\n",
      "Epoch 124, Total Loss: 70.0145 Validation :79.48\n",
      "Epoch 125, Total Loss: 34.9618 Validation :79.44\n",
      "Epoch 126, Total Loss: 24.8407 Validation :79.88\n",
      "Epoch 127, Total Loss: 21.5351 Validation :79.68\n",
      "Epoch 128, Total Loss: 22.7629 Validation :79.74\n",
      "Epoch 129, Total Loss: 122.8640 Validation :74.46\n",
      "Epoch 130, Total Loss: 214.0664 Validation :77.72\n",
      "Epoch 131, Total Loss: 70.5457 Validation :78.72\n",
      "Epoch 132, Total Loss: 35.0317 Validation :79.62\n",
      "Epoch 133, Total Loss: 24.6129 Validation :80.48\n",
      "Epoch 134, Total Loss: 21.4499 Validation :80.14\n",
      "Epoch 135, Total Loss: 21.8416 Validation :79.88\n",
      "Epoch 136, Total Loss: 117.0032 Validation :74.32\n",
      "Epoch 137, Total Loss: 215.7759 Validation :77.54\n",
      "Epoch 138, Total Loss: 68.8249 Validation :79.2\n",
      "Epoch 139, Total Loss: 34.6184 Validation :79.78\n",
      "Epoch 140, Total Loss: 24.1746 Validation :79.74\n",
      "Epoch 141, Total Loss: 21.2803 Validation :79.86\n",
      "Epoch 142, Total Loss: 23.0795 Validation :76.98\n",
      "Epoch 143, Total Loss: 142.4884 Validation :75.14\n",
      "Epoch 144, Total Loss: 191.7317 Validation :77.16\n",
      "Epoch 145, Total Loss: 67.5373 Validation :79.02\n",
      "Epoch 146, Total Loss: 33.1209 Validation :79.94\n",
      "Epoch 147, Total Loss: 23.7032 Validation :80.0\n",
      "Epoch 148, Total Loss: 20.8840 Validation :79.74\n",
      "Epoch 149, Total Loss: 21.2925 Validation :79.64\n",
      "Epoch 150, Total Loss: 124.5065 Validation :76.28\n",
      "Epoch 151, Total Loss: 205.1444 Validation :76.96\n",
      "Epoch 152, Total Loss: 67.4753 Validation :79.36\n",
      "Epoch 153, Total Loss: 33.5832 Validation :79.64\n",
      "Epoch 154, Total Loss: 23.8011 Validation :79.86\n",
      "Epoch 155, Total Loss: 20.7182 Validation :79.92\n",
      "Epoch 156, Total Loss: 21.4371 Validation :80.14\n",
      "Epoch 157, Total Loss: 100.1876 Validation :73.3\n",
      "Epoch 158, Total Loss: 225.3331 Validation :77.36\n",
      "Epoch 159, Total Loss: 73.3100 Validation :78.66\n",
      "Epoch 160, Total Loss: 35.4798 Validation :79.68\n",
      "Epoch 161, Total Loss: 24.3789 Validation :79.9\n",
      "Epoch 162, Total Loss: 20.6751 Validation :80.2\n",
      "Epoch 163, Total Loss: 21.3801 Validation :79.3\n",
      "Epoch 164, Total Loss: 87.3554 Validation :73.52\n",
      "Epoch 165, Total Loss: 227.0809 Validation :77.74\n",
      "Epoch 166, Total Loss: 71.7697 Validation :79.06\n",
      "Epoch 167, Total Loss: 34.3138 Validation :79.84\n",
      "Epoch 168, Total Loss: 23.5608 Validation :79.96\n",
      "Epoch 169, Total Loss: 20.3758 Validation :79.94\n",
      "Epoch 170, Total Loss: 20.6553 Validation :79.88\n",
      "Epoch 171, Total Loss: 83.8858 Validation :73.12\n",
      "Epoch 172, Total Loss: 229.3264 Validation :76.8\n",
      "Epoch 173, Total Loss: 72.9137 Validation :79.56\n",
      "Epoch 174, Total Loss: 34.2453 Validation :79.86\n",
      "Epoch 175, Total Loss: 23.3889 Validation :79.84\n",
      "Epoch 176, Total Loss: 20.1116 Validation :79.88\n",
      "Epoch 177, Total Loss: 20.1329 Validation :79.66\n",
      "Epoch 178, Total Loss: 54.7830 Validation :72.16\n",
      "Epoch 179, Total Loss: 263.6663 Validation :77.38\n",
      "Epoch 180, Total Loss: 77.1884 Validation :78.72\n",
      "Epoch 181, Total Loss: 35.0476 Validation :79.78\n",
      "Epoch 182, Total Loss: 23.6233 Validation :80.36\n",
      "Epoch 183, Total Loss: 19.9478 Validation :80.02\n",
      "Epoch 184, Total Loss: 19.5580 Validation :79.22\n",
      "Epoch 185, Total Loss: 39.4042 Validation :73.7\n",
      "Epoch 186, Total Loss: 256.9032 Validation :76.7\n",
      "Epoch 187, Total Loss: 80.1693 Validation :78.96\n",
      "Epoch 188, Total Loss: 37.0239 Validation :79.82\n",
      "Epoch 189, Total Loss: 24.6555 Validation :80.16\n",
      "Epoch 190, Total Loss: 20.5768 Validation :80.02\n",
      "Epoch 191, Total Loss: 20.1653 Validation :79.72\n",
      "Epoch 192, Total Loss: 33.7094 Validation :75.82\n",
      "Epoch 193, Total Loss: 266.0986 Validation :76.6\n",
      "Epoch 194, Total Loss: 85.2002 Validation :78.84\n",
      "Epoch 195, Total Loss: 38.1419 Validation :79.76\n",
      "Epoch 196, Total Loss: 24.4798 Validation :79.86\n",
      "Epoch 197, Total Loss: 20.1899 Validation :79.86\n",
      "Epoch 198, Total Loss: 19.5272 Validation :79.9\n",
      "Epoch 199, Total Loss: 25.5189 Validation :78.16\n",
      "Epoch 200, Total Loss: 248.9981 Validation :76.64\n"
     ]
    }
   ],
   "source": [
    "\n",
    "\n",
    "student_model_kl.to(device)\n",
    "optimizer_kl =torch.optim.Adam(student_model_kl.parameters(), lr=1e-3, weight_decay=5e-4)\n",
    "\n",
    "\n",
    "\n",
    "train_with_kl_and_ce(student_model_kl, teacher_model, train_loader, optimizer_kl)"
   ]
  },
  {
   "cell_type": "code",
   "execution_count": 11,
   "id": "fab35d39",
   "metadata": {
    "execution": {
     "iopub.execute_input": "2025-07-05T22:31:12.984946Z",
     "iopub.status.busy": "2025-07-05T22:31:12.984654Z",
     "iopub.status.idle": "2025-07-05T22:31:12.997745Z",
     "shell.execute_reply": "2025-07-05T22:31:12.997191Z"
    },
    "papermill": {
     "duration": 0.046341,
     "end_time": "2025-07-05T22:31:12.998930",
     "exception": false,
     "start_time": "2025-07-05T22:31:12.952589",
     "status": "completed"
    },
    "tags": []
   },
   "outputs": [],
   "source": [
    "torch.save(student_model_kl, '/kaggle/working/model.pth')"
   ]
  },
  {
   "cell_type": "code",
   "execution_count": 12,
   "id": "d66b2b09",
   "metadata": {
    "execution": {
     "iopub.execute_input": "2025-07-05T22:31:13.064350Z",
     "iopub.status.busy": "2025-07-05T22:31:13.064109Z",
     "iopub.status.idle": "2025-07-05T22:31:14.175201Z",
     "shell.execute_reply": "2025-07-05T22:31:14.174516Z"
    },
    "papermill": {
     "duration": 1.145453,
     "end_time": "2025-07-05T22:31:14.176323",
     "exception": false,
     "start_time": "2025-07-05T22:31:13.030870",
     "status": "completed"
    },
    "tags": []
   },
   "outputs": [
    {
     "name": "stdout",
     "output_type": "stream",
     "text": [
      "Test Accuracy: 76.48%\n"
     ]
    }
   ],
   "source": [
    "correct = 0\n",
    "total = 0\n",
    "# test_dataset = datasets.CIFAR10(root='./data', train=False, download=True, transform=transform)\n",
    "# test_loader = DataLoader(test_dataset, batch_size=128 , shuffle=False)\n",
    "with torch.no_grad():\n",
    "    for images, labels in test_loader:\n",
    "        outputs = student_model_kl(images.to(device))\n",
    "        _, predicted = torch.max(outputs.data, 1)\n",
    "        total += labels.size(0)\n",
    "        correct += (predicted == labels.to(device)).sum().item()\n",
    "\n",
    "accuracy = 100 * correct / total\n",
    "print(f'Test Accuracy: {accuracy:.2f}%')"
   ]
  }
 ],
 "metadata": {
  "kaggle": {
   "accelerator": "gpu",
   "dataSources": [
    {
     "isSourceIdPinned": true,
     "modelId": 393260,
     "modelInstanceId": 372382,
     "sourceId": 459489,
     "sourceType": "modelInstanceVersion"
    }
   ],
   "dockerImageVersionId": 31041,
   "isGpuEnabled": true,
   "isInternetEnabled": true,
   "language": "python",
   "sourceType": "notebook"
  },
  "kernelspec": {
   "display_name": "Python 3",
   "language": "python",
   "name": "python3"
  },
  "language_info": {
   "codemirror_mode": {
    "name": "ipython",
    "version": 3
   },
   "file_extension": ".py",
   "mimetype": "text/x-python",
   "name": "python",
   "nbconvert_exporter": "python",
   "pygments_lexer": "ipython3",
   "version": "3.11.11"
  },
  "papermill": {
   "default_parameters": {},
   "duration": 5728.610863,
   "end_time": "2025-07-05T22:31:17.055918",
   "environment_variables": {},
   "exception": null,
   "input_path": "__notebook__.ipynb",
   "output_path": "__notebook__.ipynb",
   "parameters": {},
   "start_time": "2025-07-05T20:55:48.445055",
   "version": "2.6.0"
  }
 },
 "nbformat": 4,
 "nbformat_minor": 5
}
