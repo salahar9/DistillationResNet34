{
 "cells": [
  {
   "cell_type": "code",
   "execution_count": 1,
   "id": "57dc674f",
   "metadata": {
    "_cell_guid": "b1076dfc-b9ad-4769-8c92-a6c4dae69d19",
    "_uuid": "8f2839f25d086af736a60e9eeb907d3b93b6e0e5",
    "execution": {
     "iopub.execute_input": "2025-07-05T18:51:27.094026Z",
     "iopub.status.busy": "2025-07-05T18:51:27.093754Z",
     "iopub.status.idle": "2025-07-05T18:51:28.556465Z",
     "shell.execute_reply": "2025-07-05T18:51:28.555593Z"
    },
    "papermill": {
     "duration": 1.468292,
     "end_time": "2025-07-05T18:51:28.557872",
     "exception": false,
     "start_time": "2025-07-05T18:51:27.089580",
     "status": "completed"
    },
    "tags": []
   },
   "outputs": [
    {
     "name": "stdout",
     "output_type": "stream",
     "text": [
      "/kaggle/input/studentcnn/pytorch/default/1/model (4).pth\n"
     ]
    }
   ],
   "source": [
    "# This Python 3 environment comes with many helpful analytics libraries installed\n",
    "# It is defined by the kaggle/python Docker image: https://github.com/kaggle/docker-python\n",
    "# For example, here's several helpful packages to load\n",
    "\n",
    "import numpy as np # linear algebra\n",
    "import pandas as pd # data processing, CSV file I/O (e.g. pd.read_csv)\n",
    "\n",
    "# Input data files are available in the read-only \"../input/\" directory\n",
    "# For example, running this (by clicking run or pressing Shift+Enter) will list all files under the input directory\n",
    "\n",
    "import os\n",
    "for dirname, _, filenames in os.walk('/kaggle/input'):\n",
    "    for filename in filenames:\n",
    "        print(os.path.join(dirname, filename))\n",
    "\n",
    "# You can write up to 20GB to the current directory (/kaggle/working/) that gets preserved as output when you create a version using \"Save & Run All\" \n",
    "# You can also write temporary files to /kaggle/temp/, but they won't be saved outside of the current session"
   ]
  },
  {
   "cell_type": "code",
   "execution_count": 2,
   "id": "cc356e7c",
   "metadata": {
    "execution": {
     "iopub.execute_input": "2025-07-05T18:51:28.564871Z",
     "iopub.status.busy": "2025-07-05T18:51:28.564527Z",
     "iopub.status.idle": "2025-07-05T18:52:51.883672Z",
     "shell.execute_reply": "2025-07-05T18:52:51.882749Z"
    },
    "papermill": {
     "duration": 83.32422,
     "end_time": "2025-07-05T18:52:51.885340",
     "exception": false,
     "start_time": "2025-07-05T18:51:28.561120",
     "status": "completed"
    },
    "tags": []
   },
   "outputs": [
    {
     "name": "stdout",
     "output_type": "stream",
     "text": [
      "\u001b[2K   \u001b[90m━━━━━━━━━━━━━━━━━━━━━━━━━━━━━━━━━━━━━━━━\u001b[0m \u001b[32m616.8/616.8 kB\u001b[0m \u001b[31m10.5 MB/s\u001b[0m eta \u001b[36m0:00:00\u001b[0m\r\n",
      "\u001b[2K   \u001b[90m━━━━━━━━━━━━━━━━━━━━━━━━━━━━━━━━━━━━━━━━\u001b[0m \u001b[32m363.4/363.4 MB\u001b[0m \u001b[31m4.7 MB/s\u001b[0m eta \u001b[36m0:00:00\u001b[0m\r\n",
      "\u001b[2K   \u001b[90m━━━━━━━━━━━━━━━━━━━━━━━━━━━━━━━━━━━━━━━━\u001b[0m \u001b[32m664.8/664.8 MB\u001b[0m \u001b[31m2.4 MB/s\u001b[0m eta \u001b[36m0:00:00\u001b[0m\r\n",
      "\u001b[2K   \u001b[90m━━━━━━━━━━━━━━━━━━━━━━━━━━━━━━━━━━━━━━━━\u001b[0m \u001b[32m211.5/211.5 MB\u001b[0m \u001b[31m5.5 MB/s\u001b[0m eta \u001b[36m0:00:00\u001b[0m\r\n",
      "\u001b[2K   \u001b[90m━━━━━━━━━━━━━━━━━━━━━━━━━━━━━━━━━━━━━━━━\u001b[0m \u001b[32m56.3/56.3 MB\u001b[0m \u001b[31m29.8 MB/s\u001b[0m eta \u001b[36m0:00:00\u001b[0m\r\n",
      "\u001b[2K   \u001b[90m━━━━━━━━━━━━━━━━━━━━━━━━━━━━━━━━━━━━━━━━\u001b[0m \u001b[32m127.9/127.9 MB\u001b[0m \u001b[31m13.3 MB/s\u001b[0m eta \u001b[36m0:00:00\u001b[0m\r\n",
      "\u001b[2K   \u001b[90m━━━━━━━━━━━━━━━━━━━━━━━━━━━━━━━━━━━━━━━━\u001b[0m \u001b[32m207.5/207.5 MB\u001b[0m \u001b[31m2.2 MB/s\u001b[0m eta \u001b[36m0:00:00\u001b[0m\r\n",
      "\u001b[2K   \u001b[90m━━━━━━━━━━━━━━━━━━━━━━━━━━━━━━━━━━━━━━━━\u001b[0m \u001b[32m21.1/21.1 MB\u001b[0m \u001b[31m77.7 MB/s\u001b[0m eta \u001b[36m0:00:00\u001b[0m\r\n",
      "\u001b[2K   \u001b[90m━━━━━━━━━━━━━━━━━━━━━━━━━━━━━━━━━━━━━━━━\u001b[0m \u001b[32m31.3/31.3 MB\u001b[0m \u001b[31m57.3 MB/s\u001b[0m eta \u001b[36m0:00:00\u001b[0m\r\n",
      "\u001b[2K   \u001b[90m━━━━━━━━━━━━━━━━━━━━━━━━━━━━━━━━━━━━━━━━\u001b[0m \u001b[32m126.2/126.2 kB\u001b[0m \u001b[31m7.9 MB/s\u001b[0m eta \u001b[36m0:00:00\u001b[0m\r\n",
      "\u001b[2K   \u001b[90m━━━━━━━━━━━━━━━━━━━━━━━━━━━━━━━━━━━━━━━━\u001b[0m \u001b[32m78.8/78.8 kB\u001b[0m \u001b[31m5.3 MB/s\u001b[0m eta \u001b[36m0:00:00\u001b[0m\r\n",
      "\u001b[?25h"
     ]
    }
   ],
   "source": [
    "!pip install detectors -q"
   ]
  },
  {
   "cell_type": "code",
   "execution_count": 3,
   "id": "b85c7448",
   "metadata": {
    "execution": {
     "iopub.execute_input": "2025-07-05T18:52:51.929451Z",
     "iopub.status.busy": "2025-07-05T18:52:51.928692Z",
     "iopub.status.idle": "2025-07-05T18:53:00.704982Z",
     "shell.execute_reply": "2025-07-05T18:53:00.704164Z"
    },
    "papermill": {
     "duration": 8.799003,
     "end_time": "2025-07-05T18:53:00.706365",
     "exception": false,
     "start_time": "2025-07-05T18:52:51.907362",
     "status": "completed"
    },
    "tags": []
   },
   "outputs": [],
   "source": [
    "import torch\n",
    "import torch.nn as nn\n",
    "import torch.optim as optim\n",
    "import torchvision\n",
    "import torchvision.transforms as transforms\n",
    "from torch.utils.data import DataLoader\n",
    "import torch.nn.functional as F\n",
    "\n",
    "from torchvision import datasets, transforms\n",
    "from torch.utils.data import random_split, DataLoader\n"
   ]
  },
  {
   "cell_type": "code",
   "execution_count": null,
   "id": "9b96f902",
   "metadata": {
    "papermill": {
     "duration": 0.020353,
     "end_time": "2025-07-05T18:53:00.748222",
     "exception": false,
     "start_time": "2025-07-05T18:53:00.727869",
     "status": "completed"
    },
    "tags": []
   },
   "outputs": [],
   "source": []
  },
  {
   "cell_type": "code",
   "execution_count": 4,
   "id": "51b2cc55",
   "metadata": {
    "execution": {
     "iopub.execute_input": "2025-07-05T18:53:00.791268Z",
     "iopub.status.busy": "2025-07-05T18:53:00.790401Z",
     "iopub.status.idle": "2025-07-05T18:53:30.812953Z",
     "shell.execute_reply": "2025-07-05T18:53:30.812306Z"
    },
    "papermill": {
     "duration": 30.045707,
     "end_time": "2025-07-05T18:53:30.814339",
     "exception": false,
     "start_time": "2025-07-05T18:53:00.768632",
     "status": "completed"
    },
    "tags": []
   },
   "outputs": [
    {
     "name": "stderr",
     "output_type": "stream",
     "text": [
      "100%|██████████| 170M/170M [00:10<00:00, 16.1MB/s]\n",
      "Downloading: \"https://huggingface.co/edadaltocg/resnet34_cifar10/resolve/main/pytorch_model.bin\" to /root/.cache/torch/hub/checkpoints/resnet34_cifar10.pth\n",
      "100%|██████████| 81.3M/81.3M [00:00<00:00, 316MB/s]\n"
     ]
    }
   ],
   "source": [
    "import torch,timm,detectors\n",
    "from torchvision import datasets, transforms\n",
    "from torch.utils.data import DataLoader\n",
    "from torch.nn import KLDivLoss\n",
    "transform = transforms.Compose([\n",
    "    transforms.Resize((32, 32)),\n",
    "    transforms.ToTensor(),\n",
    "    transforms.Normalize(mean=[0.4914, 0.4822, 0.4465],\n",
    "                         std=[0.2023, 0.1994, 0.2010])\n",
    "])\n",
    "train_dataset = datasets.CIFAR10(root='./data', train=True, download=True, transform=transform)\n",
    "train_loader = DataLoader(train_dataset, batch_size=128 , shuffle=True)\n",
    "device = torch.device(\"cuda\" if torch.cuda.is_available() else \"cpu\")\n",
    "teacher_model = timm.create_model(\"resnet34_cifar10\", pretrained=True).to(device)\n"
   ]
  },
  {
   "cell_type": "code",
   "execution_count": 5,
   "id": "001cb4ce",
   "metadata": {
    "execution": {
     "iopub.execute_input": "2025-07-05T18:53:30.863446Z",
     "iopub.status.busy": "2025-07-05T18:53:30.862947Z",
     "iopub.status.idle": "2025-07-05T18:53:31.587519Z",
     "shell.execute_reply": "2025-07-05T18:53:31.586766Z"
    },
    "papermill": {
     "duration": 0.750775,
     "end_time": "2025-07-05T18:53:31.589061",
     "exception": false,
     "start_time": "2025-07-05T18:53:30.838286",
     "status": "completed"
    },
    "tags": []
   },
   "outputs": [],
   "source": [
    "\n",
    "cifar10_test = datasets.CIFAR10(root='./data', train=False, download=True, transform=transform)\n",
    "\n",
    "# Split into validation and test sets (50/50)\n",
    "val_size = len(cifar10_test) // 2\n",
    "test_size = len(cifar10_test) - val_size\n",
    "val_set, final_test_set = random_split(cifar10_test, [val_size, test_size])\n",
    "\n",
    "val_loader = DataLoader(val_set, batch_size=128, shuffle=False)\n",
    "test_loader = DataLoader(final_test_set, batch_size=128, shuffle=False)\n"
   ]
  },
  {
   "cell_type": "code",
   "execution_count": 6,
   "id": "ecbf911e",
   "metadata": {
    "execution": {
     "iopub.execute_input": "2025-07-05T18:53:31.636572Z",
     "iopub.status.busy": "2025-07-05T18:53:31.635924Z",
     "iopub.status.idle": "2025-07-05T18:53:31.643044Z",
     "shell.execute_reply": "2025-07-05T18:53:31.642488Z"
    },
    "papermill": {
     "duration": 0.032045,
     "end_time": "2025-07-05T18:53:31.644211",
     "exception": false,
     "start_time": "2025-07-05T18:53:31.612166",
     "status": "completed"
    },
    "tags": []
   },
   "outputs": [],
   "source": [
    "import torch.nn as nn\n",
    "import torch.nn.functional as F\n",
    "\n",
    "class StudentCNN(nn.Module):\n",
    "    def __init__(self):\n",
    "        super(StudentCNN, self).__init__()\n",
    "        self.conv1 = nn.Conv2d(3, 32, 3, padding=1)\n",
    "        self.bn1 = nn.BatchNorm2d(32)\n",
    "\n",
    "        self.conv2 = nn.Conv2d(32, 64, 3, padding=1)\n",
    "        self.bn2 = nn.BatchNorm2d(64)\n",
    "\n",
    "        self.conv3 = nn.Conv2d(64, 128, 3, padding=1)\n",
    "        self.bn3 = nn.BatchNorm2d(128)\n",
    "\n",
    "        self.pool = nn.MaxPool2d(2, 2)\n",
    "        self.dropout = nn.Dropout(0.5)\n",
    "\n",
    "        self.fc1 = nn.Linear(128 * 4 * 4, 512)  # After 3 poolings: 32 → 16 → 8 → 4\n",
    "        self.fc2 = nn.Linear(512, 10)\n",
    "\n",
    "    def forward(self, x):\n",
    "        x = self.pool(F.relu(self.bn1(self.conv1(x))))  # 32x32 → 16x16\n",
    "        x = self.pool(F.relu(self.bn2(self.conv2(x))))  # 16x16 → 8x8\n",
    "        x = self.pool(F.relu(self.bn3(self.conv3(x))))  # 8x8 → 4x4\n",
    "        x = x.view(x.size(0), -1)\n",
    "        x = self.dropout(F.relu(self.fc1(x)))\n",
    "        return self.fc2(x)\n"
   ]
  },
  {
   "cell_type": "code",
   "execution_count": 7,
   "id": "13818126",
   "metadata": {
    "execution": {
     "iopub.execute_input": "2025-07-05T18:53:31.692188Z",
     "iopub.status.busy": "2025-07-05T18:53:31.691581Z",
     "iopub.status.idle": "2025-07-05T18:53:31.696171Z",
     "shell.execute_reply": "2025-07-05T18:53:31.695650Z"
    },
    "papermill": {
     "duration": 0.029685,
     "end_time": "2025-07-05T18:53:31.697159",
     "exception": false,
     "start_time": "2025-07-05T18:53:31.667474",
     "status": "completed"
    },
    "tags": []
   },
   "outputs": [],
   "source": [
    "def evaluate(model, loader):\n",
    "    model.eval()\n",
    "    correct = 0\n",
    "    total = 0\n",
    "    with torch.no_grad():\n",
    "        for images, labels in loader:\n",
    "            images, labels = images.to(device), labels.to(device)\n",
    "            outputs = model(images)\n",
    "            _, predicted = torch.max(outputs, 1)\n",
    "            total += labels.size(0)\n",
    "            correct += (predicted == labels).sum().item()\n",
    "    return 100 * correct / total\n"
   ]
  },
  {
   "cell_type": "code",
   "execution_count": 8,
   "id": "79450f96",
   "metadata": {
    "execution": {
     "iopub.execute_input": "2025-07-05T18:53:31.744840Z",
     "iopub.status.busy": "2025-07-05T18:53:31.744321Z",
     "iopub.status.idle": "2025-07-05T18:53:31.751515Z",
     "shell.execute_reply": "2025-07-05T18:53:31.750774Z"
    },
    "papermill": {
     "duration": 0.032277,
     "end_time": "2025-07-05T18:53:31.752779",
     "exception": false,
     "start_time": "2025-07-05T18:53:31.720502",
     "status": "completed"
    },
    "tags": []
   },
   "outputs": [],
   "source": [
    "def train_with_kl_and_ce(student_model, teacher_model, loader, optimizer, epochs=600, temperature=4, alpha=0.5):\n",
    "    kl_loss = nn.KLDivLoss(reduction='batchmean')\n",
    "    ce_loss = nn.CrossEntropyLoss()\n",
    "    student_model.train()\n",
    "    teacher_model.eval()\n",
    "    best_val_acc = 0\n",
    "    patience = 15\n",
    "    epochs_no_improve = 0\n",
    "    for epoch in range(epochs):\n",
    "        total_loss = 0\n",
    "        for images, labels in loader:\n",
    "            images, labels = images.to(device), labels.to(device)\n",
    "\n",
    "            with torch.no_grad():\n",
    "                teacher_logits = teacher_model(images)\n",
    "                teacher_probs = F.softmax(teacher_logits / temperature, dim=1)\n",
    "              \n",
    "            optimizer.zero_grad()\n",
    "            student_logits = student_model(images)\n",
    "\n",
    "            # KL Divergence Loss\n",
    "            student_log_probs = F.log_softmax(student_logits / temperature, dim=1)\n",
    "\n",
    "            loss_kl = kl_loss(student_log_probs, teacher_probs) * (temperature ** 2)\n",
    "\n",
    "            # Cross-Entropy Loss\n",
    "            loss_ce = ce_loss(student_logits, labels)\n",
    "\n",
    "            # Combined Loss\n",
    "            loss = alpha * loss_kl + (1 - alpha) * loss_ce\n",
    "\n",
    "            loss.backward()\n",
    "            optimizer.step()\n",
    "            total_loss += loss.item()\n",
    "        val_acc = evaluate(student_model, val_loader)\n",
    "        \n",
    "        if val_acc > best_val_acc:\n",
    "                best_val_acc = val_acc\n",
    "                epochs_no_improve = 0\n",
    "                # Save best model\n",
    "                torch.save(student_model.state_dict(), \"best_student_model.pth\")\n",
    "        else:\n",
    "                epochs_no_improve += 1\n",
    "        \n",
    "        if epochs_no_improve >= patience:\n",
    "                print(f\"Early stopping at epoch {epoch+1}\")\n",
    "                break\n",
    "        print(f\"Epoch {epoch+1}, Total Loss: {total_loss:.4f} Validation :{val_acc}\")\n"
   ]
  },
  {
   "cell_type": "code",
   "execution_count": 9,
   "id": "e6cf3648",
   "metadata": {
    "execution": {
     "iopub.execute_input": "2025-07-05T18:53:31.853074Z",
     "iopub.status.busy": "2025-07-05T18:53:31.852783Z",
     "iopub.status.idle": "2025-07-05T18:53:31.865136Z",
     "shell.execute_reply": "2025-07-05T18:53:31.864400Z"
    },
    "papermill": {
     "duration": 0.037486,
     "end_time": "2025-07-05T18:53:31.866291",
     "exception": false,
     "start_time": "2025-07-05T18:53:31.828805",
     "status": "completed"
    },
    "tags": []
   },
   "outputs": [],
   "source": [
    "student_model_kl = StudentCNN()"
   ]
  },
  {
   "cell_type": "code",
   "execution_count": 10,
   "id": "9ff69cca",
   "metadata": {
    "execution": {
     "iopub.execute_input": "2025-07-05T18:53:31.913446Z",
     "iopub.status.busy": "2025-07-05T18:53:31.912825Z",
     "iopub.status.idle": "2025-07-05T19:08:38.160239Z",
     "shell.execute_reply": "2025-07-05T19:08:38.159374Z"
    },
    "papermill": {
     "duration": 906.303919,
     "end_time": "2025-07-05T19:08:38.193401",
     "exception": false,
     "start_time": "2025-07-05T18:53:31.889482",
     "status": "completed"
    },
    "tags": []
   },
   "outputs": [
    {
     "name": "stdout",
     "output_type": "stream",
     "text": [
      "Epoch 1, Total Loss: 2110.0060 Validation :61.64\n",
      "Epoch 2, Total Loss: 1430.2773 Validation :72.06\n",
      "Epoch 3, Total Loss: 1163.7031 Validation :75.82\n",
      "Epoch 4, Total Loss: 999.1283 Validation :77.76\n",
      "Epoch 5, Total Loss: 868.1256 Validation :77.9\n",
      "Epoch 6, Total Loss: 748.2551 Validation :78.88\n",
      "Epoch 7, Total Loss: 647.0657 Validation :78.34\n",
      "Epoch 8, Total Loss: 553.0586 Validation :79.6\n",
      "Epoch 9, Total Loss: 469.1388 Validation :79.4\n",
      "Epoch 10, Total Loss: 398.4411 Validation :79.0\n",
      "Epoch 11, Total Loss: 341.9404 Validation :79.4\n",
      "Epoch 12, Total Loss: 296.6004 Validation :79.38\n",
      "Epoch 13, Total Loss: 271.7975 Validation :78.86\n",
      "Epoch 14, Total Loss: 249.9768 Validation :79.38\n",
      "Epoch 15, Total Loss: 229.8278 Validation :77.68\n",
      "Epoch 16, Total Loss: 214.8666 Validation :78.62\n",
      "Epoch 17, Total Loss: 203.7636 Validation :79.88\n",
      "Epoch 18, Total Loss: 197.5127 Validation :79.0\n",
      "Epoch 19, Total Loss: 194.9104 Validation :79.4\n",
      "Epoch 20, Total Loss: 187.3984 Validation :79.06\n",
      "Epoch 21, Total Loss: 186.3860 Validation :78.86\n",
      "Epoch 22, Total Loss: 180.1358 Validation :78.58\n",
      "Epoch 23, Total Loss: 172.6418 Validation :78.42\n",
      "Epoch 24, Total Loss: 174.6268 Validation :77.7\n",
      "Epoch 25, Total Loss: 170.3975 Validation :79.2\n",
      "Epoch 26, Total Loss: 160.5827 Validation :78.82\n",
      "Epoch 27, Total Loss: 162.5452 Validation :78.58\n",
      "Epoch 28, Total Loss: 165.1150 Validation :78.26\n",
      "Epoch 29, Total Loss: 163.2674 Validation :78.2\n",
      "Epoch 30, Total Loss: 160.5113 Validation :78.26\n",
      "Epoch 31, Total Loss: 156.0552 Validation :78.8\n",
      "Early stopping at epoch 32\n"
     ]
    }
   ],
   "source": [
    "\n",
    "\n",
    "student_model_kl.to(device)\n",
    "optimizer_kl =torch.optim.Adam(student_model_kl.parameters(), lr=1e-3, weight_decay=5e-4)\n",
    "\n",
    "\n",
    "\n",
    "train_with_kl_and_ce(student_model_kl, teacher_model, train_loader, optimizer_kl)"
   ]
  },
  {
   "cell_type": "code",
   "execution_count": 11,
   "id": "0a9ef28a",
   "metadata": {
    "execution": {
     "iopub.execute_input": "2025-07-05T19:08:38.242960Z",
     "iopub.status.busy": "2025-07-05T19:08:38.242666Z",
     "iopub.status.idle": "2025-07-05T19:08:38.255958Z",
     "shell.execute_reply": "2025-07-05T19:08:38.255234Z"
    },
    "papermill": {
     "duration": 0.039442,
     "end_time": "2025-07-05T19:08:38.257062",
     "exception": false,
     "start_time": "2025-07-05T19:08:38.217620",
     "status": "completed"
    },
    "tags": []
   },
   "outputs": [],
   "source": [
    "torch.save(student_model_kl, '/kaggle/working/model.pth')"
   ]
  },
  {
   "cell_type": "code",
   "execution_count": 12,
   "id": "a18534ab",
   "metadata": {
    "execution": {
     "iopub.execute_input": "2025-07-05T19:08:38.307917Z",
     "iopub.status.busy": "2025-07-05T19:08:38.307638Z",
     "iopub.status.idle": "2025-07-05T19:08:39.476748Z",
     "shell.execute_reply": "2025-07-05T19:08:39.476007Z"
    },
    "papermill": {
     "duration": 1.196079,
     "end_time": "2025-07-05T19:08:39.477978",
     "exception": false,
     "start_time": "2025-07-05T19:08:38.281899",
     "status": "completed"
    },
    "tags": []
   },
   "outputs": [
    {
     "name": "stdout",
     "output_type": "stream",
     "text": [
      "Test Accuracy: 78.78%\n"
     ]
    }
   ],
   "source": [
    "correct = 0\n",
    "total = 0\n",
    "# test_dataset = datasets.CIFAR10(root='./data', train=False, download=True, transform=transform)\n",
    "# test_loader = DataLoader(test_dataset, batch_size=128 , shuffle=False)\n",
    "with torch.no_grad():\n",
    "    for images, labels in test_loader:\n",
    "        outputs = student_model_kl(images.to(device))\n",
    "        _, predicted = torch.max(outputs.data, 1)\n",
    "        total += labels.size(0)\n",
    "        correct += (predicted == labels.to(device)).sum().item()\n",
    "\n",
    "accuracy = 100 * correct / total\n",
    "print(f'Test Accuracy: {accuracy:.2f}%')"
   ]
  }
 ],
 "metadata": {
  "kaggle": {
   "accelerator": "gpu",
   "dataSources": [
    {
     "isSourceIdPinned": true,
     "modelId": 393260,
     "modelInstanceId": 372382,
     "sourceId": 459489,
     "sourceType": "modelInstanceVersion"
    }
   ],
   "dockerImageVersionId": 31041,
   "isGpuEnabled": true,
   "isInternetEnabled": true,
   "language": "python",
   "sourceType": "notebook"
  },
  "kernelspec": {
   "display_name": "Python 3",
   "language": "python",
   "name": "python3"
  },
  "language_info": {
   "codemirror_mode": {
    "name": "ipython",
    "version": 3
   },
   "file_extension": ".py",
   "mimetype": "text/x-python",
   "name": "python",
   "nbconvert_exporter": "python",
   "pygments_lexer": "ipython3",
   "version": "3.11.11"
  },
  "papermill": {
   "default_parameters": {},
   "duration": 1039.661744,
   "end_time": "2025-07-05T19:08:42.619984",
   "environment_variables": {},
   "exception": null,
   "input_path": "__notebook__.ipynb",
   "output_path": "__notebook__.ipynb",
   "parameters": {},
   "start_time": "2025-07-05T18:51:22.958240",
   "version": "2.6.0"
  }
 },
 "nbformat": 4,
 "nbformat_minor": 5
}
